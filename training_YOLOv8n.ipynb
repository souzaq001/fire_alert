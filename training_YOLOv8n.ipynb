{
 "cells": [
  {
   "cell_type": "code",
   "execution_count": 5,
   "metadata": {},
   "outputs": [],
   "source": [
    "from ultralytics import YOLO, settings\n",
    "import cv2"
   ]
  },
  {
   "cell_type": "code",
   "execution_count": 2,
   "metadata": {},
   "outputs": [],
   "source": [
    "settings.update({'runs_dir': './runs'})"
   ]
  },
  {
   "cell_type": "code",
   "execution_count": 3,
   "metadata": {},
   "outputs": [
    {
     "name": "stdout",
     "output_type": "stream",
     "text": [
      "Downloading https://github.com/ultralytics/assets/releases/download/v8.1.0/yolov8n.pt to 'yolov8n.pt'...\n"
     ]
    },
    {
     "name": "stderr",
     "output_type": "stream",
     "text": [
      "100%|██████████| 6.23M/6.23M [00:00<00:00, 12.6MB/s]\n"
     ]
    }
   ],
   "source": [
    "model = YOLO('yolov8n') "
   ]
  },
  {
   "cell_type": "code",
   "execution_count": 4,
   "metadata": {},
   "outputs": [
    {
     "name": "stdout",
     "output_type": "stream",
     "text": [
      "New https://pypi.org/project/ultralytics/8.1.11 available 😃 Update with 'pip install -U ultralytics'\n",
      "Ultralytics YOLOv8.1.10 🚀 Python-3.8.10 torch-2.2.0+cpu CPU (Intel Core(TM) i5-8350U 1.70GHz)\n",
      "\u001b[34m\u001b[1mengine\\trainer: \u001b[0mtask=detect, mode=train, model=yolov8n.pt, data=custom_dataset.yaml, epochs=30, time=None, patience=8, batch=-1, imgsz=640, save=True, save_period=-1, cache=False, device=None, workers=8, project=None, name=train, exist_ok=False, pretrained=True, optimizer=auto, verbose=True, seed=0, deterministic=True, single_cls=False, rect=False, cos_lr=False, close_mosaic=10, resume=False, amp=True, fraction=1.0, profile=False, freeze=None, multi_scale=False, overlap_mask=True, mask_ratio=4, dropout=0.0, val=True, split=val, save_json=False, save_hybrid=False, conf=None, iou=0.7, max_det=300, half=False, dnn=False, plots=True, source=None, vid_stride=1, stream_buffer=False, visualize=False, augment=False, agnostic_nms=False, classes=None, retina_masks=False, embed=None, show=False, save_frames=False, save_txt=False, save_conf=False, save_crop=False, show_labels=True, show_conf=True, show_boxes=True, line_width=None, format=torchscript, keras=False, optimize=False, int8=False, dynamic=False, simplify=False, opset=None, workspace=4, nms=False, lr0=0.01, lrf=0.01, momentum=0.937, weight_decay=0.0005, warmup_epochs=3.0, warmup_momentum=0.8, warmup_bias_lr=0.1, box=7.5, cls=0.5, dfl=1.5, pose=12.0, kobj=1.0, label_smoothing=0.0, nbs=64, hsv_h=0.015, hsv_s=0.3, hsv_v=0.3, degrees=0.3, translate=0.1, scale=0.5, shear=0.0, perspective=0.0, flipud=0.0, fliplr=0.5, mosaic=1.0, mixup=0.0, copy_paste=0.0, auto_augment=randaugment, erasing=0.4, crop_fraction=1.0, cfg=None, tracker=botsort.yaml, save_dir=runs\\detect\\train\n",
      "Overriding model.yaml nc=80 with nc=1\n",
      "\n",
      "                   from  n    params  module                                       arguments                     \n",
      "  0                  -1  1       464  ultralytics.nn.modules.conv.Conv             [3, 16, 3, 2]                 \n",
      "  1                  -1  1      4672  ultralytics.nn.modules.conv.Conv             [16, 32, 3, 2]                \n",
      "  2                  -1  1      7360  ultralytics.nn.modules.block.C2f             [32, 32, 1, True]             \n",
      "  3                  -1  1     18560  ultralytics.nn.modules.conv.Conv             [32, 64, 3, 2]                \n",
      "  4                  -1  2     49664  ultralytics.nn.modules.block.C2f             [64, 64, 2, True]             \n",
      "  5                  -1  1     73984  ultralytics.nn.modules.conv.Conv             [64, 128, 3, 2]               \n",
      "  6                  -1  2    197632  ultralytics.nn.modules.block.C2f             [128, 128, 2, True]           \n",
      "  7                  -1  1    295424  ultralytics.nn.modules.conv.Conv             [128, 256, 3, 2]              \n",
      "  8                  -1  1    460288  ultralytics.nn.modules.block.C2f             [256, 256, 1, True]           \n",
      "  9                  -1  1    164608  ultralytics.nn.modules.block.SPPF            [256, 256, 5]                 \n",
      " 10                  -1  1         0  torch.nn.modules.upsampling.Upsample         [None, 2, 'nearest']          \n",
      " 11             [-1, 6]  1         0  ultralytics.nn.modules.conv.Concat           [1]                           \n",
      " 12                  -1  1    148224  ultralytics.nn.modules.block.C2f             [384, 128, 1]                 \n",
      " 13                  -1  1         0  torch.nn.modules.upsampling.Upsample         [None, 2, 'nearest']          \n",
      " 14             [-1, 4]  1         0  ultralytics.nn.modules.conv.Concat           [1]                           \n",
      " 15                  -1  1     37248  ultralytics.nn.modules.block.C2f             [192, 64, 1]                  \n",
      " 16                  -1  1     36992  ultralytics.nn.modules.conv.Conv             [64, 64, 3, 2]                \n",
      " 17            [-1, 12]  1         0  ultralytics.nn.modules.conv.Concat           [1]                           \n",
      " 18                  -1  1    123648  ultralytics.nn.modules.block.C2f             [192, 128, 1]                 \n",
      " 19                  -1  1    147712  ultralytics.nn.modules.conv.Conv             [128, 128, 3, 2]              \n",
      " 20             [-1, 9]  1         0  ultralytics.nn.modules.conv.Concat           [1]                           \n",
      " 21                  -1  1    493056  ultralytics.nn.modules.block.C2f             [384, 256, 1]                 \n",
      " 22        [15, 18, 21]  1    751507  ultralytics.nn.modules.head.Detect           [1, [64, 128, 256]]           \n",
      "Model summary: 225 layers, 3011043 parameters, 3011027 gradients, 8.2 GFLOPs\n",
      "\n",
      "Transferred 319/355 items from pretrained weights\n",
      "Freezing layer 'model.22.dfl.conv.weight'\n",
      "\u001b[34m\u001b[1mAutoBatch: \u001b[0mComputing optimal batch size for imgsz=640\n",
      "\u001b[34m\u001b[1mAutoBatch: \u001b[0mCUDA not detected, using default CPU batch-size 16\n"
     ]
    },
    {
     "name": "stderr",
     "output_type": "stream",
     "text": [
      "\u001b[34m\u001b[1mtrain: \u001b[0mScanning C:\\Users\\souzaqu001\\Desktop\\fire_alert\\data\\fire\\train\\labels... 192 images, 0 backgrounds, 0 corrupt: 100%|██████████| 192/192 [00:00<00:00, 347.98it/s]\n"
     ]
    },
    {
     "name": "stdout",
     "output_type": "stream",
     "text": [
      "\u001b[34m\u001b[1mtrain: \u001b[0mNew cache created: C:\\Users\\souzaqu001\\Desktop\\fire_alert\\data\\fire\\train\\labels.cache\n"
     ]
    },
    {
     "name": "stderr",
     "output_type": "stream",
     "text": [
      "\u001b[34m\u001b[1mval: \u001b[0mScanning C:\\Users\\souzaqu001\\Desktop\\fire_alert\\data\\fire\\valid\\labels... 20 images, 0 backgrounds, 0 corrupt: 100%|██████████| 20/20 [00:00<00:00, 312.51it/s]"
     ]
    },
    {
     "name": "stdout",
     "output_type": "stream",
     "text": [
      "\u001b[34m\u001b[1mval: \u001b[0mNew cache created: C:\\Users\\souzaqu001\\Desktop\\fire_alert\\data\\fire\\valid\\labels.cache\n"
     ]
    },
    {
     "name": "stderr",
     "output_type": "stream",
     "text": [
      "\n"
     ]
    },
    {
     "name": "stdout",
     "output_type": "stream",
     "text": [
      "Plotting labels to runs\\detect\\train\\labels.jpg... \n",
      "\u001b[34m\u001b[1moptimizer:\u001b[0m 'optimizer=auto' found, ignoring 'lr0=0.01' and 'momentum=0.937' and determining best 'optimizer', 'lr0' and 'momentum' automatically... \n",
      "\u001b[34m\u001b[1moptimizer:\u001b[0m AdamW(lr=0.002, momentum=0.9) with parameter groups 57 weight(decay=0.0), 64 weight(decay=0.0005), 63 bias(decay=0.0)\n",
      "Image sizes 640 train, 640 val\n",
      "Using 0 dataloader workers\n",
      "Logging results to \u001b[1mruns\\detect\\train\u001b[0m\n",
      "Starting training for 30 epochs...\n",
      "\n",
      "      Epoch    GPU_mem   box_loss   cls_loss   dfl_loss  Instances       Size\n"
     ]
    },
    {
     "name": "stderr",
     "output_type": "stream",
     "text": [
      "       1/30         0G      2.398      3.412      2.073        124        640: 100%|██████████| 12/12 [01:57<00:00,  9.83s/it]\n",
      "                 Class     Images  Instances      Box(P          R      mAP50  mAP50-95): 100%|██████████| 1/1 [00:04<00:00,  4.31s/it]"
     ]
    },
    {
     "name": "stdout",
     "output_type": "stream",
     "text": [
      "                   all         20         58    0.00733      0.759     0.0298     0.0111\n"
     ]
    },
    {
     "name": "stderr",
     "output_type": "stream",
     "text": [
      "\n"
     ]
    },
    {
     "name": "stdout",
     "output_type": "stream",
     "text": [
      "\n",
      "      Epoch    GPU_mem   box_loss   cls_loss   dfl_loss  Instances       Size\n"
     ]
    },
    {
     "name": "stderr",
     "output_type": "stream",
     "text": [
      "       2/30         0G      2.332      2.614       1.81        153        640: 100%|██████████| 12/12 [02:03<00:00, 10.27s/it]\n",
      "                 Class     Images  Instances      Box(P          R      mAP50  mAP50-95): 100%|██████████| 1/1 [00:05<00:00,  5.62s/it]"
     ]
    },
    {
     "name": "stdout",
     "output_type": "stream",
     "text": [
      "                   all         20         58    0.00667       0.69     0.0147    0.00441\n"
     ]
    },
    {
     "name": "stderr",
     "output_type": "stream",
     "text": [
      "\n"
     ]
    },
    {
     "name": "stdout",
     "output_type": "stream",
     "text": [
      "\n",
      "      Epoch    GPU_mem   box_loss   cls_loss   dfl_loss  Instances       Size\n"
     ]
    },
    {
     "name": "stderr",
     "output_type": "stream",
     "text": [
      "       3/30         0G      2.164       2.48      1.744        144        640: 100%|██████████| 12/12 [02:08<00:00, 10.69s/it]\n",
      "                 Class     Images  Instances      Box(P          R      mAP50  mAP50-95): 100%|██████████| 1/1 [00:05<00:00,  5.04s/it]"
     ]
    },
    {
     "name": "stdout",
     "output_type": "stream",
     "text": [
      "                   all         20         58      0.007      0.724      0.121     0.0481\n"
     ]
    },
    {
     "name": "stderr",
     "output_type": "stream",
     "text": [
      "\n"
     ]
    },
    {
     "name": "stdout",
     "output_type": "stream",
     "text": [
      "\n",
      "      Epoch    GPU_mem   box_loss   cls_loss   dfl_loss  Instances       Size\n"
     ]
    },
    {
     "name": "stderr",
     "output_type": "stream",
     "text": [
      "       4/30         0G      2.186      2.383      1.748        150        640: 100%|██████████| 12/12 [01:58<00:00,  9.84s/it]\n",
      "                 Class     Images  Instances      Box(P          R      mAP50  mAP50-95): 100%|██████████| 1/1 [00:05<00:00,  5.83s/it]"
     ]
    },
    {
     "name": "stdout",
     "output_type": "stream",
     "text": [
      "                   all         20         58      0.588     0.0172      0.144       0.04\n"
     ]
    },
    {
     "name": "stderr",
     "output_type": "stream",
     "text": [
      "\n"
     ]
    },
    {
     "name": "stdout",
     "output_type": "stream",
     "text": [
      "\n",
      "      Epoch    GPU_mem   box_loss   cls_loss   dfl_loss  Instances       Size\n"
     ]
    },
    {
     "name": "stderr",
     "output_type": "stream",
     "text": [
      "       5/30         0G      2.163      2.315      1.731        136        640: 100%|██████████| 12/12 [02:03<00:00, 10.29s/it]\n",
      "                 Class     Images  Instances      Box(P          R      mAP50  mAP50-95): 100%|██████████| 1/1 [00:05<00:00,  5.08s/it]"
     ]
    },
    {
     "name": "stdout",
     "output_type": "stream",
     "text": [
      "                   all         20         58      0.102     0.0345     0.0781      0.023\n"
     ]
    },
    {
     "name": "stderr",
     "output_type": "stream",
     "text": [
      "\n"
     ]
    },
    {
     "name": "stdout",
     "output_type": "stream",
     "text": [
      "\n",
      "      Epoch    GPU_mem   box_loss   cls_loss   dfl_loss  Instances       Size\n"
     ]
    },
    {
     "name": "stderr",
     "output_type": "stream",
     "text": [
      "       6/30         0G      2.134        2.2      1.776        131        640: 100%|██████████| 12/12 [02:00<00:00, 10.08s/it]\n",
      "                 Class     Images  Instances      Box(P          R      mAP50  mAP50-95): 100%|██████████| 1/1 [00:05<00:00,  5.18s/it]"
     ]
    },
    {
     "name": "stdout",
     "output_type": "stream",
     "text": [
      "                   all         20         58      0.137      0.138     0.0811      0.021\n"
     ]
    },
    {
     "name": "stderr",
     "output_type": "stream",
     "text": [
      "\n"
     ]
    },
    {
     "name": "stdout",
     "output_type": "stream",
     "text": [
      "\n",
      "      Epoch    GPU_mem   box_loss   cls_loss   dfl_loss  Instances       Size\n"
     ]
    },
    {
     "name": "stderr",
     "output_type": "stream",
     "text": [
      "       7/30         0G      2.163      2.264      1.785        160        640: 100%|██████████| 12/12 [01:58<00:00,  9.90s/it]\n",
      "                 Class     Images  Instances      Box(P          R      mAP50  mAP50-95): 100%|██████████| 1/1 [00:05<00:00,  5.15s/it]"
     ]
    },
    {
     "name": "stdout",
     "output_type": "stream",
     "text": [
      "                   all         20         58      0.185      0.155        0.1     0.0279\n"
     ]
    },
    {
     "name": "stderr",
     "output_type": "stream",
     "text": [
      "\n"
     ]
    },
    {
     "name": "stdout",
     "output_type": "stream",
     "text": [
      "\n",
      "      Epoch    GPU_mem   box_loss   cls_loss   dfl_loss  Instances       Size\n"
     ]
    },
    {
     "name": "stderr",
     "output_type": "stream",
     "text": [
      "       8/30         0G      2.084      2.201      1.738         95        640: 100%|██████████| 12/12 [01:58<00:00,  9.88s/it]\n",
      "                 Class     Images  Instances      Box(P          R      mAP50  mAP50-95): 100%|██████████| 1/1 [00:05<00:00,  5.54s/it]"
     ]
    },
    {
     "name": "stdout",
     "output_type": "stream",
     "text": [
      "                   all         20         58      0.233      0.172     0.0981     0.0313\n"
     ]
    },
    {
     "name": "stderr",
     "output_type": "stream",
     "text": [
      "\n"
     ]
    },
    {
     "name": "stdout",
     "output_type": "stream",
     "text": [
      "\n",
      "      Epoch    GPU_mem   box_loss   cls_loss   dfl_loss  Instances       Size\n"
     ]
    },
    {
     "name": "stderr",
     "output_type": "stream",
     "text": [
      "       9/30         0G      2.104      2.164      1.721        125        640: 100%|██████████| 12/12 [01:57<00:00,  9.78s/it]\n",
      "                 Class     Images  Instances      Box(P          R      mAP50  mAP50-95): 100%|██████████| 1/1 [00:04<00:00,  4.89s/it]"
     ]
    },
    {
     "name": "stdout",
     "output_type": "stream",
     "text": [
      "                   all         20         58      0.232      0.121      0.076     0.0224\n"
     ]
    },
    {
     "name": "stderr",
     "output_type": "stream",
     "text": [
      "\n"
     ]
    },
    {
     "name": "stdout",
     "output_type": "stream",
     "text": [
      "\n",
      "      Epoch    GPU_mem   box_loss   cls_loss   dfl_loss  Instances       Size\n"
     ]
    },
    {
     "name": "stderr",
     "output_type": "stream",
     "text": [
      "      10/30         0G      2.029      2.116      1.704        137        640: 100%|██████████| 12/12 [01:52<00:00,  9.39s/it]\n",
      "                 Class     Images  Instances      Box(P          R      mAP50  mAP50-95): 100%|██████████| 1/1 [00:04<00:00,  4.49s/it]"
     ]
    },
    {
     "name": "stdout",
     "output_type": "stream",
     "text": [
      "                   all         20         58      0.239      0.155       0.11     0.0438\n"
     ]
    },
    {
     "name": "stderr",
     "output_type": "stream",
     "text": [
      "\n"
     ]
    },
    {
     "name": "stdout",
     "output_type": "stream",
     "text": [
      "\n",
      "      Epoch    GPU_mem   box_loss   cls_loss   dfl_loss  Instances       Size\n"
     ]
    },
    {
     "name": "stderr",
     "output_type": "stream",
     "text": [
      "      11/30         0G      2.038      2.079      1.746        150        640: 100%|██████████| 12/12 [01:48<00:00,  9.07s/it]\n",
      "                 Class     Images  Instances      Box(P          R      mAP50  mAP50-95): 100%|██████████| 1/1 [00:04<00:00,  4.28s/it]"
     ]
    },
    {
     "name": "stdout",
     "output_type": "stream",
     "text": [
      "                   all         20         58      0.131      0.241      0.108     0.0515\n"
     ]
    },
    {
     "name": "stderr",
     "output_type": "stream",
     "text": [
      "\n"
     ]
    },
    {
     "name": "stdout",
     "output_type": "stream",
     "text": [
      "\n",
      "      Epoch    GPU_mem   box_loss   cls_loss   dfl_loss  Instances       Size\n"
     ]
    },
    {
     "name": "stderr",
     "output_type": "stream",
     "text": [
      "      12/30         0G      2.028      2.014      1.715        139        640: 100%|██████████| 12/12 [01:50<00:00,  9.20s/it]\n",
      "                 Class     Images  Instances      Box(P          R      mAP50  mAP50-95): 100%|██████████| 1/1 [00:04<00:00,  4.47s/it]"
     ]
    },
    {
     "name": "stdout",
     "output_type": "stream",
     "text": [
      "                   all         20         58      0.236      0.207      0.143     0.0598\n"
     ]
    },
    {
     "name": "stderr",
     "output_type": "stream",
     "text": [
      "\n"
     ]
    },
    {
     "name": "stdout",
     "output_type": "stream",
     "text": [
      "\n",
      "      Epoch    GPU_mem   box_loss   cls_loss   dfl_loss  Instances       Size\n"
     ]
    },
    {
     "name": "stderr",
     "output_type": "stream",
     "text": [
      "      13/30         0G      1.994      1.999      1.673        112        640: 100%|██████████| 12/12 [01:49<00:00,  9.12s/it]\n",
      "                 Class     Images  Instances      Box(P          R      mAP50  mAP50-95): 100%|██████████| 1/1 [00:04<00:00,  4.54s/it]"
     ]
    },
    {
     "name": "stdout",
     "output_type": "stream",
     "text": [
      "                   all         20         58      0.256       0.31      0.147     0.0541\n"
     ]
    },
    {
     "name": "stderr",
     "output_type": "stream",
     "text": [
      "\n"
     ]
    },
    {
     "name": "stdout",
     "output_type": "stream",
     "text": [
      "\n",
      "      Epoch    GPU_mem   box_loss   cls_loss   dfl_loss  Instances       Size\n"
     ]
    },
    {
     "name": "stderr",
     "output_type": "stream",
     "text": [
      "      14/30         0G       2.01      1.947      1.651        131        640: 100%|██████████| 12/12 [01:56<00:00,  9.73s/it]\n",
      "                 Class     Images  Instances      Box(P          R      mAP50  mAP50-95): 100%|██████████| 1/1 [00:05<00:00,  5.01s/it]"
     ]
    },
    {
     "name": "stdout",
     "output_type": "stream",
     "text": [
      "                   all         20         58      0.246      0.259      0.155     0.0538\n"
     ]
    },
    {
     "name": "stderr",
     "output_type": "stream",
     "text": [
      "\n"
     ]
    },
    {
     "name": "stdout",
     "output_type": "stream",
     "text": [
      "\n",
      "      Epoch    GPU_mem   box_loss   cls_loss   dfl_loss  Instances       Size\n"
     ]
    },
    {
     "name": "stderr",
     "output_type": "stream",
     "text": [
      "      15/30         0G      1.993      1.949      1.628        177        640: 100%|██████████| 12/12 [01:57<00:00,  9.80s/it]\n",
      "                 Class     Images  Instances      Box(P          R      mAP50  mAP50-95): 100%|██████████| 1/1 [00:05<00:00,  5.00s/it]"
     ]
    },
    {
     "name": "stdout",
     "output_type": "stream",
     "text": [
      "                   all         20         58      0.277      0.138     0.0903     0.0267\n"
     ]
    },
    {
     "name": "stderr",
     "output_type": "stream",
     "text": [
      "\n"
     ]
    },
    {
     "name": "stdout",
     "output_type": "stream",
     "text": [
      "\n",
      "      Epoch    GPU_mem   box_loss   cls_loss   dfl_loss  Instances       Size\n"
     ]
    },
    {
     "name": "stderr",
     "output_type": "stream",
     "text": [
      "      16/30         0G      1.942      1.877      1.621        124        640: 100%|██████████| 12/12 [01:55<00:00,  9.63s/it]\n",
      "                 Class     Images  Instances      Box(P          R      mAP50  mAP50-95): 100%|██████████| 1/1 [00:04<00:00,  4.23s/it]"
     ]
    },
    {
     "name": "stdout",
     "output_type": "stream",
     "text": [
      "                   all         20         58      0.333      0.207      0.132     0.0478\n"
     ]
    },
    {
     "name": "stderr",
     "output_type": "stream",
     "text": [
      "\n"
     ]
    },
    {
     "name": "stdout",
     "output_type": "stream",
     "text": [
      "\n",
      "      Epoch    GPU_mem   box_loss   cls_loss   dfl_loss  Instances       Size\n"
     ]
    },
    {
     "name": "stderr",
     "output_type": "stream",
     "text": [
      "      17/30         0G      1.956      1.868      1.638        140        640: 100%|██████████| 12/12 [01:48<00:00,  9.06s/it]\n",
      "                 Class     Images  Instances      Box(P          R      mAP50  mAP50-95): 100%|██████████| 1/1 [00:04<00:00,  4.16s/it]"
     ]
    },
    {
     "name": "stdout",
     "output_type": "stream",
     "text": [
      "                   all         20         58      0.325      0.233       0.14     0.0522\n"
     ]
    },
    {
     "name": "stderr",
     "output_type": "stream",
     "text": [
      "\n"
     ]
    },
    {
     "name": "stdout",
     "output_type": "stream",
     "text": [
      "\n",
      "      Epoch    GPU_mem   box_loss   cls_loss   dfl_loss  Instances       Size\n"
     ]
    },
    {
     "name": "stderr",
     "output_type": "stream",
     "text": [
      "      18/30         0G      1.889      1.836      1.586        112        640: 100%|██████████| 12/12 [01:59<00:00,  9.95s/it]\n",
      "                 Class     Images  Instances      Box(P          R      mAP50  mAP50-95): 100%|██████████| 1/1 [00:05<00:00,  5.35s/it]"
     ]
    },
    {
     "name": "stdout",
     "output_type": "stream",
     "text": [
      "                   all         20         58       0.21      0.328      0.158     0.0571\n"
     ]
    },
    {
     "name": "stderr",
     "output_type": "stream",
     "text": [
      "\n"
     ]
    },
    {
     "name": "stdout",
     "output_type": "stream",
     "text": [
      "\n",
      "      Epoch    GPU_mem   box_loss   cls_loss   dfl_loss  Instances       Size\n"
     ]
    },
    {
     "name": "stderr",
     "output_type": "stream",
     "text": [
      "      19/30         0G      1.906      1.829      1.576        180        640: 100%|██████████| 12/12 [02:05<00:00, 10.42s/it]\n",
      "                 Class     Images  Instances      Box(P          R      mAP50  mAP50-95): 100%|██████████| 1/1 [00:04<00:00,  4.64s/it]"
     ]
    },
    {
     "name": "stdout",
     "output_type": "stream",
     "text": [
      "                   all         20         58      0.254      0.172      0.109     0.0376\n"
     ]
    },
    {
     "name": "stderr",
     "output_type": "stream",
     "text": [
      "\n"
     ]
    },
    {
     "name": "stdout",
     "output_type": "stream",
     "text": [
      "\n",
      "      Epoch    GPU_mem   box_loss   cls_loss   dfl_loss  Instances       Size\n"
     ]
    },
    {
     "name": "stderr",
     "output_type": "stream",
     "text": [
      "      20/30         0G      1.876      1.755      1.549        149        640: 100%|██████████| 12/12 [02:37<00:00, 13.16s/it]\n",
      "                 Class     Images  Instances      Box(P          R      mAP50  mAP50-95): 100%|██████████| 1/1 [00:05<00:00,  5.33s/it]"
     ]
    },
    {
     "name": "stdout",
     "output_type": "stream",
     "text": [
      "                   all         20         58      0.144      0.259      0.084     0.0235\n",
      "Stopping training early as no improvement observed in last 8 epochs. Best results observed at epoch 12, best model saved as best.pt.\n",
      "To update EarlyStopping(patience=8) pass a new patience value, i.e. `patience=300` or use `patience=0` to disable EarlyStopping.\n"
     ]
    },
    {
     "name": "stderr",
     "output_type": "stream",
     "text": [
      "\n"
     ]
    },
    {
     "name": "stdout",
     "output_type": "stream",
     "text": [
      "\n",
      "20 epochs completed in 0.696 hours.\n",
      "Optimizer stripped from runs\\detect\\train\\weights\\last.pt, 6.2MB\n",
      "Optimizer stripped from runs\\detect\\train\\weights\\best.pt, 6.2MB\n",
      "\n",
      "Validating runs\\detect\\train\\weights\\best.pt...\n",
      "Ultralytics YOLOv8.1.10 🚀 Python-3.8.10 torch-2.2.0+cpu CPU (Intel Core(TM) i5-8350U 1.70GHz)\n",
      "Model summary (fused): 168 layers, 3005843 parameters, 0 gradients, 8.1 GFLOPs\n"
     ]
    },
    {
     "name": "stderr",
     "output_type": "stream",
     "text": [
      "                 Class     Images  Instances      Box(P          R      mAP50  mAP50-95): 100%|██████████| 1/1 [00:05<00:00,  5.03s/it]\n"
     ]
    },
    {
     "name": "stdout",
     "output_type": "stream",
     "text": [
      "                   all         20         58      0.236      0.207      0.143     0.0601\n",
      "Speed: 3.3ms preprocess, 209.9ms inference, 0.0ms loss, 14.7ms postprocess per image\n",
      "Results saved to \u001b[1mruns\\detect\\train\u001b[0m\n"
     ]
    },
    {
     "data": {
      "text/plain": [
       "ultralytics.utils.metrics.DetMetrics object with attributes:\n",
       "\n",
       "ap_class_index: array([0])\n",
       "box: ultralytics.utils.metrics.Metric object\n",
       "confusion_matrix: <ultralytics.utils.metrics.ConfusionMatrix object at 0x0000019039A173D0>\n",
       "curves: ['Precision-Recall(B)', 'F1-Confidence(B)', 'Precision-Confidence(B)', 'Recall-Confidence(B)']\n",
       "curves_results: [[array([          0,    0.001001,    0.002002,    0.003003,    0.004004,    0.005005,    0.006006,    0.007007,    0.008008,    0.009009,     0.01001,    0.011011,    0.012012,    0.013013,    0.014014,    0.015015,    0.016016,    0.017017,    0.018018,    0.019019,     0.02002,    0.021021,    0.022022,    0.023023,\n",
       "          0.024024,    0.025025,    0.026026,    0.027027,    0.028028,    0.029029,     0.03003,    0.031031,    0.032032,    0.033033,    0.034034,    0.035035,    0.036036,    0.037037,    0.038038,    0.039039,     0.04004,    0.041041,    0.042042,    0.043043,    0.044044,    0.045045,    0.046046,    0.047047,\n",
       "          0.048048,    0.049049,     0.05005,    0.051051,    0.052052,    0.053053,    0.054054,    0.055055,    0.056056,    0.057057,    0.058058,    0.059059,     0.06006,    0.061061,    0.062062,    0.063063,    0.064064,    0.065065,    0.066066,    0.067067,    0.068068,    0.069069,     0.07007,    0.071071,\n",
       "          0.072072,    0.073073,    0.074074,    0.075075,    0.076076,    0.077077,    0.078078,    0.079079,     0.08008,    0.081081,    0.082082,    0.083083,    0.084084,    0.085085,    0.086086,    0.087087,    0.088088,    0.089089,     0.09009,    0.091091,    0.092092,    0.093093,    0.094094,    0.095095,\n",
       "          0.096096,    0.097097,    0.098098,    0.099099,      0.1001,      0.1011,      0.1021,      0.1031,      0.1041,     0.10511,     0.10611,     0.10711,     0.10811,     0.10911,     0.11011,     0.11111,     0.11211,     0.11311,     0.11411,     0.11512,     0.11612,     0.11712,     0.11812,     0.11912,\n",
       "           0.12012,     0.12112,     0.12212,     0.12312,     0.12412,     0.12513,     0.12613,     0.12713,     0.12813,     0.12913,     0.13013,     0.13113,     0.13213,     0.13313,     0.13413,     0.13514,     0.13614,     0.13714,     0.13814,     0.13914,     0.14014,     0.14114,     0.14214,     0.14314,\n",
       "           0.14414,     0.14515,     0.14615,     0.14715,     0.14815,     0.14915,     0.15015,     0.15115,     0.15215,     0.15315,     0.15415,     0.15516,     0.15616,     0.15716,     0.15816,     0.15916,     0.16016,     0.16116,     0.16216,     0.16316,     0.16416,     0.16517,     0.16617,     0.16717,\n",
       "           0.16817,     0.16917,     0.17017,     0.17117,     0.17217,     0.17317,     0.17417,     0.17518,     0.17618,     0.17718,     0.17818,     0.17918,     0.18018,     0.18118,     0.18218,     0.18318,     0.18418,     0.18519,     0.18619,     0.18719,     0.18819,     0.18919,     0.19019,     0.19119,\n",
       "           0.19219,     0.19319,     0.19419,      0.1952,      0.1962,      0.1972,      0.1982,      0.1992,      0.2002,      0.2012,      0.2022,      0.2032,      0.2042,     0.20521,     0.20621,     0.20721,     0.20821,     0.20921,     0.21021,     0.21121,     0.21221,     0.21321,     0.21421,     0.21522,\n",
       "           0.21622,     0.21722,     0.21822,     0.21922,     0.22022,     0.22122,     0.22222,     0.22322,     0.22422,     0.22523,     0.22623,     0.22723,     0.22823,     0.22923,     0.23023,     0.23123,     0.23223,     0.23323,     0.23423,     0.23524,     0.23624,     0.23724,     0.23824,     0.23924,\n",
       "           0.24024,     0.24124,     0.24224,     0.24324,     0.24424,     0.24525,     0.24625,     0.24725,     0.24825,     0.24925,     0.25025,     0.25125,     0.25225,     0.25325,     0.25425,     0.25526,     0.25626,     0.25726,     0.25826,     0.25926,     0.26026,     0.26126,     0.26226,     0.26326,\n",
       "           0.26426,     0.26527,     0.26627,     0.26727,     0.26827,     0.26927,     0.27027,     0.27127,     0.27227,     0.27327,     0.27427,     0.27528,     0.27628,     0.27728,     0.27828,     0.27928,     0.28028,     0.28128,     0.28228,     0.28328,     0.28428,     0.28529,     0.28629,     0.28729,\n",
       "           0.28829,     0.28929,     0.29029,     0.29129,     0.29229,     0.29329,     0.29429,      0.2953,      0.2963,      0.2973,      0.2983,      0.2993,      0.3003,      0.3013,      0.3023,      0.3033,      0.3043,     0.30531,     0.30631,     0.30731,     0.30831,     0.30931,     0.31031,     0.31131,\n",
       "           0.31231,     0.31331,     0.31431,     0.31532,     0.31632,     0.31732,     0.31832,     0.31932,     0.32032,     0.32132,     0.32232,     0.32332,     0.32432,     0.32533,     0.32633,     0.32733,     0.32833,     0.32933,     0.33033,     0.33133,     0.33233,     0.33333,     0.33433,     0.33534,\n",
       "           0.33634,     0.33734,     0.33834,     0.33934,     0.34034,     0.34134,     0.34234,     0.34334,     0.34434,     0.34535,     0.34635,     0.34735,     0.34835,     0.34935,     0.35035,     0.35135,     0.35235,     0.35335,     0.35435,     0.35536,     0.35636,     0.35736,     0.35836,     0.35936,\n",
       "           0.36036,     0.36136,     0.36236,     0.36336,     0.36436,     0.36537,     0.36637,     0.36737,     0.36837,     0.36937,     0.37037,     0.37137,     0.37237,     0.37337,     0.37437,     0.37538,     0.37638,     0.37738,     0.37838,     0.37938,     0.38038,     0.38138,     0.38238,     0.38338,\n",
       "           0.38438,     0.38539,     0.38639,     0.38739,     0.38839,     0.38939,     0.39039,     0.39139,     0.39239,     0.39339,     0.39439,      0.3954,      0.3964,      0.3974,      0.3984,      0.3994,      0.4004,      0.4014,      0.4024,      0.4034,      0.4044,     0.40541,     0.40641,     0.40741,\n",
       "           0.40841,     0.40941,     0.41041,     0.41141,     0.41241,     0.41341,     0.41441,     0.41542,     0.41642,     0.41742,     0.41842,     0.41942,     0.42042,     0.42142,     0.42242,     0.42342,     0.42442,     0.42543,     0.42643,     0.42743,     0.42843,     0.42943,     0.43043,     0.43143,\n",
       "           0.43243,     0.43343,     0.43443,     0.43544,     0.43644,     0.43744,     0.43844,     0.43944,     0.44044,     0.44144,     0.44244,     0.44344,     0.44444,     0.44545,     0.44645,     0.44745,     0.44845,     0.44945,     0.45045,     0.45145,     0.45245,     0.45345,     0.45445,     0.45546,\n",
       "           0.45646,     0.45746,     0.45846,     0.45946,     0.46046,     0.46146,     0.46246,     0.46346,     0.46446,     0.46547,     0.46647,     0.46747,     0.46847,     0.46947,     0.47047,     0.47147,     0.47247,     0.47347,     0.47447,     0.47548,     0.47648,     0.47748,     0.47848,     0.47948,\n",
       "           0.48048,     0.48148,     0.48248,     0.48348,     0.48448,     0.48549,     0.48649,     0.48749,     0.48849,     0.48949,     0.49049,     0.49149,     0.49249,     0.49349,     0.49449,      0.4955,      0.4965,      0.4975,      0.4985,      0.4995,      0.5005,      0.5015,      0.5025,      0.5035,\n",
       "            0.5045,     0.50551,     0.50651,     0.50751,     0.50851,     0.50951,     0.51051,     0.51151,     0.51251,     0.51351,     0.51451,     0.51552,     0.51652,     0.51752,     0.51852,     0.51952,     0.52052,     0.52152,     0.52252,     0.52352,     0.52452,     0.52553,     0.52653,     0.52753,\n",
       "           0.52853,     0.52953,     0.53053,     0.53153,     0.53253,     0.53353,     0.53453,     0.53554,     0.53654,     0.53754,     0.53854,     0.53954,     0.54054,     0.54154,     0.54254,     0.54354,     0.54454,     0.54555,     0.54655,     0.54755,     0.54855,     0.54955,     0.55055,     0.55155,\n",
       "           0.55255,     0.55355,     0.55455,     0.55556,     0.55656,     0.55756,     0.55856,     0.55956,     0.56056,     0.56156,     0.56256,     0.56356,     0.56456,     0.56557,     0.56657,     0.56757,     0.56857,     0.56957,     0.57057,     0.57157,     0.57257,     0.57357,     0.57457,     0.57558,\n",
       "           0.57658,     0.57758,     0.57858,     0.57958,     0.58058,     0.58158,     0.58258,     0.58358,     0.58458,     0.58559,     0.58659,     0.58759,     0.58859,     0.58959,     0.59059,     0.59159,     0.59259,     0.59359,     0.59459,      0.5956,      0.5966,      0.5976,      0.5986,      0.5996,\n",
       "            0.6006,      0.6016,      0.6026,      0.6036,      0.6046,     0.60561,     0.60661,     0.60761,     0.60861,     0.60961,     0.61061,     0.61161,     0.61261,     0.61361,     0.61461,     0.61562,     0.61662,     0.61762,     0.61862,     0.61962,     0.62062,     0.62162,     0.62262,     0.62362,\n",
       "           0.62462,     0.62563,     0.62663,     0.62763,     0.62863,     0.62963,     0.63063,     0.63163,     0.63263,     0.63363,     0.63463,     0.63564,     0.63664,     0.63764,     0.63864,     0.63964,     0.64064,     0.64164,     0.64264,     0.64364,     0.64464,     0.64565,     0.64665,     0.64765,\n",
       "           0.64865,     0.64965,     0.65065,     0.65165,     0.65265,     0.65365,     0.65465,     0.65566,     0.65666,     0.65766,     0.65866,     0.65966,     0.66066,     0.66166,     0.66266,     0.66366,     0.66466,     0.66567,     0.66667,     0.66767,     0.66867,     0.66967,     0.67067,     0.67167,\n",
       "           0.67267,     0.67367,     0.67467,     0.67568,     0.67668,     0.67768,     0.67868,     0.67968,     0.68068,     0.68168,     0.68268,     0.68368,     0.68468,     0.68569,     0.68669,     0.68769,     0.68869,     0.68969,     0.69069,     0.69169,     0.69269,     0.69369,     0.69469,      0.6957,\n",
       "            0.6967,      0.6977,      0.6987,      0.6997,      0.7007,      0.7017,      0.7027,      0.7037,      0.7047,     0.70571,     0.70671,     0.70771,     0.70871,     0.70971,     0.71071,     0.71171,     0.71271,     0.71371,     0.71471,     0.71572,     0.71672,     0.71772,     0.71872,     0.71972,\n",
       "           0.72072,     0.72172,     0.72272,     0.72372,     0.72472,     0.72573,     0.72673,     0.72773,     0.72873,     0.72973,     0.73073,     0.73173,     0.73273,     0.73373,     0.73473,     0.73574,     0.73674,     0.73774,     0.73874,     0.73974,     0.74074,     0.74174,     0.74274,     0.74374,\n",
       "           0.74474,     0.74575,     0.74675,     0.74775,     0.74875,     0.74975,     0.75075,     0.75175,     0.75275,     0.75375,     0.75475,     0.75576,     0.75676,     0.75776,     0.75876,     0.75976,     0.76076,     0.76176,     0.76276,     0.76376,     0.76476,     0.76577,     0.76677,     0.76777,\n",
       "           0.76877,     0.76977,     0.77077,     0.77177,     0.77277,     0.77377,     0.77477,     0.77578,     0.77678,     0.77778,     0.77878,     0.77978,     0.78078,     0.78178,     0.78278,     0.78378,     0.78478,     0.78579,     0.78679,     0.78779,     0.78879,     0.78979,     0.79079,     0.79179,\n",
       "           0.79279,     0.79379,     0.79479,      0.7958,      0.7968,      0.7978,      0.7988,      0.7998,      0.8008,      0.8018,      0.8028,      0.8038,      0.8048,     0.80581,     0.80681,     0.80781,     0.80881,     0.80981,     0.81081,     0.81181,     0.81281,     0.81381,     0.81481,     0.81582,\n",
       "           0.81682,     0.81782,     0.81882,     0.81982,     0.82082,     0.82182,     0.82282,     0.82382,     0.82482,     0.82583,     0.82683,     0.82783,     0.82883,     0.82983,     0.83083,     0.83183,     0.83283,     0.83383,     0.83483,     0.83584,     0.83684,     0.83784,     0.83884,     0.83984,\n",
       "           0.84084,     0.84184,     0.84284,     0.84384,     0.84484,     0.84585,     0.84685,     0.84785,     0.84885,     0.84985,     0.85085,     0.85185,     0.85285,     0.85385,     0.85485,     0.85586,     0.85686,     0.85786,     0.85886,     0.85986,     0.86086,     0.86186,     0.86286,     0.86386,\n",
       "           0.86486,     0.86587,     0.86687,     0.86787,     0.86887,     0.86987,     0.87087,     0.87187,     0.87287,     0.87387,     0.87487,     0.87588,     0.87688,     0.87788,     0.87888,     0.87988,     0.88088,     0.88188,     0.88288,     0.88388,     0.88488,     0.88589,     0.88689,     0.88789,\n",
       "           0.88889,     0.88989,     0.89089,     0.89189,     0.89289,     0.89389,     0.89489,      0.8959,      0.8969,      0.8979,      0.8989,      0.8999,      0.9009,      0.9019,      0.9029,      0.9039,      0.9049,     0.90591,     0.90691,     0.90791,     0.90891,     0.90991,     0.91091,     0.91191,\n",
       "           0.91291,     0.91391,     0.91491,     0.91592,     0.91692,     0.91792,     0.91892,     0.91992,     0.92092,     0.92192,     0.92292,     0.92392,     0.92492,     0.92593,     0.92693,     0.92793,     0.92893,     0.92993,     0.93093,     0.93193,     0.93293,     0.93393,     0.93493,     0.93594,\n",
       "           0.93694,     0.93794,     0.93894,     0.93994,     0.94094,     0.94194,     0.94294,     0.94394,     0.94494,     0.94595,     0.94695,     0.94795,     0.94895,     0.94995,     0.95095,     0.95195,     0.95295,     0.95395,     0.95495,     0.95596,     0.95696,     0.95796,     0.95896,     0.95996,\n",
       "           0.96096,     0.96196,     0.96296,     0.96396,     0.96496,     0.96597,     0.96697,     0.96797,     0.96897,     0.96997,     0.97097,     0.97197,     0.97297,     0.97397,     0.97497,     0.97598,     0.97698,     0.97798,     0.97898,     0.97998,     0.98098,     0.98198,     0.98298,     0.98398,\n",
       "           0.98498,     0.98599,     0.98699,     0.98799,     0.98899,     0.98999,     0.99099,     0.99199,     0.99299,     0.99399,     0.99499,       0.996,       0.997,       0.998,       0.999,           1]), array([[          1,           1,           1,           1,           1,           1,           1,           1,           1,           1,           1,           1,           1,           1,           1,           1,           1,           1,           1,           1,           1,           1,           1,\n",
       "                  1,           1,           1,           1,           1,           1,           1,           1,           1,           1,           1,           1,     0.55556,     0.55556,     0.55556,     0.55556,     0.55556,     0.55556,     0.55556,     0.55556,     0.55556,     0.55556,     0.55556,\n",
       "            0.55556,     0.55556,     0.55556,     0.55556,     0.55556,     0.55556,     0.55556,     0.55556,     0.55556,     0.55556,     0.55556,     0.55556,     0.55556,     0.55556,     0.55556,     0.55556,     0.55556,     0.55556,     0.55556,     0.55556,     0.55556,     0.55556,     0.55556,\n",
       "            0.55556,     0.55556,     0.55556,     0.55556,     0.55556,     0.55556,     0.55556,     0.55556,     0.55556,     0.55556,     0.55556,     0.55556,     0.55556,     0.55556,     0.55556,     0.55556,     0.55556,     0.55556,     0.30435,     0.30435,     0.30435,     0.30435,     0.30435,\n",
       "            0.30435,     0.30435,     0.30435,     0.30435,     0.30435,     0.30435,     0.30435,     0.30435,     0.30435,     0.30435,     0.30435,     0.30435,     0.30435,     0.30435,     0.30435,     0.30435,     0.30435,     0.30435,     0.30435,     0.30435,     0.30435,     0.30435,     0.30435,\n",
       "            0.30435,     0.30435,     0.30435,     0.30435,     0.30435,     0.30435,      0.2963,      0.2963,      0.2963,      0.2963,      0.2963,      0.2963,      0.2963,      0.2963,      0.2963,      0.2963,      0.2963,      0.2963,      0.2963,      0.2963,      0.2963,      0.2963,      0.2963,\n",
       "            0.28947,     0.28947,     0.28947,     0.28947,     0.28947,     0.28947,     0.28947,     0.28947,     0.28947,     0.28947,     0.28947,     0.28947,     0.28947,     0.28947,     0.28947,     0.28947,     0.28947,     0.28947,     0.28947,     0.28947,     0.28947,     0.28947,     0.28947,\n",
       "            0.28947,     0.28947,     0.28947,     0.28947,     0.28947,     0.28947,     0.28947,     0.28947,     0.28947,     0.28947,     0.28947,     0.28947,     0.28947,     0.28947,     0.28947,     0.28947,     0.28947,     0.28947,     0.28947,     0.28947,     0.28947,     0.28947,     0.28947,\n",
       "            0.28947,     0.28947,     0.28947,     0.28947,     0.28947,     0.28947,     0.28571,     0.28571,     0.28571,     0.28571,     0.28571,     0.28571,     0.28571,     0.28571,     0.28571,     0.28571,     0.28571,     0.28571,     0.28571,     0.28571,     0.28571,     0.28571,     0.28571,\n",
       "            0.23636,     0.23636,     0.23636,     0.23636,     0.23636,     0.23636,     0.23636,     0.23636,     0.23636,     0.23636,     0.23636,     0.23636,     0.23636,     0.23636,     0.23636,     0.23636,     0.23636,      0.2029,      0.2029,      0.2029,      0.2029,      0.2029,      0.2029,\n",
       "             0.2029,      0.2029,      0.2029,      0.2029,      0.2029,      0.2029,      0.2029,      0.2029,      0.2029,      0.2029,      0.2029,      0.2029,     0.19481,     0.19481,     0.19481,     0.19481,     0.19481,     0.19481,     0.19481,     0.19481,     0.19481,     0.19481,     0.19481,\n",
       "            0.19481,     0.19481,     0.19481,     0.19481,     0.19481,     0.19481,     0.18824,     0.18824,     0.18824,     0.18824,     0.18824,     0.18824,     0.18824,     0.18824,     0.18824,     0.18824,     0.18824,     0.18824,     0.18824,     0.18824,     0.18824,     0.18824,     0.18824,\n",
       "            0.14912,     0.14912,     0.14912,     0.14912,     0.14912,     0.14912,     0.14912,     0.14912,     0.14912,     0.14912,     0.14912,     0.14912,     0.14912,     0.14912,     0.14912,     0.14912,     0.14912,     0.13462,     0.13462,     0.13462,     0.13462,     0.13462,     0.13462,\n",
       "            0.13462,     0.13462,     0.13462,     0.13462,     0.13462,     0.13462,     0.13462,     0.13462,     0.13462,     0.13462,     0.13462,     0.13462,     0.13462,     0.13462,     0.13462,     0.13462,     0.13462,     0.13462,     0.13462,     0.13462,     0.13462,     0.13462,     0.13462,\n",
       "            0.13462,     0.13462,     0.13462,     0.13462,     0.13462,     0.13462,     0.13462,     0.13462,     0.13462,     0.13462,     0.13462,     0.13462,     0.13462,     0.13462,     0.13462,     0.13462,     0.13462,     0.13462,     0.13462,     0.13462,     0.13462,     0.13462,     0.13462,\n",
       "            0.13462,     0.13462,     0.13462,     0.13462,     0.13462,     0.13462,     0.13462,     0.13462,     0.13462,     0.13462,     0.13462,     0.13462,     0.13462,     0.13462,     0.13462,     0.13462,     0.13462,    0.091667,    0.091667,    0.091667,    0.091667,    0.091667,    0.091667,\n",
       "           0.091667,    0.091667,    0.091667,    0.091667,    0.091667,    0.091667,    0.091667,    0.091667,    0.091667,    0.091667,    0.091667,     0.07931,     0.07931,     0.07931,     0.07931,     0.07931,     0.07931,     0.07931,     0.07931,     0.07931,     0.07931,     0.07931,     0.07931,\n",
       "            0.07931,     0.07931,     0.07931,     0.07931,     0.07931,     0.07931,    0.073034,    0.073034,    0.073034,    0.073034,    0.073034,    0.073034,    0.073034,    0.073034,    0.073034,    0.073034,    0.073034,    0.073034,    0.073034,    0.073034,    0.073034,    0.073034,    0.073034,\n",
       "           0.073034,    0.073034,    0.073034,    0.073034,    0.073034,    0.073034,    0.073034,    0.073034,    0.073034,    0.073034,    0.073034,    0.073034,    0.073034,    0.073034,    0.073034,    0.073034,    0.073034,    0.073034,    0.073034,    0.073034,    0.073034,    0.073034,    0.073034,\n",
       "           0.073034,    0.073034,    0.073034,    0.073034,    0.073034,    0.073034,    0.073034,    0.073034,    0.073034,    0.073034,    0.073034,    0.071429,    0.071429,    0.071429,    0.071429,    0.071429,    0.071429,    0.071429,    0.071429,    0.071429,    0.071429,    0.071429,    0.071429,\n",
       "           0.071429,    0.071429,    0.071429,    0.071429,    0.071429,    0.071429,    0.068796,    0.068796,    0.068796,    0.068796,    0.068796,    0.068796,    0.068796,    0.068796,    0.068796,    0.068796,    0.068796,    0.068796,    0.068796,    0.068796,    0.068796,    0.068796,    0.068796,\n",
       "           0.063457,    0.063457,    0.063457,    0.063457,    0.063457,    0.063457,    0.063457,    0.063457,    0.063457,    0.063457,    0.063457,    0.063457,    0.063457,    0.063457,    0.063457,    0.063457,    0.063457,    0.055556,    0.055556,    0.055556,    0.055556,    0.055556,    0.055556,\n",
       "           0.055556,    0.055556,    0.055556,    0.055556,    0.055556,    0.055556,    0.055556,    0.055556,    0.055556,    0.055556,    0.055556,    0.044993,    0.044993,    0.044993,    0.044993,    0.044993,    0.044993,    0.044993,    0.044993,    0.044993,    0.044993,    0.044993,    0.044993,\n",
       "           0.044993,    0.044993,    0.044993,    0.044993,    0.044993,    0.039604,    0.039604,    0.039604,    0.039604,    0.039604,    0.039604,    0.039604,    0.039604,    0.039604,    0.039604,    0.039604,    0.039604,    0.039604,    0.039604,    0.039604,    0.039604,    0.039604,    0.039604,\n",
       "           0.037634,    0.037634,    0.037634,    0.037634,    0.037634,    0.037634,    0.037634,    0.037634,    0.037634,    0.037634,    0.037634,    0.037634,    0.037634,    0.037634,    0.037634,    0.037634,    0.037634,    0.037634,    0.037634,    0.037634,    0.037634,    0.037634,    0.037634,\n",
       "           0.037634,    0.037634,    0.037634,    0.037634,    0.037634,    0.037634,    0.037634,    0.037634,    0.037634,    0.037634,    0.037634,    0.037634,    0.037634,    0.037634,    0.037634,    0.037634,    0.037634,    0.037634,    0.037634,    0.037634,    0.037634,    0.037634,    0.037634,\n",
       "           0.037634,    0.037634,    0.037634,    0.037634,    0.037634,    0.030126,    0.030126,    0.030126,    0.030126,    0.030126,    0.030126,    0.030126,    0.030126,    0.030126,    0.030126,    0.030126,    0.030126,    0.030126,    0.030126,    0.030126,    0.030126,    0.030126,    0.030126,\n",
       "           0.022602,    0.022602,    0.022602,    0.022602,    0.022602,    0.022602,    0.022602,    0.022602,    0.022602,    0.022602,    0.022602,    0.022602,    0.022602,    0.022602,    0.022602,    0.022602,    0.022602,    0.021852,    0.021852,    0.021852,    0.021852,    0.021852,    0.021852,\n",
       "           0.021852,    0.021852,    0.021852,    0.021852,    0.021852,    0.021852,    0.021852,    0.021852,    0.021852,    0.021852,    0.021852,    0.019442,    0.019442,    0.019442,    0.019442,    0.019442,    0.019442,    0.019442,    0.019442,    0.019442,    0.019442,    0.019442,    0.019442,\n",
       "           0.019442,    0.019442,    0.019442,    0.019442,    0.019442,    0.014586,    0.014586,    0.014586,    0.014586,    0.014586,    0.014586,    0.014586,    0.014586,    0.014586,    0.014586,    0.014586,    0.014586,    0.014586,    0.014586,    0.014586,    0.014586,    0.014586,    0.014586,\n",
       "           0.014586,    0.014586,    0.014586,    0.014586,    0.014586,    0.014586,    0.014586,    0.014586,    0.014586,    0.014586,    0.014586,    0.014586,    0.014586,    0.014586,    0.014586,    0.014586,    0.014586,    0.014586,    0.014586,    0.014586,    0.014586,    0.014586,    0.014586,\n",
       "           0.014586,    0.014586,    0.014586,    0.014586,    0.014586,    0.014586,    0.014586,    0.014586,    0.014586,    0.014586,    0.014586,    0.014586,    0.014586,    0.014586,    0.014586,    0.014586,    0.014586,    0.014586,    0.014586,    0.014586,    0.014586,    0.014586,    0.014586,\n",
       "           0.014586,    0.014586,    0.014586,    0.014586,    0.014586,   0.0086156,   0.0086156,   0.0086156,   0.0086156,   0.0086156,   0.0086156,   0.0086156,   0.0086156,   0.0086156,   0.0086156,   0.0086156,   0.0086156,   0.0086156,   0.0086156,   0.0086156,   0.0086156,   0.0086156,   0.0080084,\n",
       "          0.0080084,   0.0080084,   0.0080084,   0.0080084,   0.0080084,   0.0080084,   0.0080084,   0.0080084,   0.0080084,   0.0080084,   0.0080084,   0.0080084,   0.0080084,   0.0080084,   0.0080084,   0.0080084,   0.0080084,   0.0080084,   0.0080084,   0.0080084,   0.0080084,   0.0080084,   0.0080084,\n",
       "          0.0080084,   0.0080084,   0.0080084,   0.0080084,   0.0080084,   0.0080084,   0.0080084,   0.0080084,   0.0080084,   0.0080084,   0.0080084,   0.0076411,    0.007604,   0.0075669,   0.0075298,   0.0074927,   0.0074556,   0.0074185,   0.0073814,   0.0073443,   0.0073073,   0.0072702,   0.0072331,\n",
       "           0.007196,   0.0071589,   0.0071218,   0.0070847,   0.0070476,   0.0070105,   0.0069734,   0.0069363,   0.0068992,   0.0068621,    0.006825,    0.006788,   0.0067509,   0.0067138,   0.0066767,   0.0066396,   0.0066025,   0.0065654,   0.0065283,   0.0064912,   0.0064541,    0.006417,   0.0063799,\n",
       "          0.0063428,   0.0063058,   0.0062687,   0.0062316,   0.0061945,   0.0061574,   0.0061203,   0.0060832,   0.0060461,    0.006009,   0.0059719,   0.0059348,   0.0058977,   0.0058606,   0.0058235,   0.0057865,   0.0057494,   0.0057123,   0.0056752,   0.0056381,    0.005601,   0.0055639,   0.0055268,\n",
       "          0.0054897,   0.0054526,   0.0054155,   0.0053784,   0.0053413,   0.0053042,   0.0052672,   0.0052301,    0.005193,   0.0051559,   0.0051188,   0.0050817,   0.0050446,   0.0050075,   0.0049704,   0.0049333,   0.0048962,   0.0048591,    0.004822,    0.004785,   0.0047479,   0.0047108,   0.0046737,\n",
       "          0.0046366,   0.0045995,   0.0045624,   0.0045253,   0.0044882,   0.0044511,    0.004414,   0.0043769,   0.0043398,   0.0043027,   0.0042657,   0.0042286,   0.0041915,   0.0041544,   0.0041173,   0.0040802,   0.0040431,    0.004006,   0.0039689,   0.0039318,   0.0038947,   0.0038576,   0.0038205,\n",
       "          0.0037835,   0.0037464,   0.0037093,   0.0036722,   0.0036351,    0.003598,   0.0035609,   0.0035238,   0.0034867,   0.0034496,   0.0034125,   0.0033754,   0.0033383,   0.0033012,   0.0032642,   0.0032271,     0.00319,   0.0031529,   0.0031158,   0.0030787,   0.0030416,   0.0030045,   0.0029674,\n",
       "          0.0029303,   0.0028932,   0.0028561,    0.002819,   0.0027819,   0.0027449,   0.0027078,   0.0026707,   0.0026336,   0.0025965,   0.0025594,   0.0025223,   0.0024852,   0.0024481,    0.002411,   0.0023739,   0.0023368,   0.0022997,   0.0022627,   0.0022256,   0.0021885,   0.0021514,   0.0021143,\n",
       "          0.0020772,   0.0020401,    0.002003,   0.0019659,   0.0019288,   0.0018917,   0.0018546,   0.0018175,   0.0017804,   0.0017434,   0.0017063,   0.0016692,   0.0016321,    0.001595,   0.0015579,   0.0015208,   0.0014837,   0.0014466,   0.0014095,   0.0013724,   0.0013353,   0.0012982,   0.0012612,\n",
       "          0.0012241,    0.001187,   0.0011499,   0.0011128,   0.0010757,   0.0010386,   0.0010015,  0.00096441,  0.00092732,  0.00089022,  0.00085313,  0.00081604,  0.00077895,  0.00074185,  0.00070476,  0.00066767,  0.00063058,  0.00059348,  0.00055639,   0.0005193,   0.0004822,  0.00044511,  0.00040802,\n",
       "         0.00037093,  0.00033383,  0.00029674,  0.00025965,  0.00022256,  0.00018546,  0.00014837,  0.00011128,  7.4185e-05,  3.7093e-05,           0]]), 'Recall', 'Precision'], [array([          0,    0.001001,    0.002002,    0.003003,    0.004004,    0.005005,    0.006006,    0.007007,    0.008008,    0.009009,     0.01001,    0.011011,    0.012012,    0.013013,    0.014014,    0.015015,    0.016016,    0.017017,    0.018018,    0.019019,     0.02002,    0.021021,    0.022022,    0.023023,\n",
       "          0.024024,    0.025025,    0.026026,    0.027027,    0.028028,    0.029029,     0.03003,    0.031031,    0.032032,    0.033033,    0.034034,    0.035035,    0.036036,    0.037037,    0.038038,    0.039039,     0.04004,    0.041041,    0.042042,    0.043043,    0.044044,    0.045045,    0.046046,    0.047047,\n",
       "          0.048048,    0.049049,     0.05005,    0.051051,    0.052052,    0.053053,    0.054054,    0.055055,    0.056056,    0.057057,    0.058058,    0.059059,     0.06006,    0.061061,    0.062062,    0.063063,    0.064064,    0.065065,    0.066066,    0.067067,    0.068068,    0.069069,     0.07007,    0.071071,\n",
       "          0.072072,    0.073073,    0.074074,    0.075075,    0.076076,    0.077077,    0.078078,    0.079079,     0.08008,    0.081081,    0.082082,    0.083083,    0.084084,    0.085085,    0.086086,    0.087087,    0.088088,    0.089089,     0.09009,    0.091091,    0.092092,    0.093093,    0.094094,    0.095095,\n",
       "          0.096096,    0.097097,    0.098098,    0.099099,      0.1001,      0.1011,      0.1021,      0.1031,      0.1041,     0.10511,     0.10611,     0.10711,     0.10811,     0.10911,     0.11011,     0.11111,     0.11211,     0.11311,     0.11411,     0.11512,     0.11612,     0.11712,     0.11812,     0.11912,\n",
       "           0.12012,     0.12112,     0.12212,     0.12312,     0.12412,     0.12513,     0.12613,     0.12713,     0.12813,     0.12913,     0.13013,     0.13113,     0.13213,     0.13313,     0.13413,     0.13514,     0.13614,     0.13714,     0.13814,     0.13914,     0.14014,     0.14114,     0.14214,     0.14314,\n",
       "           0.14414,     0.14515,     0.14615,     0.14715,     0.14815,     0.14915,     0.15015,     0.15115,     0.15215,     0.15315,     0.15415,     0.15516,     0.15616,     0.15716,     0.15816,     0.15916,     0.16016,     0.16116,     0.16216,     0.16316,     0.16416,     0.16517,     0.16617,     0.16717,\n",
       "           0.16817,     0.16917,     0.17017,     0.17117,     0.17217,     0.17317,     0.17417,     0.17518,     0.17618,     0.17718,     0.17818,     0.17918,     0.18018,     0.18118,     0.18218,     0.18318,     0.18418,     0.18519,     0.18619,     0.18719,     0.18819,     0.18919,     0.19019,     0.19119,\n",
       "           0.19219,     0.19319,     0.19419,      0.1952,      0.1962,      0.1972,      0.1982,      0.1992,      0.2002,      0.2012,      0.2022,      0.2032,      0.2042,     0.20521,     0.20621,     0.20721,     0.20821,     0.20921,     0.21021,     0.21121,     0.21221,     0.21321,     0.21421,     0.21522,\n",
       "           0.21622,     0.21722,     0.21822,     0.21922,     0.22022,     0.22122,     0.22222,     0.22322,     0.22422,     0.22523,     0.22623,     0.22723,     0.22823,     0.22923,     0.23023,     0.23123,     0.23223,     0.23323,     0.23423,     0.23524,     0.23624,     0.23724,     0.23824,     0.23924,\n",
       "           0.24024,     0.24124,     0.24224,     0.24324,     0.24424,     0.24525,     0.24625,     0.24725,     0.24825,     0.24925,     0.25025,     0.25125,     0.25225,     0.25325,     0.25425,     0.25526,     0.25626,     0.25726,     0.25826,     0.25926,     0.26026,     0.26126,     0.26226,     0.26326,\n",
       "           0.26426,     0.26527,     0.26627,     0.26727,     0.26827,     0.26927,     0.27027,     0.27127,     0.27227,     0.27327,     0.27427,     0.27528,     0.27628,     0.27728,     0.27828,     0.27928,     0.28028,     0.28128,     0.28228,     0.28328,     0.28428,     0.28529,     0.28629,     0.28729,\n",
       "           0.28829,     0.28929,     0.29029,     0.29129,     0.29229,     0.29329,     0.29429,      0.2953,      0.2963,      0.2973,      0.2983,      0.2993,      0.3003,      0.3013,      0.3023,      0.3033,      0.3043,     0.30531,     0.30631,     0.30731,     0.30831,     0.30931,     0.31031,     0.31131,\n",
       "           0.31231,     0.31331,     0.31431,     0.31532,     0.31632,     0.31732,     0.31832,     0.31932,     0.32032,     0.32132,     0.32232,     0.32332,     0.32432,     0.32533,     0.32633,     0.32733,     0.32833,     0.32933,     0.33033,     0.33133,     0.33233,     0.33333,     0.33433,     0.33534,\n",
       "           0.33634,     0.33734,     0.33834,     0.33934,     0.34034,     0.34134,     0.34234,     0.34334,     0.34434,     0.34535,     0.34635,     0.34735,     0.34835,     0.34935,     0.35035,     0.35135,     0.35235,     0.35335,     0.35435,     0.35536,     0.35636,     0.35736,     0.35836,     0.35936,\n",
       "           0.36036,     0.36136,     0.36236,     0.36336,     0.36436,     0.36537,     0.36637,     0.36737,     0.36837,     0.36937,     0.37037,     0.37137,     0.37237,     0.37337,     0.37437,     0.37538,     0.37638,     0.37738,     0.37838,     0.37938,     0.38038,     0.38138,     0.38238,     0.38338,\n",
       "           0.38438,     0.38539,     0.38639,     0.38739,     0.38839,     0.38939,     0.39039,     0.39139,     0.39239,     0.39339,     0.39439,      0.3954,      0.3964,      0.3974,      0.3984,      0.3994,      0.4004,      0.4014,      0.4024,      0.4034,      0.4044,     0.40541,     0.40641,     0.40741,\n",
       "           0.40841,     0.40941,     0.41041,     0.41141,     0.41241,     0.41341,     0.41441,     0.41542,     0.41642,     0.41742,     0.41842,     0.41942,     0.42042,     0.42142,     0.42242,     0.42342,     0.42442,     0.42543,     0.42643,     0.42743,     0.42843,     0.42943,     0.43043,     0.43143,\n",
       "           0.43243,     0.43343,     0.43443,     0.43544,     0.43644,     0.43744,     0.43844,     0.43944,     0.44044,     0.44144,     0.44244,     0.44344,     0.44444,     0.44545,     0.44645,     0.44745,     0.44845,     0.44945,     0.45045,     0.45145,     0.45245,     0.45345,     0.45445,     0.45546,\n",
       "           0.45646,     0.45746,     0.45846,     0.45946,     0.46046,     0.46146,     0.46246,     0.46346,     0.46446,     0.46547,     0.46647,     0.46747,     0.46847,     0.46947,     0.47047,     0.47147,     0.47247,     0.47347,     0.47447,     0.47548,     0.47648,     0.47748,     0.47848,     0.47948,\n",
       "           0.48048,     0.48148,     0.48248,     0.48348,     0.48448,     0.48549,     0.48649,     0.48749,     0.48849,     0.48949,     0.49049,     0.49149,     0.49249,     0.49349,     0.49449,      0.4955,      0.4965,      0.4975,      0.4985,      0.4995,      0.5005,      0.5015,      0.5025,      0.5035,\n",
       "            0.5045,     0.50551,     0.50651,     0.50751,     0.50851,     0.50951,     0.51051,     0.51151,     0.51251,     0.51351,     0.51451,     0.51552,     0.51652,     0.51752,     0.51852,     0.51952,     0.52052,     0.52152,     0.52252,     0.52352,     0.52452,     0.52553,     0.52653,     0.52753,\n",
       "           0.52853,     0.52953,     0.53053,     0.53153,     0.53253,     0.53353,     0.53453,     0.53554,     0.53654,     0.53754,     0.53854,     0.53954,     0.54054,     0.54154,     0.54254,     0.54354,     0.54454,     0.54555,     0.54655,     0.54755,     0.54855,     0.54955,     0.55055,     0.55155,\n",
       "           0.55255,     0.55355,     0.55455,     0.55556,     0.55656,     0.55756,     0.55856,     0.55956,     0.56056,     0.56156,     0.56256,     0.56356,     0.56456,     0.56557,     0.56657,     0.56757,     0.56857,     0.56957,     0.57057,     0.57157,     0.57257,     0.57357,     0.57457,     0.57558,\n",
       "           0.57658,     0.57758,     0.57858,     0.57958,     0.58058,     0.58158,     0.58258,     0.58358,     0.58458,     0.58559,     0.58659,     0.58759,     0.58859,     0.58959,     0.59059,     0.59159,     0.59259,     0.59359,     0.59459,      0.5956,      0.5966,      0.5976,      0.5986,      0.5996,\n",
       "            0.6006,      0.6016,      0.6026,      0.6036,      0.6046,     0.60561,     0.60661,     0.60761,     0.60861,     0.60961,     0.61061,     0.61161,     0.61261,     0.61361,     0.61461,     0.61562,     0.61662,     0.61762,     0.61862,     0.61962,     0.62062,     0.62162,     0.62262,     0.62362,\n",
       "           0.62462,     0.62563,     0.62663,     0.62763,     0.62863,     0.62963,     0.63063,     0.63163,     0.63263,     0.63363,     0.63463,     0.63564,     0.63664,     0.63764,     0.63864,     0.63964,     0.64064,     0.64164,     0.64264,     0.64364,     0.64464,     0.64565,     0.64665,     0.64765,\n",
       "           0.64865,     0.64965,     0.65065,     0.65165,     0.65265,     0.65365,     0.65465,     0.65566,     0.65666,     0.65766,     0.65866,     0.65966,     0.66066,     0.66166,     0.66266,     0.66366,     0.66466,     0.66567,     0.66667,     0.66767,     0.66867,     0.66967,     0.67067,     0.67167,\n",
       "           0.67267,     0.67367,     0.67467,     0.67568,     0.67668,     0.67768,     0.67868,     0.67968,     0.68068,     0.68168,     0.68268,     0.68368,     0.68468,     0.68569,     0.68669,     0.68769,     0.68869,     0.68969,     0.69069,     0.69169,     0.69269,     0.69369,     0.69469,      0.6957,\n",
       "            0.6967,      0.6977,      0.6987,      0.6997,      0.7007,      0.7017,      0.7027,      0.7037,      0.7047,     0.70571,     0.70671,     0.70771,     0.70871,     0.70971,     0.71071,     0.71171,     0.71271,     0.71371,     0.71471,     0.71572,     0.71672,     0.71772,     0.71872,     0.71972,\n",
       "           0.72072,     0.72172,     0.72272,     0.72372,     0.72472,     0.72573,     0.72673,     0.72773,     0.72873,     0.72973,     0.73073,     0.73173,     0.73273,     0.73373,     0.73473,     0.73574,     0.73674,     0.73774,     0.73874,     0.73974,     0.74074,     0.74174,     0.74274,     0.74374,\n",
       "           0.74474,     0.74575,     0.74675,     0.74775,     0.74875,     0.74975,     0.75075,     0.75175,     0.75275,     0.75375,     0.75475,     0.75576,     0.75676,     0.75776,     0.75876,     0.75976,     0.76076,     0.76176,     0.76276,     0.76376,     0.76476,     0.76577,     0.76677,     0.76777,\n",
       "           0.76877,     0.76977,     0.77077,     0.77177,     0.77277,     0.77377,     0.77477,     0.77578,     0.77678,     0.77778,     0.77878,     0.77978,     0.78078,     0.78178,     0.78278,     0.78378,     0.78478,     0.78579,     0.78679,     0.78779,     0.78879,     0.78979,     0.79079,     0.79179,\n",
       "           0.79279,     0.79379,     0.79479,      0.7958,      0.7968,      0.7978,      0.7988,      0.7998,      0.8008,      0.8018,      0.8028,      0.8038,      0.8048,     0.80581,     0.80681,     0.80781,     0.80881,     0.80981,     0.81081,     0.81181,     0.81281,     0.81381,     0.81481,     0.81582,\n",
       "           0.81682,     0.81782,     0.81882,     0.81982,     0.82082,     0.82182,     0.82282,     0.82382,     0.82482,     0.82583,     0.82683,     0.82783,     0.82883,     0.82983,     0.83083,     0.83183,     0.83283,     0.83383,     0.83483,     0.83584,     0.83684,     0.83784,     0.83884,     0.83984,\n",
       "           0.84084,     0.84184,     0.84284,     0.84384,     0.84484,     0.84585,     0.84685,     0.84785,     0.84885,     0.84985,     0.85085,     0.85185,     0.85285,     0.85385,     0.85485,     0.85586,     0.85686,     0.85786,     0.85886,     0.85986,     0.86086,     0.86186,     0.86286,     0.86386,\n",
       "           0.86486,     0.86587,     0.86687,     0.86787,     0.86887,     0.86987,     0.87087,     0.87187,     0.87287,     0.87387,     0.87487,     0.87588,     0.87688,     0.87788,     0.87888,     0.87988,     0.88088,     0.88188,     0.88288,     0.88388,     0.88488,     0.88589,     0.88689,     0.88789,\n",
       "           0.88889,     0.88989,     0.89089,     0.89189,     0.89289,     0.89389,     0.89489,      0.8959,      0.8969,      0.8979,      0.8989,      0.8999,      0.9009,      0.9019,      0.9029,      0.9039,      0.9049,     0.90591,     0.90691,     0.90791,     0.90891,     0.90991,     0.91091,     0.91191,\n",
       "           0.91291,     0.91391,     0.91491,     0.91592,     0.91692,     0.91792,     0.91892,     0.91992,     0.92092,     0.92192,     0.92292,     0.92392,     0.92492,     0.92593,     0.92693,     0.92793,     0.92893,     0.92993,     0.93093,     0.93193,     0.93293,     0.93393,     0.93493,     0.93594,\n",
       "           0.93694,     0.93794,     0.93894,     0.93994,     0.94094,     0.94194,     0.94294,     0.94394,     0.94494,     0.94595,     0.94695,     0.94795,     0.94895,     0.94995,     0.95095,     0.95195,     0.95295,     0.95395,     0.95495,     0.95596,     0.95696,     0.95796,     0.95896,     0.95996,\n",
       "           0.96096,     0.96196,     0.96296,     0.96396,     0.96496,     0.96597,     0.96697,     0.96797,     0.96897,     0.96997,     0.97097,     0.97197,     0.97297,     0.97397,     0.97497,     0.97598,     0.97698,     0.97798,     0.97898,     0.97998,     0.98098,     0.98198,     0.98298,     0.98398,\n",
       "           0.98498,     0.98599,     0.98699,     0.98799,     0.98899,     0.98999,     0.99099,     0.99199,     0.99299,     0.99399,     0.99499,       0.996,       0.997,       0.998,       0.999,           1]), array([[   0.015187,    0.015187,    0.015187,    0.015741,    0.015883,    0.016728,    0.018033,    0.019307,    0.021135,    0.023047,    0.024821,    0.026666,    0.028529,    0.027493,    0.029126,    0.030829,    0.032298,     0.03393,     0.03545,    0.036718,    0.037266,    0.038981,    0.040348,\n",
       "            0.04192,    0.042384,    0.042609,    0.043862,     0.04503,    0.046433,    0.048017,    0.049406,    0.051115,    0.052912,    0.054565,     0.05581,    0.057321,    0.057139,    0.058424,     0.05967,     0.06085,    0.061842,    0.062938,    0.063958,    0.065252,    0.066689,    0.067785,\n",
       "           0.069028,    0.070152,    0.069127,     0.06852,    0.068099,     0.06942,    0.070411,    0.071808,    0.072958,    0.072393,    0.073203,    0.074684,    0.075588,      0.0774,    0.078751,    0.079353,    0.080241,    0.081165,     0.08207,    0.080507,    0.081656,    0.082394,    0.083818,\n",
       "           0.085622,    0.085818,    0.086509,    0.087389,    0.088262,    0.089663,    0.091337,    0.092127,    0.093107,    0.093779,    0.095286,    0.096189,     0.09686,     0.09771,    0.099362,     0.09765,    0.098962,    0.099756,     0.10112,     0.10182,     0.10319,     0.10422,     0.10503,\n",
       "             0.1065,     0.10796,     0.10888,     0.10978,     0.11057,     0.11123,     0.11221,     0.11245,     0.10944,     0.11049,     0.11244,     0.11359,     0.11438,     0.11496,     0.11597,     0.11692,     0.11815,     0.11992,     0.11642,     0.11663,     0.11765,     0.11876,     0.12027,\n",
       "            0.12073,     0.12156,     0.12231,     0.12287,     0.12311,     0.12362,     0.12382,     0.12053,     0.12243,     0.12302,     0.12357,     0.12432,     0.12474,     0.11841,     0.11918,     0.12019,     0.12111,      0.1167,     0.11798,     0.11978,     0.12087,     0.12143,     0.12166,\n",
       "            0.12241,      0.1228,     0.12387,     0.12448,     0.12507,     0.12666,     0.12768,      0.1286,     0.12902,     0.13012,     0.13048,     0.13077,     0.13203,     0.12713,     0.12851,     0.12891,     0.13001,     0.13091,     0.13271,     0.13419,     0.13672,     0.13701,     0.13736,\n",
       "            0.13849,     0.13921,     0.14046,     0.14115,     0.14182,     0.14281,     0.14557,     0.14682,     0.14192,      0.1439,      0.1445,     0.14594,      0.1462,     0.14738,     0.14766,     0.14824,     0.14915,      0.1506,     0.15236,     0.15286,     0.15303,     0.15319,     0.15452,\n",
       "            0.15496,     0.15616,     0.15808,     0.15849,     0.15961,     0.16093,     0.16206,     0.16276,     0.16347,     0.16365,     0.16382,       0.164,     0.16545,     0.16565,     0.16586,     0.16626,     0.16739,     0.16771,     0.16802,     0.16819,     0.16837,     0.16854,     0.16902,\n",
       "            0.17007,     0.17089,     0.17125,     0.17273,     0.17442,     0.17469,     0.17496,     0.17608,     0.17881,      0.1797,     0.18064,     0.18135,     0.18264,     0.18287,     0.18309,     0.18332,     0.18357,     0.18383,      0.1841,     0.18583,     0.18853,     0.18947,     0.19042,\n",
       "            0.19113,     0.19154,     0.19196,      0.1924,     0.19282,     0.19319,     0.19368,     0.19464,     0.19495,     0.19525,     0.18811,     0.18884,     0.18983,     0.19023,     0.18544,     0.18263,      0.1836,     0.18384,     0.18409,     0.18433,     0.18503,     0.18634,     0.18657,\n",
       "             0.1868,     0.18703,     0.18765,     0.18564,     0.18051,     0.18184,     0.18246,     0.18287,     0.18312,     0.18337,     0.18361,     0.18523,     0.18583,     0.18623,     0.18673,     0.18686,     0.17871,     0.17932,      0.1801,     0.18076,     0.18155,     0.18205,      0.1824,\n",
       "            0.18275,     0.18383,     0.18402,     0.18422,     0.18442,     0.18462,     0.18576,      0.1873,     0.18782,     0.18818,     0.18853,     0.18888,     0.18966,     0.19088,     0.19301,     0.19505,     0.19603,      0.1969,     0.19763,     0.18719,     0.18771,     0.18822,      0.1885,\n",
       "            0.18878,     0.18905,     0.18933,     0.19297,     0.19368,     0.19587,     0.19654,     0.19686,     0.19717,     0.19749,     0.19786,     0.19824,     0.19861,     0.19929,     0.20009,     0.20063,     0.20117,     0.20202,      0.2032,     0.20573,     0.20672,      0.2075,     0.20806,\n",
       "             0.2085,     0.20894,      0.2093,     0.20959,     0.20989,     0.21018,     0.21047,     0.21193,     0.21242,     0.21291,     0.21354,     0.21503,     0.21623,     0.21664,     0.21704,     0.21745,     0.21922,     0.22001,     0.22074,      0.2211,     0.22146,     0.22182,     0.22218,\n",
       "            0.22236,     0.22251,     0.22266,     0.22282,     0.22297,     0.22312,     0.22327,     0.22342,     0.22357,     0.22373,     0.22191,     0.21912,     0.21634,     0.21355,     0.21131,     0.21155,     0.21179,     0.21203,     0.21226,      0.2125,     0.21274,     0.21449,     0.21778,\n",
       "            0.21857,     0.22034,     0.22096,     0.22136,     0.22176,     0.22216,     0.21179,     0.21275,     0.21342,     0.21401,     0.21451,     0.21502,     0.21684,     0.21721,     0.21737,     0.21753,     0.21768,     0.21784,       0.218,     0.21816,     0.21832,     0.21848,     0.21863,\n",
       "            0.21909,      0.2204,     0.21225,     0.20658,     0.20728,     0.20799,     0.21138,     0.21256,     0.21393,     0.21672,     0.21725,     0.21778,     0.21832,     0.21878,      0.2192,     0.21963,     0.22005,      0.2205,     0.22099,     0.22147,     0.22196,     0.22237,     0.22268,\n",
       "            0.22299,     0.22331,     0.22362,     0.22393,     0.22479,     0.22638,     0.22726,     0.22821,      0.2286,     0.21464,     0.21644,     0.21676,     0.21707,     0.21739,      0.2177,     0.21801,      0.2187,     0.21982,     0.22027,      0.2204,     0.22053,     0.22066,     0.22079,\n",
       "            0.22092,     0.22105,     0.22118,     0.22131,     0.22144,     0.22157,      0.2217,     0.22183,     0.22196,     0.22208,     0.22221,     0.22242,     0.22262,     0.22283,     0.22304,     0.22325,     0.22346,     0.22366,     0.22387,     0.22408,     0.22428,     0.22664,     0.22739,\n",
       "            0.22813,     0.22913,     0.23049,     0.23207,     0.23327,     0.23389,     0.23451,     0.23512,     0.23625,     0.23757,     0.23797,     0.23834,      0.2387,     0.23906,     0.23942,     0.23978,     0.23166,     0.22284,     0.22395,     0.22472,     0.22519,     0.22564,      0.2261,\n",
       "            0.22655,     0.22827,     0.22136,     0.21444,     0.20978,     0.20808,     0.20638,     0.20467,     0.20297,     0.20126,     0.19956,     0.19785,     0.19614,     0.19443,     0.19272,     0.19156,     0.19183,     0.19209,     0.19236,     0.19262,     0.19288,     0.19314,      0.1934,\n",
       "            0.18253,     0.17535,     0.17645,     0.17724,      0.1779,     0.17827,     0.17864,     0.17901,     0.17937,     0.17973,     0.17999,     0.18024,     0.18049,     0.18073,     0.18097,     0.18121,     0.18146,     0.18169,       0.182,     0.18237,     0.18275,     0.18311,     0.18348,\n",
       "            0.18384,     0.18419,     0.18453,     0.18487,     0.18521,     0.18555,     0.18588,     0.18623,      0.1866,     0.18696,     0.18733,     0.18769,     0.18805,     0.18733,     0.18538,     0.18344,      0.1815,     0.17955,      0.1776,     0.17566,     0.17371,     0.17176,     0.16981,\n",
       "            0.16786,     0.16705,     0.16802,     0.16877,     0.16908,     0.16938,     0.16968,     0.16997,     0.17027,     0.17056,     0.17097,     0.17156,     0.17213,     0.17269,     0.17152,     0.16971,     0.16791,      0.1661,     0.16429,     0.16248,     0.16068,     0.15887,     0.15706,\n",
       "            0.15524,     0.15343,     0.15162,     0.15001,     0.15009,     0.15016,     0.15024,     0.15031,     0.15039,     0.15047,     0.15054,     0.15062,     0.15069,     0.15077,     0.15084,     0.15092,     0.15099,     0.15107,     0.15114,     0.15121,     0.15129,     0.15136,     0.15143,\n",
       "            0.15151,     0.15158,     0.15165,     0.15172,      0.1518,     0.15187,     0.14892,     0.14385,     0.13877,     0.13368,     0.12859,     0.12874,     0.12931,     0.12986,     0.12993,        0.13,     0.13006,     0.13012,     0.13019,     0.13025,     0.13031,     0.13038,     0.13044,\n",
       "             0.1305,     0.13056,     0.13062,     0.13069,     0.13075,     0.13081,     0.13087,     0.13093,     0.13099,     0.13105,     0.13111,     0.13117,     0.13123,     0.13129,     0.13135,     0.13141,     0.13147,     0.13153,     0.13159,     0.13164,      0.1317,     0.13175,     0.13181,\n",
       "            0.13186,     0.13192,     0.13197,     0.13203,     0.13208,     0.13214,     0.13219,     0.13225,      0.1323,     0.13235,     0.13241,     0.13246,     0.13251,     0.13257,     0.13262,     0.13267,     0.13272,     0.13278,     0.13283,     0.13288,     0.13293,     0.13299,     0.13304,\n",
       "            0.13309,     0.13314,     0.13319,     0.13324,     0.13329,     0.13335,     0.13341,     0.13346,     0.13352,     0.13358,     0.13364,     0.13369,     0.13375,     0.13381,     0.13386,     0.13392,     0.13398,     0.13403,     0.13409,     0.13415,      0.1342,     0.13426,     0.13431,\n",
       "            0.13437,     0.13442,     0.13448,     0.13453,     0.13459,     0.13464,      0.1347,     0.13475,     0.13481,     0.13486,     0.13491,     0.13497,     0.13502,     0.13507,     0.13513,     0.13518,     0.13524,      0.1353,     0.13535,     0.13541,     0.13547,     0.13552,     0.13558,\n",
       "            0.13563,     0.13569,     0.13574,      0.1358,     0.13585,     0.13591,     0.13596,     0.13602,     0.13607,     0.13613,     0.13618,     0.13623,     0.13629,     0.13634,      0.1364,     0.13645,      0.1365,     0.13655,     0.13661,     0.13666,     0.13671,     0.13676,     0.13682,\n",
       "            0.13687,     0.13692,     0.13697,     0.13797,     0.13902,     0.13946,     0.13989,     0.14032,     0.14073,     0.14099,     0.14118,     0.14138,     0.14157,     0.14176,     0.14195,     0.14213,     0.14232,      0.1425,     0.14268,     0.14286,     0.14324,     0.14361,     0.14397,\n",
       "            0.14433,     0.14468,     0.14509,     0.14568,     0.14626,     0.14681,     0.14711,      0.1472,     0.14729,     0.14738,     0.14747,     0.14756,     0.14765,     0.14774,     0.14783,     0.14791,       0.148,     0.14808,     0.14817,     0.14825,     0.14834,     0.14842,      0.1485,\n",
       "            0.14859,     0.14867,     0.14875,     0.14883,     0.14891,     0.14899,     0.14907,     0.14915,     0.14922,     0.14876,     0.14796,     0.14715,     0.14634,     0.14553,     0.14472,     0.14391,      0.1431,     0.14229,     0.14148,     0.14067,     0.13986,     0.13905,     0.13823,\n",
       "            0.13742,     0.13661,      0.1358,     0.13498,     0.13417,     0.13335,     0.13254,     0.13173,     0.13091,     0.13009,     0.12928,     0.12846,     0.12765,     0.12683,     0.12601,     0.12519,     0.12438,     0.12356,     0.12274,     0.12192,     0.12113,     0.12053,     0.11993,\n",
       "            0.11933,     0.11873,     0.11813,     0.11753,     0.11693,     0.11633,     0.11572,     0.11512,     0.11452,     0.11392,     0.11332,     0.11272,     0.11211,     0.11151,     0.11091,     0.11031,     0.10971,      0.1091,      0.1085,      0.1079,     0.10729,     0.10669,     0.10609,\n",
       "            0.10548,     0.10488,     0.10427,     0.10367,     0.10307,     0.10246,     0.10186,     0.10125,     0.10065,     0.10004,    0.099436,     0.09883,    0.098224,    0.097618,    0.097012,    0.096405,    0.095799,    0.095192,    0.094585,    0.093978,     0.09337,    0.092762,    0.091191,\n",
       "           0.086755,    0.082314,    0.077866,    0.073411,    0.068949,    0.064477,    0.062597,    0.062765,    0.062923,    0.063074,    0.063218,    0.063354,    0.063485,    0.064223,    0.064668,    0.064926,    0.065155,    0.065359,    0.065543,    0.065705,    0.065852,    0.065986,    0.066109,\n",
       "           0.066222,    0.066327,    0.066424,    0.066514,    0.066598,    0.066517,    0.065357,    0.064195,    0.063032,    0.061868,    0.060702,    0.059535,    0.058366,    0.057196,    0.056025,    0.054852,    0.053677,    0.052502,    0.051325,    0.050146,    0.048966,    0.047785,    0.046602,\n",
       "           0.045418,    0.044232,    0.043045,    0.041857,    0.040667,    0.039475,    0.038282,    0.037088,    0.035892,    0.034695,           0,           0,           0,           0,           0,           0,           0,           0,           0,           0,           0,           0,           0,\n",
       "                  0,           0,           0,           0,           0,           0,           0,           0,           0,           0,           0,           0,           0,           0,           0,           0,           0,           0,           0,           0,           0,           0,           0,\n",
       "                  0,           0,           0,           0,           0,           0,           0,           0,           0,           0,           0,           0,           0,           0,           0,           0,           0,           0,           0,           0,           0,           0,           0,\n",
       "                  0,           0,           0,           0,           0,           0,           0,           0,           0,           0,           0]]), 'Confidence', 'F1'], [array([          0,    0.001001,    0.002002,    0.003003,    0.004004,    0.005005,    0.006006,    0.007007,    0.008008,    0.009009,     0.01001,    0.011011,    0.012012,    0.013013,    0.014014,    0.015015,    0.016016,    0.017017,    0.018018,    0.019019,     0.02002,    0.021021,    0.022022,    0.023023,\n",
       "          0.024024,    0.025025,    0.026026,    0.027027,    0.028028,    0.029029,     0.03003,    0.031031,    0.032032,    0.033033,    0.034034,    0.035035,    0.036036,    0.037037,    0.038038,    0.039039,     0.04004,    0.041041,    0.042042,    0.043043,    0.044044,    0.045045,    0.046046,    0.047047,\n",
       "          0.048048,    0.049049,     0.05005,    0.051051,    0.052052,    0.053053,    0.054054,    0.055055,    0.056056,    0.057057,    0.058058,    0.059059,     0.06006,    0.061061,    0.062062,    0.063063,    0.064064,    0.065065,    0.066066,    0.067067,    0.068068,    0.069069,     0.07007,    0.071071,\n",
       "          0.072072,    0.073073,    0.074074,    0.075075,    0.076076,    0.077077,    0.078078,    0.079079,     0.08008,    0.081081,    0.082082,    0.083083,    0.084084,    0.085085,    0.086086,    0.087087,    0.088088,    0.089089,     0.09009,    0.091091,    0.092092,    0.093093,    0.094094,    0.095095,\n",
       "          0.096096,    0.097097,    0.098098,    0.099099,      0.1001,      0.1011,      0.1021,      0.1031,      0.1041,     0.10511,     0.10611,     0.10711,     0.10811,     0.10911,     0.11011,     0.11111,     0.11211,     0.11311,     0.11411,     0.11512,     0.11612,     0.11712,     0.11812,     0.11912,\n",
       "           0.12012,     0.12112,     0.12212,     0.12312,     0.12412,     0.12513,     0.12613,     0.12713,     0.12813,     0.12913,     0.13013,     0.13113,     0.13213,     0.13313,     0.13413,     0.13514,     0.13614,     0.13714,     0.13814,     0.13914,     0.14014,     0.14114,     0.14214,     0.14314,\n",
       "           0.14414,     0.14515,     0.14615,     0.14715,     0.14815,     0.14915,     0.15015,     0.15115,     0.15215,     0.15315,     0.15415,     0.15516,     0.15616,     0.15716,     0.15816,     0.15916,     0.16016,     0.16116,     0.16216,     0.16316,     0.16416,     0.16517,     0.16617,     0.16717,\n",
       "           0.16817,     0.16917,     0.17017,     0.17117,     0.17217,     0.17317,     0.17417,     0.17518,     0.17618,     0.17718,     0.17818,     0.17918,     0.18018,     0.18118,     0.18218,     0.18318,     0.18418,     0.18519,     0.18619,     0.18719,     0.18819,     0.18919,     0.19019,     0.19119,\n",
       "           0.19219,     0.19319,     0.19419,      0.1952,      0.1962,      0.1972,      0.1982,      0.1992,      0.2002,      0.2012,      0.2022,      0.2032,      0.2042,     0.20521,     0.20621,     0.20721,     0.20821,     0.20921,     0.21021,     0.21121,     0.21221,     0.21321,     0.21421,     0.21522,\n",
       "           0.21622,     0.21722,     0.21822,     0.21922,     0.22022,     0.22122,     0.22222,     0.22322,     0.22422,     0.22523,     0.22623,     0.22723,     0.22823,     0.22923,     0.23023,     0.23123,     0.23223,     0.23323,     0.23423,     0.23524,     0.23624,     0.23724,     0.23824,     0.23924,\n",
       "           0.24024,     0.24124,     0.24224,     0.24324,     0.24424,     0.24525,     0.24625,     0.24725,     0.24825,     0.24925,     0.25025,     0.25125,     0.25225,     0.25325,     0.25425,     0.25526,     0.25626,     0.25726,     0.25826,     0.25926,     0.26026,     0.26126,     0.26226,     0.26326,\n",
       "           0.26426,     0.26527,     0.26627,     0.26727,     0.26827,     0.26927,     0.27027,     0.27127,     0.27227,     0.27327,     0.27427,     0.27528,     0.27628,     0.27728,     0.27828,     0.27928,     0.28028,     0.28128,     0.28228,     0.28328,     0.28428,     0.28529,     0.28629,     0.28729,\n",
       "           0.28829,     0.28929,     0.29029,     0.29129,     0.29229,     0.29329,     0.29429,      0.2953,      0.2963,      0.2973,      0.2983,      0.2993,      0.3003,      0.3013,      0.3023,      0.3033,      0.3043,     0.30531,     0.30631,     0.30731,     0.30831,     0.30931,     0.31031,     0.31131,\n",
       "           0.31231,     0.31331,     0.31431,     0.31532,     0.31632,     0.31732,     0.31832,     0.31932,     0.32032,     0.32132,     0.32232,     0.32332,     0.32432,     0.32533,     0.32633,     0.32733,     0.32833,     0.32933,     0.33033,     0.33133,     0.33233,     0.33333,     0.33433,     0.33534,\n",
       "           0.33634,     0.33734,     0.33834,     0.33934,     0.34034,     0.34134,     0.34234,     0.34334,     0.34434,     0.34535,     0.34635,     0.34735,     0.34835,     0.34935,     0.35035,     0.35135,     0.35235,     0.35335,     0.35435,     0.35536,     0.35636,     0.35736,     0.35836,     0.35936,\n",
       "           0.36036,     0.36136,     0.36236,     0.36336,     0.36436,     0.36537,     0.36637,     0.36737,     0.36837,     0.36937,     0.37037,     0.37137,     0.37237,     0.37337,     0.37437,     0.37538,     0.37638,     0.37738,     0.37838,     0.37938,     0.38038,     0.38138,     0.38238,     0.38338,\n",
       "           0.38438,     0.38539,     0.38639,     0.38739,     0.38839,     0.38939,     0.39039,     0.39139,     0.39239,     0.39339,     0.39439,      0.3954,      0.3964,      0.3974,      0.3984,      0.3994,      0.4004,      0.4014,      0.4024,      0.4034,      0.4044,     0.40541,     0.40641,     0.40741,\n",
       "           0.40841,     0.40941,     0.41041,     0.41141,     0.41241,     0.41341,     0.41441,     0.41542,     0.41642,     0.41742,     0.41842,     0.41942,     0.42042,     0.42142,     0.42242,     0.42342,     0.42442,     0.42543,     0.42643,     0.42743,     0.42843,     0.42943,     0.43043,     0.43143,\n",
       "           0.43243,     0.43343,     0.43443,     0.43544,     0.43644,     0.43744,     0.43844,     0.43944,     0.44044,     0.44144,     0.44244,     0.44344,     0.44444,     0.44545,     0.44645,     0.44745,     0.44845,     0.44945,     0.45045,     0.45145,     0.45245,     0.45345,     0.45445,     0.45546,\n",
       "           0.45646,     0.45746,     0.45846,     0.45946,     0.46046,     0.46146,     0.46246,     0.46346,     0.46446,     0.46547,     0.46647,     0.46747,     0.46847,     0.46947,     0.47047,     0.47147,     0.47247,     0.47347,     0.47447,     0.47548,     0.47648,     0.47748,     0.47848,     0.47948,\n",
       "           0.48048,     0.48148,     0.48248,     0.48348,     0.48448,     0.48549,     0.48649,     0.48749,     0.48849,     0.48949,     0.49049,     0.49149,     0.49249,     0.49349,     0.49449,      0.4955,      0.4965,      0.4975,      0.4985,      0.4995,      0.5005,      0.5015,      0.5025,      0.5035,\n",
       "            0.5045,     0.50551,     0.50651,     0.50751,     0.50851,     0.50951,     0.51051,     0.51151,     0.51251,     0.51351,     0.51451,     0.51552,     0.51652,     0.51752,     0.51852,     0.51952,     0.52052,     0.52152,     0.52252,     0.52352,     0.52452,     0.52553,     0.52653,     0.52753,\n",
       "           0.52853,     0.52953,     0.53053,     0.53153,     0.53253,     0.53353,     0.53453,     0.53554,     0.53654,     0.53754,     0.53854,     0.53954,     0.54054,     0.54154,     0.54254,     0.54354,     0.54454,     0.54555,     0.54655,     0.54755,     0.54855,     0.54955,     0.55055,     0.55155,\n",
       "           0.55255,     0.55355,     0.55455,     0.55556,     0.55656,     0.55756,     0.55856,     0.55956,     0.56056,     0.56156,     0.56256,     0.56356,     0.56456,     0.56557,     0.56657,     0.56757,     0.56857,     0.56957,     0.57057,     0.57157,     0.57257,     0.57357,     0.57457,     0.57558,\n",
       "           0.57658,     0.57758,     0.57858,     0.57958,     0.58058,     0.58158,     0.58258,     0.58358,     0.58458,     0.58559,     0.58659,     0.58759,     0.58859,     0.58959,     0.59059,     0.59159,     0.59259,     0.59359,     0.59459,      0.5956,      0.5966,      0.5976,      0.5986,      0.5996,\n",
       "            0.6006,      0.6016,      0.6026,      0.6036,      0.6046,     0.60561,     0.60661,     0.60761,     0.60861,     0.60961,     0.61061,     0.61161,     0.61261,     0.61361,     0.61461,     0.61562,     0.61662,     0.61762,     0.61862,     0.61962,     0.62062,     0.62162,     0.62262,     0.62362,\n",
       "           0.62462,     0.62563,     0.62663,     0.62763,     0.62863,     0.62963,     0.63063,     0.63163,     0.63263,     0.63363,     0.63463,     0.63564,     0.63664,     0.63764,     0.63864,     0.63964,     0.64064,     0.64164,     0.64264,     0.64364,     0.64464,     0.64565,     0.64665,     0.64765,\n",
       "           0.64865,     0.64965,     0.65065,     0.65165,     0.65265,     0.65365,     0.65465,     0.65566,     0.65666,     0.65766,     0.65866,     0.65966,     0.66066,     0.66166,     0.66266,     0.66366,     0.66466,     0.66567,     0.66667,     0.66767,     0.66867,     0.66967,     0.67067,     0.67167,\n",
       "           0.67267,     0.67367,     0.67467,     0.67568,     0.67668,     0.67768,     0.67868,     0.67968,     0.68068,     0.68168,     0.68268,     0.68368,     0.68468,     0.68569,     0.68669,     0.68769,     0.68869,     0.68969,     0.69069,     0.69169,     0.69269,     0.69369,     0.69469,      0.6957,\n",
       "            0.6967,      0.6977,      0.6987,      0.6997,      0.7007,      0.7017,      0.7027,      0.7037,      0.7047,     0.70571,     0.70671,     0.70771,     0.70871,     0.70971,     0.71071,     0.71171,     0.71271,     0.71371,     0.71471,     0.71572,     0.71672,     0.71772,     0.71872,     0.71972,\n",
       "           0.72072,     0.72172,     0.72272,     0.72372,     0.72472,     0.72573,     0.72673,     0.72773,     0.72873,     0.72973,     0.73073,     0.73173,     0.73273,     0.73373,     0.73473,     0.73574,     0.73674,     0.73774,     0.73874,     0.73974,     0.74074,     0.74174,     0.74274,     0.74374,\n",
       "           0.74474,     0.74575,     0.74675,     0.74775,     0.74875,     0.74975,     0.75075,     0.75175,     0.75275,     0.75375,     0.75475,     0.75576,     0.75676,     0.75776,     0.75876,     0.75976,     0.76076,     0.76176,     0.76276,     0.76376,     0.76476,     0.76577,     0.76677,     0.76777,\n",
       "           0.76877,     0.76977,     0.77077,     0.77177,     0.77277,     0.77377,     0.77477,     0.77578,     0.77678,     0.77778,     0.77878,     0.77978,     0.78078,     0.78178,     0.78278,     0.78378,     0.78478,     0.78579,     0.78679,     0.78779,     0.78879,     0.78979,     0.79079,     0.79179,\n",
       "           0.79279,     0.79379,     0.79479,      0.7958,      0.7968,      0.7978,      0.7988,      0.7998,      0.8008,      0.8018,      0.8028,      0.8038,      0.8048,     0.80581,     0.80681,     0.80781,     0.80881,     0.80981,     0.81081,     0.81181,     0.81281,     0.81381,     0.81481,     0.81582,\n",
       "           0.81682,     0.81782,     0.81882,     0.81982,     0.82082,     0.82182,     0.82282,     0.82382,     0.82482,     0.82583,     0.82683,     0.82783,     0.82883,     0.82983,     0.83083,     0.83183,     0.83283,     0.83383,     0.83483,     0.83584,     0.83684,     0.83784,     0.83884,     0.83984,\n",
       "           0.84084,     0.84184,     0.84284,     0.84384,     0.84484,     0.84585,     0.84685,     0.84785,     0.84885,     0.84985,     0.85085,     0.85185,     0.85285,     0.85385,     0.85485,     0.85586,     0.85686,     0.85786,     0.85886,     0.85986,     0.86086,     0.86186,     0.86286,     0.86386,\n",
       "           0.86486,     0.86587,     0.86687,     0.86787,     0.86887,     0.86987,     0.87087,     0.87187,     0.87287,     0.87387,     0.87487,     0.87588,     0.87688,     0.87788,     0.87888,     0.87988,     0.88088,     0.88188,     0.88288,     0.88388,     0.88488,     0.88589,     0.88689,     0.88789,\n",
       "           0.88889,     0.88989,     0.89089,     0.89189,     0.89289,     0.89389,     0.89489,      0.8959,      0.8969,      0.8979,      0.8989,      0.8999,      0.9009,      0.9019,      0.9029,      0.9039,      0.9049,     0.90591,     0.90691,     0.90791,     0.90891,     0.90991,     0.91091,     0.91191,\n",
       "           0.91291,     0.91391,     0.91491,     0.91592,     0.91692,     0.91792,     0.91892,     0.91992,     0.92092,     0.92192,     0.92292,     0.92392,     0.92492,     0.92593,     0.92693,     0.92793,     0.92893,     0.92993,     0.93093,     0.93193,     0.93293,     0.93393,     0.93493,     0.93594,\n",
       "           0.93694,     0.93794,     0.93894,     0.93994,     0.94094,     0.94194,     0.94294,     0.94394,     0.94494,     0.94595,     0.94695,     0.94795,     0.94895,     0.94995,     0.95095,     0.95195,     0.95295,     0.95395,     0.95495,     0.95596,     0.95696,     0.95796,     0.95896,     0.95996,\n",
       "           0.96096,     0.96196,     0.96296,     0.96396,     0.96496,     0.96597,     0.96697,     0.96797,     0.96897,     0.96997,     0.97097,     0.97197,     0.97297,     0.97397,     0.97497,     0.97598,     0.97698,     0.97798,     0.97898,     0.97998,     0.98098,     0.98198,     0.98298,     0.98398,\n",
       "           0.98498,     0.98599,     0.98699,     0.98799,     0.98899,     0.98999,     0.99099,     0.99199,     0.99299,     0.99399,     0.99499,       0.996,       0.997,       0.998,       0.999,           1]), array([[  0.0076667,   0.0076667,   0.0076667,   0.0079493,   0.0080255,   0.0084597,   0.0091278,    0.009781,     0.01072,    0.011705,    0.012622,    0.013577,    0.014545,    0.014033,    0.014885,    0.015776,    0.016546,    0.017404,    0.018205,    0.018874,    0.019178,    0.020088,    0.020815,\n",
       "           0.021653,     0.02192,    0.022062,    0.022734,    0.023363,    0.024119,    0.024975,    0.025727,    0.026655,    0.027634,    0.028537,    0.029219,    0.030048,    0.029989,    0.030698,    0.031387,     0.03204,    0.032591,      0.0332,    0.033769,    0.034491,    0.035295,    0.035909,\n",
       "           0.036608,    0.037241,    0.036729,    0.036455,    0.036289,     0.03704,    0.037605,    0.038403,    0.039062,    0.038797,    0.039292,    0.040147,     0.04067,    0.041721,    0.042507,    0.042858,    0.043377,    0.043917,    0.044448,     0.04365,    0.044327,    0.044762,    0.045604,\n",
       "           0.046674,    0.046791,    0.047202,    0.047726,    0.048248,    0.049086,    0.050091,    0.050567,    0.051158,    0.051564,    0.052477,    0.053025,    0.053433,    0.053951,     0.05496,    0.054077,    0.054916,    0.055405,     0.05625,    0.056681,    0.057532,    0.058172,    0.058676,\n",
       "             0.0596,    0.060511,    0.061093,    0.061661,    0.062161,    0.062578,    0.063199,    0.063351,    0.061717,    0.062384,    0.063627,     0.06437,    0.064878,    0.065247,      0.0659,    0.066514,    0.067309,    0.068462,     0.06653,    0.066663,    0.067336,    0.068064,    0.069059,\n",
       "           0.069357,    0.069907,    0.070406,    0.070773,    0.070937,    0.071275,    0.071406,    0.069623,    0.070897,    0.071293,    0.071659,     0.07217,    0.072536,    0.069093,    0.069616,    0.070308,    0.070934,     0.06842,    0.069298,    0.070546,    0.071302,    0.071692,    0.071853,\n",
       "           0.072373,    0.072651,    0.073397,    0.073827,    0.074245,    0.075369,     0.07609,     0.07674,    0.077046,     0.07783,    0.078085,    0.078297,    0.079198,    0.076365,    0.077359,    0.077648,    0.078448,    0.079106,    0.080421,    0.081512,    0.083387,    0.083601,    0.083867,\n",
       "           0.084709,    0.085247,    0.086188,    0.086711,    0.087217,    0.087964,    0.090068,    0.091025,    0.088258,    0.089793,    0.090265,     0.09139,    0.091596,    0.092519,    0.092739,    0.093199,    0.093917,     0.09507,    0.096481,     0.09688,    0.097014,    0.097149,     0.09822,\n",
       "           0.098577,     0.09955,     0.10111,     0.10145,     0.10237,     0.10346,     0.10439,     0.10497,     0.10556,     0.10571,     0.10586,     0.10601,     0.10722,     0.10739,     0.10757,     0.10791,     0.10886,     0.10913,     0.10939,     0.10954,     0.10969,     0.10984,     0.11024,\n",
       "            0.11114,     0.11183,     0.11215,     0.11342,     0.11488,     0.11512,     0.11535,     0.11633,     0.11872,      0.1195,     0.12034,     0.12097,     0.12212,     0.12232,     0.12253,     0.12273,     0.12295,     0.12319,     0.12343,     0.12499,     0.12744,      0.1283,     0.12918,\n",
       "            0.12983,     0.13021,      0.1306,     0.13101,     0.13139,     0.13175,      0.1322,      0.1331,     0.13338,     0.13367,     0.12933,     0.13002,     0.13096,     0.13134,     0.12823,      0.1266,     0.12754,     0.12778,     0.12801,     0.12825,     0.12893,     0.13021,     0.13043,\n",
       "            0.13065,     0.13088,     0.13148,     0.13056,     0.12727,     0.12859,     0.12921,     0.12963,     0.12988,     0.13013,     0.13037,     0.13201,     0.13262,     0.13303,     0.13354,     0.13389,      0.1283,     0.12917,     0.12998,     0.13067,      0.1315,     0.13203,     0.13239,\n",
       "            0.13276,      0.1339,     0.13411,     0.13432,     0.13453,     0.13474,     0.13597,     0.13762,     0.13819,     0.13858,     0.13896,     0.13934,     0.14019,     0.14152,     0.14387,     0.14616,     0.14726,     0.14824,     0.14908,     0.14165,     0.14225,     0.14284,     0.14317,\n",
       "            0.14348,      0.1438,     0.14412,     0.14839,     0.14922,     0.15185,     0.15264,     0.15303,     0.15341,      0.1538,     0.15425,      0.1547,     0.15516,     0.15599,     0.15698,     0.15764,     0.15831,     0.15937,     0.16084,     0.16403,     0.16529,     0.16629,     0.16702,\n",
       "            0.16758,     0.16814,     0.16861,       0.169,     0.16938,     0.16976,     0.17014,     0.17205,      0.1727,     0.17335,     0.17418,     0.17618,      0.1778,     0.17835,      0.1789,     0.17945,     0.18188,     0.18296,     0.18397,     0.18448,     0.18498,     0.18549,     0.18599,\n",
       "            0.18624,     0.18645,     0.18667,     0.18688,     0.18709,     0.18731,     0.18752,     0.18774,     0.18795,     0.18816,     0.18679,     0.18464,     0.18249,     0.18033,     0.17863,     0.17898,     0.17932,     0.17966,        0.18,     0.18034,     0.18068,     0.18322,     0.18808,\n",
       "            0.18926,     0.19194,     0.19287,     0.19348,      0.1941,     0.19471,     0.18866,     0.19019,     0.19127,     0.19221,     0.19303,     0.19384,     0.19683,     0.19744,      0.1977,     0.19796,     0.19823,     0.19849,     0.19875,     0.19902,     0.19928,     0.19954,     0.19981,\n",
       "            0.20057,     0.20278,     0.19608,     0.19157,     0.19279,     0.19401,         0.2,     0.20212,     0.20461,     0.20977,     0.21077,     0.21178,     0.21279,     0.21367,     0.21448,      0.2153,     0.21611,     0.21697,     0.21792,     0.21887,     0.21982,     0.22062,     0.22124,\n",
       "            0.22186,     0.22248,     0.22311,     0.22373,     0.22545,     0.22866,     0.23046,     0.23244,     0.23503,     0.22254,     0.22692,     0.22761,      0.2283,       0.229,     0.22969,     0.23039,     0.23192,     0.23447,      0.2355,     0.23579,     0.23609,     0.23639,     0.23669,\n",
       "            0.23699,     0.23729,     0.23759,     0.23789,     0.23818,     0.23848,     0.23878,     0.23908,     0.23938,     0.23968,     0.23998,     0.24045,     0.24094,     0.24143,     0.24192,     0.24241,      0.2429,     0.24339,     0.24388,     0.24437,     0.24486,     0.25055,     0.25239,\n",
       "            0.25422,     0.25671,     0.26017,     0.26422,     0.26735,     0.26899,     0.27063,     0.27227,     0.27532,     0.27892,     0.28004,     0.28105,     0.28206,     0.28308,     0.28409,      0.2851,     0.27754,     0.27011,     0.27338,      0.2757,      0.2771,     0.27849,     0.27988,\n",
       "            0.28128,     0.28855,     0.28142,     0.27429,     0.26948,     0.26766,     0.26585,     0.26403,     0.26221,      0.2604,     0.25858,     0.25676,     0.25495,     0.25313,     0.25131,     0.25025,     0.25116,     0.25207,     0.25298,     0.25388,     0.25479,      0.2557,     0.25661,\n",
       "            0.24487,     0.24064,     0.24481,     0.24789,     0.25047,     0.25196,     0.25344,     0.25493,     0.25641,     0.25789,     0.25897,     0.25999,     0.26102,     0.26204,     0.26306,     0.26409,     0.26511,     0.26613,     0.26745,     0.26907,      0.2707,     0.27232,     0.27395,\n",
       "            0.27557,     0.27714,     0.27869,     0.28025,     0.28181,     0.28336,     0.28492,     0.28657,     0.28833,     0.29009,     0.29185,      0.2936,     0.29536,     0.29515,     0.29271,     0.29027,     0.28782,     0.28538,     0.28294,      0.2805,     0.27805,     0.27561,     0.27317,\n",
       "            0.27072,     0.27125,     0.27644,     0.28053,     0.28222,     0.28391,      0.2856,     0.28729,     0.28898,     0.29067,     0.29309,     0.29653,     0.29998,     0.30343,     0.30251,     0.30001,      0.2975,       0.295,     0.29249,     0.28999,     0.28748,     0.28498,     0.28248,\n",
       "            0.27997,     0.27747,     0.27496,     0.27278,     0.27329,      0.2738,     0.27431,     0.27482,     0.27533,     0.27584,     0.27634,     0.27685,     0.27736,     0.27787,     0.27838,     0.27889,      0.2794,     0.27991,     0.28042,     0.28092,     0.28143,     0.28194,     0.28245,\n",
       "            0.28296,     0.28347,     0.28398,     0.28449,       0.285,      0.2855,     0.28122,     0.27356,      0.2659,     0.25823,     0.25057,     0.25414,     0.25862,     0.26309,     0.26368,      0.2642,     0.26473,     0.26525,     0.26578,      0.2663,     0.26683,     0.26736,     0.26788,\n",
       "            0.26841,     0.26893,     0.26946,     0.26998,     0.27051,     0.27104,     0.27156,     0.27209,     0.27261,     0.27314,     0.27366,     0.27419,     0.27471,     0.27524,     0.27577,     0.27629,     0.27682,     0.27734,     0.27786,     0.27836,     0.27886,     0.27935,     0.27985,\n",
       "            0.28034,     0.28084,     0.28134,     0.28183,     0.28233,     0.28282,     0.28332,     0.28382,     0.28431,     0.28481,      0.2853,      0.2858,      0.2863,     0.28679,     0.28729,     0.28778,     0.28828,     0.28878,     0.28927,     0.28977,     0.29026,     0.29076,     0.29126,\n",
       "            0.29175,     0.29225,     0.29274,     0.29324,     0.29374,     0.29425,     0.29482,     0.29539,     0.29595,     0.29652,     0.29709,     0.29766,     0.29822,     0.29879,     0.29936,     0.29993,      0.3005,     0.30106,     0.30163,      0.3022,     0.30277,     0.30333,      0.3039,\n",
       "            0.30447,     0.30504,     0.30561,     0.30617,     0.30674,     0.30731,     0.30788,     0.30844,     0.30901,     0.30958,     0.31015,     0.31072,     0.31128,     0.31185,     0.31242,     0.31302,     0.31363,     0.31424,     0.31485,     0.31546,     0.31607,     0.31669,      0.3173,\n",
       "            0.31791,     0.31852,     0.31913,     0.31974,     0.32035,     0.32096,     0.32157,     0.32218,     0.32279,      0.3234,     0.32401,     0.32462,     0.32523,     0.32584,     0.32645,     0.32706,     0.32767,     0.32828,     0.32889,      0.3295,     0.33011,     0.33072,     0.33133,\n",
       "            0.33194,     0.33255,     0.33316,     0.34534,     0.35887,     0.36486,     0.37085,     0.37684,     0.38284,     0.38672,     0.38971,      0.3927,      0.3957,     0.39869,     0.40168,     0.40467,     0.40767,     0.41066,     0.41365,     0.41664,     0.42322,     0.42982,     0.43643,\n",
       "            0.44304,     0.44964,     0.45768,     0.46986,     0.48204,     0.49422,     0.50113,     0.50327,     0.50541,     0.50756,      0.5097,     0.51184,     0.51399,     0.51613,     0.51827,     0.52042,     0.52256,      0.5247,     0.52685,     0.52899,     0.53113,     0.53328,     0.53542,\n",
       "            0.53756,     0.53971,     0.54185,     0.54399,     0.54614,     0.54828,     0.55042,     0.55257,     0.55471,     0.55458,     0.55297,     0.55136,     0.54974,     0.54813,     0.54652,     0.54491,      0.5433,     0.54169,     0.54007,     0.53846,     0.53685,     0.53524,     0.53363,\n",
       "            0.53201,      0.5304,     0.52879,     0.52718,     0.52557,     0.52395,     0.52234,     0.52073,     0.51912,     0.51751,      0.5159,     0.51428,     0.51267,     0.51106,     0.50945,     0.50784,     0.50622,     0.50461,       0.503,     0.50139,     0.49979,      0.4983,     0.49681,\n",
       "            0.49532,     0.49383,     0.49234,     0.49084,     0.48935,     0.48786,     0.48637,     0.48488,     0.48339,     0.48189,      0.4804,     0.47891,     0.47742,     0.47593,     0.47444,     0.47294,     0.47145,     0.46996,     0.46847,     0.46698,     0.46549,     0.46399,      0.4625,\n",
       "            0.46101,     0.45952,     0.45803,     0.45654,     0.45505,     0.45355,     0.45206,     0.45057,     0.44908,     0.44759,      0.4461,      0.4446,     0.44311,     0.44162,     0.44013,     0.43864,     0.43715,     0.43565,     0.43416,     0.43267,     0.43118,     0.42969,     0.42499,\n",
       "            0.41076,     0.39653,      0.3823,     0.36807,     0.35384,     0.33961,     0.33896,     0.34904,     0.35911,     0.36919,     0.37927,     0.38934,     0.39942,       0.467,     0.51893,     0.55427,     0.58961,     0.62494,     0.66028,     0.69485,     0.72925,     0.76365,     0.79805,\n",
       "            0.83245,     0.86685,     0.90125,     0.93565,     0.97005,           1,           1,           1,           1,           1,           1,           1,           1,           1,           1,           1,           1,           1,           1,           1,           1,           1,           1,\n",
       "                  1,           1,           1,           1,           1,           1,           1,           1,           1,           1,           1,           1,           1,           1,           1,           1,           1,           1,           1,           1,           1,           1,           1,\n",
       "                  1,           1,           1,           1,           1,           1,           1,           1,           1,           1,           1,           1,           1,           1,           1,           1,           1,           1,           1,           1,           1,           1,           1,\n",
       "                  1,           1,           1,           1,           1,           1,           1,           1,           1,           1,           1,           1,           1,           1,           1,           1,           1,           1,           1,           1,           1,           1,           1,\n",
       "                  1,           1,           1,           1,           1,           1,           1,           1,           1,           1,           1]]), 'Confidence', 'Precision'], [array([          0,    0.001001,    0.002002,    0.003003,    0.004004,    0.005005,    0.006006,    0.007007,    0.008008,    0.009009,     0.01001,    0.011011,    0.012012,    0.013013,    0.014014,    0.015015,    0.016016,    0.017017,    0.018018,    0.019019,     0.02002,    0.021021,    0.022022,    0.023023,\n",
       "          0.024024,    0.025025,    0.026026,    0.027027,    0.028028,    0.029029,     0.03003,    0.031031,    0.032032,    0.033033,    0.034034,    0.035035,    0.036036,    0.037037,    0.038038,    0.039039,     0.04004,    0.041041,    0.042042,    0.043043,    0.044044,    0.045045,    0.046046,    0.047047,\n",
       "          0.048048,    0.049049,     0.05005,    0.051051,    0.052052,    0.053053,    0.054054,    0.055055,    0.056056,    0.057057,    0.058058,    0.059059,     0.06006,    0.061061,    0.062062,    0.063063,    0.064064,    0.065065,    0.066066,    0.067067,    0.068068,    0.069069,     0.07007,    0.071071,\n",
       "          0.072072,    0.073073,    0.074074,    0.075075,    0.076076,    0.077077,    0.078078,    0.079079,     0.08008,    0.081081,    0.082082,    0.083083,    0.084084,    0.085085,    0.086086,    0.087087,    0.088088,    0.089089,     0.09009,    0.091091,    0.092092,    0.093093,    0.094094,    0.095095,\n",
       "          0.096096,    0.097097,    0.098098,    0.099099,      0.1001,      0.1011,      0.1021,      0.1031,      0.1041,     0.10511,     0.10611,     0.10711,     0.10811,     0.10911,     0.11011,     0.11111,     0.11211,     0.11311,     0.11411,     0.11512,     0.11612,     0.11712,     0.11812,     0.11912,\n",
       "           0.12012,     0.12112,     0.12212,     0.12312,     0.12412,     0.12513,     0.12613,     0.12713,     0.12813,     0.12913,     0.13013,     0.13113,     0.13213,     0.13313,     0.13413,     0.13514,     0.13614,     0.13714,     0.13814,     0.13914,     0.14014,     0.14114,     0.14214,     0.14314,\n",
       "           0.14414,     0.14515,     0.14615,     0.14715,     0.14815,     0.14915,     0.15015,     0.15115,     0.15215,     0.15315,     0.15415,     0.15516,     0.15616,     0.15716,     0.15816,     0.15916,     0.16016,     0.16116,     0.16216,     0.16316,     0.16416,     0.16517,     0.16617,     0.16717,\n",
       "           0.16817,     0.16917,     0.17017,     0.17117,     0.17217,     0.17317,     0.17417,     0.17518,     0.17618,     0.17718,     0.17818,     0.17918,     0.18018,     0.18118,     0.18218,     0.18318,     0.18418,     0.18519,     0.18619,     0.18719,     0.18819,     0.18919,     0.19019,     0.19119,\n",
       "           0.19219,     0.19319,     0.19419,      0.1952,      0.1962,      0.1972,      0.1982,      0.1992,      0.2002,      0.2012,      0.2022,      0.2032,      0.2042,     0.20521,     0.20621,     0.20721,     0.20821,     0.20921,     0.21021,     0.21121,     0.21221,     0.21321,     0.21421,     0.21522,\n",
       "           0.21622,     0.21722,     0.21822,     0.21922,     0.22022,     0.22122,     0.22222,     0.22322,     0.22422,     0.22523,     0.22623,     0.22723,     0.22823,     0.22923,     0.23023,     0.23123,     0.23223,     0.23323,     0.23423,     0.23524,     0.23624,     0.23724,     0.23824,     0.23924,\n",
       "           0.24024,     0.24124,     0.24224,     0.24324,     0.24424,     0.24525,     0.24625,     0.24725,     0.24825,     0.24925,     0.25025,     0.25125,     0.25225,     0.25325,     0.25425,     0.25526,     0.25626,     0.25726,     0.25826,     0.25926,     0.26026,     0.26126,     0.26226,     0.26326,\n",
       "           0.26426,     0.26527,     0.26627,     0.26727,     0.26827,     0.26927,     0.27027,     0.27127,     0.27227,     0.27327,     0.27427,     0.27528,     0.27628,     0.27728,     0.27828,     0.27928,     0.28028,     0.28128,     0.28228,     0.28328,     0.28428,     0.28529,     0.28629,     0.28729,\n",
       "           0.28829,     0.28929,     0.29029,     0.29129,     0.29229,     0.29329,     0.29429,      0.2953,      0.2963,      0.2973,      0.2983,      0.2993,      0.3003,      0.3013,      0.3023,      0.3033,      0.3043,     0.30531,     0.30631,     0.30731,     0.30831,     0.30931,     0.31031,     0.31131,\n",
       "           0.31231,     0.31331,     0.31431,     0.31532,     0.31632,     0.31732,     0.31832,     0.31932,     0.32032,     0.32132,     0.32232,     0.32332,     0.32432,     0.32533,     0.32633,     0.32733,     0.32833,     0.32933,     0.33033,     0.33133,     0.33233,     0.33333,     0.33433,     0.33534,\n",
       "           0.33634,     0.33734,     0.33834,     0.33934,     0.34034,     0.34134,     0.34234,     0.34334,     0.34434,     0.34535,     0.34635,     0.34735,     0.34835,     0.34935,     0.35035,     0.35135,     0.35235,     0.35335,     0.35435,     0.35536,     0.35636,     0.35736,     0.35836,     0.35936,\n",
       "           0.36036,     0.36136,     0.36236,     0.36336,     0.36436,     0.36537,     0.36637,     0.36737,     0.36837,     0.36937,     0.37037,     0.37137,     0.37237,     0.37337,     0.37437,     0.37538,     0.37638,     0.37738,     0.37838,     0.37938,     0.38038,     0.38138,     0.38238,     0.38338,\n",
       "           0.38438,     0.38539,     0.38639,     0.38739,     0.38839,     0.38939,     0.39039,     0.39139,     0.39239,     0.39339,     0.39439,      0.3954,      0.3964,      0.3974,      0.3984,      0.3994,      0.4004,      0.4014,      0.4024,      0.4034,      0.4044,     0.40541,     0.40641,     0.40741,\n",
       "           0.40841,     0.40941,     0.41041,     0.41141,     0.41241,     0.41341,     0.41441,     0.41542,     0.41642,     0.41742,     0.41842,     0.41942,     0.42042,     0.42142,     0.42242,     0.42342,     0.42442,     0.42543,     0.42643,     0.42743,     0.42843,     0.42943,     0.43043,     0.43143,\n",
       "           0.43243,     0.43343,     0.43443,     0.43544,     0.43644,     0.43744,     0.43844,     0.43944,     0.44044,     0.44144,     0.44244,     0.44344,     0.44444,     0.44545,     0.44645,     0.44745,     0.44845,     0.44945,     0.45045,     0.45145,     0.45245,     0.45345,     0.45445,     0.45546,\n",
       "           0.45646,     0.45746,     0.45846,     0.45946,     0.46046,     0.46146,     0.46246,     0.46346,     0.46446,     0.46547,     0.46647,     0.46747,     0.46847,     0.46947,     0.47047,     0.47147,     0.47247,     0.47347,     0.47447,     0.47548,     0.47648,     0.47748,     0.47848,     0.47948,\n",
       "           0.48048,     0.48148,     0.48248,     0.48348,     0.48448,     0.48549,     0.48649,     0.48749,     0.48849,     0.48949,     0.49049,     0.49149,     0.49249,     0.49349,     0.49449,      0.4955,      0.4965,      0.4975,      0.4985,      0.4995,      0.5005,      0.5015,      0.5025,      0.5035,\n",
       "            0.5045,     0.50551,     0.50651,     0.50751,     0.50851,     0.50951,     0.51051,     0.51151,     0.51251,     0.51351,     0.51451,     0.51552,     0.51652,     0.51752,     0.51852,     0.51952,     0.52052,     0.52152,     0.52252,     0.52352,     0.52452,     0.52553,     0.52653,     0.52753,\n",
       "           0.52853,     0.52953,     0.53053,     0.53153,     0.53253,     0.53353,     0.53453,     0.53554,     0.53654,     0.53754,     0.53854,     0.53954,     0.54054,     0.54154,     0.54254,     0.54354,     0.54454,     0.54555,     0.54655,     0.54755,     0.54855,     0.54955,     0.55055,     0.55155,\n",
       "           0.55255,     0.55355,     0.55455,     0.55556,     0.55656,     0.55756,     0.55856,     0.55956,     0.56056,     0.56156,     0.56256,     0.56356,     0.56456,     0.56557,     0.56657,     0.56757,     0.56857,     0.56957,     0.57057,     0.57157,     0.57257,     0.57357,     0.57457,     0.57558,\n",
       "           0.57658,     0.57758,     0.57858,     0.57958,     0.58058,     0.58158,     0.58258,     0.58358,     0.58458,     0.58559,     0.58659,     0.58759,     0.58859,     0.58959,     0.59059,     0.59159,     0.59259,     0.59359,     0.59459,      0.5956,      0.5966,      0.5976,      0.5986,      0.5996,\n",
       "            0.6006,      0.6016,      0.6026,      0.6036,      0.6046,     0.60561,     0.60661,     0.60761,     0.60861,     0.60961,     0.61061,     0.61161,     0.61261,     0.61361,     0.61461,     0.61562,     0.61662,     0.61762,     0.61862,     0.61962,     0.62062,     0.62162,     0.62262,     0.62362,\n",
       "           0.62462,     0.62563,     0.62663,     0.62763,     0.62863,     0.62963,     0.63063,     0.63163,     0.63263,     0.63363,     0.63463,     0.63564,     0.63664,     0.63764,     0.63864,     0.63964,     0.64064,     0.64164,     0.64264,     0.64364,     0.64464,     0.64565,     0.64665,     0.64765,\n",
       "           0.64865,     0.64965,     0.65065,     0.65165,     0.65265,     0.65365,     0.65465,     0.65566,     0.65666,     0.65766,     0.65866,     0.65966,     0.66066,     0.66166,     0.66266,     0.66366,     0.66466,     0.66567,     0.66667,     0.66767,     0.66867,     0.66967,     0.67067,     0.67167,\n",
       "           0.67267,     0.67367,     0.67467,     0.67568,     0.67668,     0.67768,     0.67868,     0.67968,     0.68068,     0.68168,     0.68268,     0.68368,     0.68468,     0.68569,     0.68669,     0.68769,     0.68869,     0.68969,     0.69069,     0.69169,     0.69269,     0.69369,     0.69469,      0.6957,\n",
       "            0.6967,      0.6977,      0.6987,      0.6997,      0.7007,      0.7017,      0.7027,      0.7037,      0.7047,     0.70571,     0.70671,     0.70771,     0.70871,     0.70971,     0.71071,     0.71171,     0.71271,     0.71371,     0.71471,     0.71572,     0.71672,     0.71772,     0.71872,     0.71972,\n",
       "           0.72072,     0.72172,     0.72272,     0.72372,     0.72472,     0.72573,     0.72673,     0.72773,     0.72873,     0.72973,     0.73073,     0.73173,     0.73273,     0.73373,     0.73473,     0.73574,     0.73674,     0.73774,     0.73874,     0.73974,     0.74074,     0.74174,     0.74274,     0.74374,\n",
       "           0.74474,     0.74575,     0.74675,     0.74775,     0.74875,     0.74975,     0.75075,     0.75175,     0.75275,     0.75375,     0.75475,     0.75576,     0.75676,     0.75776,     0.75876,     0.75976,     0.76076,     0.76176,     0.76276,     0.76376,     0.76476,     0.76577,     0.76677,     0.76777,\n",
       "           0.76877,     0.76977,     0.77077,     0.77177,     0.77277,     0.77377,     0.77477,     0.77578,     0.77678,     0.77778,     0.77878,     0.77978,     0.78078,     0.78178,     0.78278,     0.78378,     0.78478,     0.78579,     0.78679,     0.78779,     0.78879,     0.78979,     0.79079,     0.79179,\n",
       "           0.79279,     0.79379,     0.79479,      0.7958,      0.7968,      0.7978,      0.7988,      0.7998,      0.8008,      0.8018,      0.8028,      0.8038,      0.8048,     0.80581,     0.80681,     0.80781,     0.80881,     0.80981,     0.81081,     0.81181,     0.81281,     0.81381,     0.81481,     0.81582,\n",
       "           0.81682,     0.81782,     0.81882,     0.81982,     0.82082,     0.82182,     0.82282,     0.82382,     0.82482,     0.82583,     0.82683,     0.82783,     0.82883,     0.82983,     0.83083,     0.83183,     0.83283,     0.83383,     0.83483,     0.83584,     0.83684,     0.83784,     0.83884,     0.83984,\n",
       "           0.84084,     0.84184,     0.84284,     0.84384,     0.84484,     0.84585,     0.84685,     0.84785,     0.84885,     0.84985,     0.85085,     0.85185,     0.85285,     0.85385,     0.85485,     0.85586,     0.85686,     0.85786,     0.85886,     0.85986,     0.86086,     0.86186,     0.86286,     0.86386,\n",
       "           0.86486,     0.86587,     0.86687,     0.86787,     0.86887,     0.86987,     0.87087,     0.87187,     0.87287,     0.87387,     0.87487,     0.87588,     0.87688,     0.87788,     0.87888,     0.87988,     0.88088,     0.88188,     0.88288,     0.88388,     0.88488,     0.88589,     0.88689,     0.88789,\n",
       "           0.88889,     0.88989,     0.89089,     0.89189,     0.89289,     0.89389,     0.89489,      0.8959,      0.8969,      0.8979,      0.8989,      0.8999,      0.9009,      0.9019,      0.9029,      0.9039,      0.9049,     0.90591,     0.90691,     0.90791,     0.90891,     0.90991,     0.91091,     0.91191,\n",
       "           0.91291,     0.91391,     0.91491,     0.91592,     0.91692,     0.91792,     0.91892,     0.91992,     0.92092,     0.92192,     0.92292,     0.92392,     0.92492,     0.92593,     0.92693,     0.92793,     0.92893,     0.92993,     0.93093,     0.93193,     0.93293,     0.93393,     0.93493,     0.93594,\n",
       "           0.93694,     0.93794,     0.93894,     0.93994,     0.94094,     0.94194,     0.94294,     0.94394,     0.94494,     0.94595,     0.94695,     0.94795,     0.94895,     0.94995,     0.95095,     0.95195,     0.95295,     0.95395,     0.95495,     0.95596,     0.95696,     0.95796,     0.95896,     0.95996,\n",
       "           0.96096,     0.96196,     0.96296,     0.96396,     0.96496,     0.96597,     0.96697,     0.96797,     0.96897,     0.96997,     0.97097,     0.97197,     0.97297,     0.97397,     0.97497,     0.97598,     0.97698,     0.97798,     0.97898,     0.97998,     0.98098,     0.98198,     0.98298,     0.98398,\n",
       "           0.98498,     0.98599,     0.98699,     0.98799,     0.98899,     0.98999,     0.99099,     0.99199,     0.99299,     0.99399,     0.99499,       0.996,       0.997,       0.998,       0.999,           1]), array([[     0.7931,      0.7931,      0.7931,      0.7931,     0.75862,     0.74138,     0.74138,     0.74138,     0.74138,     0.74138,     0.74138,     0.74138,     0.74138,     0.67241,     0.67241,     0.67241,     0.67241,     0.67241,     0.67241,     0.67241,     0.65517,     0.65517,     0.65517,\n",
       "            0.65517,     0.63793,     0.62069,     0.62069,     0.62069,     0.62069,     0.62069,     0.62069,     0.62069,     0.62069,     0.62069,     0.62069,     0.62069,     0.60345,     0.60345,     0.60345,     0.60345,     0.60345,     0.60345,     0.60345,     0.60345,     0.60345,     0.60345,\n",
       "            0.60345,     0.60345,     0.58621,     0.56897,     0.55172,     0.55172,     0.55172,     0.55172,     0.55172,     0.54003,     0.53448,     0.53448,     0.53448,     0.53448,     0.53448,     0.53448,     0.53448,     0.53448,     0.53448,     0.51724,     0.51724,     0.51724,     0.51724,\n",
       "            0.51724,     0.51724,     0.51724,     0.51724,     0.51724,     0.51724,     0.51724,     0.51724,     0.51724,     0.51724,     0.51724,     0.51724,     0.51724,     0.51724,     0.51724,     0.50269,         0.5,         0.5,         0.5,         0.5,         0.5,         0.5,         0.5,\n",
       "                0.5,         0.5,         0.5,         0.5,         0.5,         0.5,         0.5,         0.5,     0.48276,     0.48276,     0.48276,     0.48276,     0.48276,     0.48276,     0.48276,     0.48276,     0.48276,     0.48276,     0.46552,     0.46552,     0.46552,     0.46552,     0.46552,\n",
       "            0.46552,     0.46552,     0.46552,     0.46552,     0.46552,     0.46552,     0.46552,     0.44828,     0.44828,     0.44828,     0.44828,     0.44828,     0.44499,     0.41379,     0.41379,     0.41379,     0.41379,     0.39655,     0.39655,     0.39655,     0.39655,     0.39655,     0.39655,\n",
       "            0.39655,     0.39655,     0.39655,     0.39655,     0.39655,     0.39655,     0.39655,     0.39655,     0.39655,     0.39655,     0.39655,     0.39655,     0.39655,     0.37931,     0.37931,     0.37931,     0.37931,     0.37931,     0.37931,     0.37931,     0.37931,     0.37931,     0.37931,\n",
       "            0.37931,     0.37931,     0.37931,     0.37931,     0.37931,     0.37931,     0.37931,     0.37931,     0.36207,     0.36207,     0.36207,     0.36207,     0.36207,     0.36207,     0.36207,     0.36207,     0.36207,     0.36207,     0.36207,     0.36207,     0.36207,     0.36207,     0.36207,\n",
       "            0.36207,     0.36207,     0.36207,     0.36207,     0.36207,     0.36207,     0.36207,     0.36207,     0.36207,     0.36207,     0.36207,     0.36207,     0.36207,     0.36207,     0.36207,     0.36207,     0.36207,     0.36207,     0.36207,     0.36207,     0.36207,     0.36207,     0.36207,\n",
       "            0.36207,     0.36207,     0.36207,     0.36207,     0.36207,     0.36207,     0.36207,     0.36207,     0.36207,     0.36207,     0.36207,     0.36207,     0.36207,     0.36207,     0.36207,     0.36207,     0.36207,     0.36207,     0.36207,     0.36207,     0.36207,     0.36207,     0.36207,\n",
       "            0.36207,     0.36207,     0.36207,     0.36207,     0.36207,     0.36207,     0.36207,     0.36207,     0.36207,     0.36207,     0.34483,     0.34483,     0.34483,     0.34483,      0.3348,     0.32759,     0.32759,     0.32759,     0.32759,     0.32759,     0.32759,     0.32759,     0.32759,\n",
       "            0.32759,     0.32759,     0.32759,     0.32108,     0.31034,     0.31034,     0.31034,     0.31034,     0.31034,     0.31034,     0.31034,     0.31034,     0.31034,     0.31034,     0.31034,     0.30919,     0.29437,      0.2931,      0.2931,      0.2931,      0.2931,      0.2931,      0.2931,\n",
       "             0.2931,      0.2931,      0.2931,      0.2931,      0.2931,      0.2931,      0.2931,      0.2931,      0.2931,      0.2931,      0.2931,      0.2931,      0.2931,      0.2931,      0.2931,      0.2931,      0.2931,      0.2931,      0.2931,     0.27586,     0.27586,     0.27586,     0.27586,\n",
       "            0.27586,     0.27586,     0.27586,     0.27586,     0.27586,     0.27586,     0.27586,     0.27586,     0.27586,     0.27586,     0.27586,     0.27586,     0.27586,     0.27586,     0.27586,     0.27586,     0.27586,     0.27586,     0.27586,     0.27586,     0.27586,     0.27586,     0.27586,\n",
       "            0.27586,     0.27586,     0.27586,     0.27586,     0.27586,     0.27586,     0.27586,     0.27586,     0.27586,     0.27586,     0.27586,     0.27586,     0.27586,     0.27586,     0.27586,     0.27586,     0.27586,     0.27586,     0.27586,     0.27586,     0.27586,     0.27586,     0.27586,\n",
       "            0.27586,     0.27586,     0.27586,     0.27586,     0.27586,     0.27586,     0.27586,     0.27586,     0.27586,     0.27586,     0.27329,     0.26945,     0.26561,     0.26176,     0.25862,     0.25862,     0.25862,     0.25862,     0.25862,     0.25862,     0.25862,     0.25862,     0.25862,\n",
       "            0.25862,     0.25862,     0.25862,     0.25862,     0.25862,     0.25862,     0.24138,     0.24138,     0.24138,     0.24138,     0.24138,     0.24138,     0.24138,     0.24138,     0.24138,     0.24138,     0.24138,     0.24138,     0.24138,     0.24138,     0.24138,     0.24138,     0.24138,\n",
       "            0.24138,     0.24138,     0.23134,     0.22414,     0.22414,     0.22414,     0.22414,     0.22414,     0.22414,     0.22414,     0.22414,     0.22414,     0.22414,     0.22414,     0.22414,     0.22414,     0.22414,     0.22414,     0.22414,     0.22414,     0.22414,     0.22414,     0.22414,\n",
       "            0.22414,     0.22414,     0.22414,     0.22414,     0.22414,     0.22414,     0.22414,     0.22414,     0.22252,     0.20729,      0.2069,      0.2069,      0.2069,      0.2069,      0.2069,      0.2069,      0.2069,      0.2069,      0.2069,      0.2069,      0.2069,      0.2069,      0.2069,\n",
       "             0.2069,      0.2069,      0.2069,      0.2069,      0.2069,      0.2069,      0.2069,      0.2069,      0.2069,      0.2069,      0.2069,      0.2069,      0.2069,      0.2069,      0.2069,      0.2069,      0.2069,      0.2069,      0.2069,      0.2069,      0.2069,      0.2069,      0.2069,\n",
       "             0.2069,      0.2069,      0.2069,      0.2069,      0.2069,      0.2069,      0.2069,      0.2069,      0.2069,      0.2069,      0.2069,      0.2069,      0.2069,      0.2069,      0.2069,      0.2069,      0.1988,     0.18966,     0.18966,     0.18966,     0.18966,     0.18966,     0.18966,\n",
       "            0.18966,     0.18883,     0.18243,     0.17603,     0.17174,      0.1702,     0.16865,     0.16711,     0.16556,     0.16401,     0.16247,     0.16092,     0.15938,     0.15783,     0.15629,     0.15517,     0.15517,     0.15517,     0.15517,     0.15517,     0.15517,     0.15517,     0.15517,\n",
       "            0.14549,     0.13793,     0.13793,     0.13793,     0.13793,     0.13793,     0.13793,     0.13793,     0.13793,     0.13793,     0.13793,     0.13793,     0.13793,     0.13793,     0.13793,     0.13793,     0.13793,     0.13793,     0.13793,     0.13793,     0.13793,     0.13793,     0.13793,\n",
       "            0.13793,     0.13793,     0.13793,     0.13793,     0.13793,     0.13793,     0.13793,     0.13793,     0.13793,     0.13793,     0.13793,     0.13793,     0.13793,      0.1372,     0.13565,     0.13409,     0.13253,     0.13098,     0.12942,     0.12787,     0.12631,     0.12475,      0.1232,\n",
       "            0.12164,     0.12069,     0.12069,     0.12069,     0.12069,     0.12069,     0.12069,     0.12069,     0.12069,     0.12069,     0.12069,     0.12069,     0.12069,     0.12069,     0.11969,     0.11832,     0.11696,     0.11559,     0.11423,     0.11286,      0.1115,     0.11013,     0.10876,\n",
       "             0.1074,     0.10603,     0.10467,     0.10345,     0.10345,     0.10345,     0.10345,     0.10345,     0.10345,     0.10345,     0.10345,     0.10345,     0.10345,     0.10345,     0.10345,     0.10345,     0.10345,     0.10345,     0.10345,     0.10345,     0.10345,     0.10345,     0.10345,\n",
       "            0.10345,     0.10345,     0.10345,     0.10345,     0.10345,     0.10345,     0.10128,     0.09758,    0.093881,    0.090182,    0.086483,    0.086207,    0.086207,    0.086207,    0.086207,    0.086207,    0.086207,    0.086207,    0.086207,    0.086207,    0.086207,    0.086207,    0.086207,\n",
       "           0.086207,    0.086207,    0.086207,    0.086207,    0.086207,    0.086207,    0.086207,    0.086207,    0.086207,    0.086207,    0.086207,    0.086207,    0.086207,    0.086207,    0.086207,    0.086207,    0.086207,    0.086207,    0.086207,    0.086207,    0.086207,    0.086207,    0.086207,\n",
       "           0.086207,    0.086207,    0.086207,    0.086207,    0.086207,    0.086207,    0.086207,    0.086207,    0.086207,    0.086207,    0.086207,    0.086207,    0.086207,    0.086207,    0.086207,    0.086207,    0.086207,    0.086207,    0.086207,    0.086207,    0.086207,    0.086207,    0.086207,\n",
       "           0.086207,    0.086207,    0.086207,    0.086207,    0.086207,    0.086207,    0.086207,    0.086207,    0.086207,    0.086207,    0.086207,    0.086207,    0.086207,    0.086207,    0.086207,    0.086207,    0.086207,    0.086207,    0.086207,    0.086207,    0.086207,    0.086207,    0.086207,\n",
       "           0.086207,    0.086207,    0.086207,    0.086207,    0.086207,    0.086207,    0.086207,    0.086207,    0.086207,    0.086207,    0.086207,    0.086207,    0.086207,    0.086207,    0.086207,    0.086207,    0.086207,    0.086207,    0.086207,    0.086207,    0.086207,    0.086207,    0.086207,\n",
       "           0.086207,    0.086207,    0.086207,    0.086207,    0.086207,    0.086207,    0.086207,    0.086207,    0.086207,    0.086207,    0.086207,    0.086207,    0.086207,    0.086207,    0.086207,    0.086207,    0.086207,    0.086207,    0.086207,    0.086207,    0.086207,    0.086207,    0.086207,\n",
       "           0.086207,    0.086207,    0.086207,    0.086207,    0.086207,    0.086207,    0.086207,    0.086207,    0.086207,    0.086207,    0.086207,    0.086207,    0.086207,    0.086207,    0.086207,    0.086207,    0.086207,    0.086207,    0.086207,    0.086207,    0.086207,    0.086207,    0.086207,\n",
       "           0.086207,    0.086207,    0.086207,    0.086207,    0.086207,    0.086207,    0.086207,    0.086207,    0.086207,    0.086207,    0.086207,    0.086207,    0.086207,    0.086207,    0.086207,    0.086207,    0.086207,    0.086207,    0.086207,    0.086207,    0.086207,    0.086207,    0.086207,\n",
       "           0.086207,    0.086207,    0.086207,    0.086207,    0.086207,    0.086207,    0.086207,    0.086207,    0.086207,    0.085904,    0.085404,    0.084904,    0.084403,    0.083903,    0.083403,    0.082903,    0.082403,    0.081902,    0.081402,    0.080902,    0.080402,    0.079901,    0.079401,\n",
       "           0.078901,    0.078401,      0.0779,      0.0774,      0.0769,      0.0764,      0.0759,    0.075399,    0.074899,    0.074399,    0.073899,    0.073398,    0.072898,    0.072398,    0.071898,    0.071398,    0.070897,    0.070397,    0.069897,    0.069397,    0.068916,    0.068556,    0.068196,\n",
       "           0.067836,    0.067476,    0.067116,    0.066755,    0.066395,    0.066035,    0.065675,    0.065315,    0.064955,    0.064595,    0.064235,    0.063875,    0.063515,    0.063155,    0.062795,    0.062435,    0.062075,    0.061715,    0.061355,    0.060995,    0.060635,    0.060275,    0.059915,\n",
       "           0.059555,    0.059194,    0.058834,    0.058474,    0.058114,    0.057754,    0.057394,    0.057034,    0.056674,    0.056314,    0.055954,    0.055594,    0.055234,    0.054874,    0.054514,    0.054154,    0.053794,    0.053434,    0.053074,    0.052714,    0.052354,    0.051994,    0.051075,\n",
       "           0.048499,    0.045924,    0.043348,    0.040772,    0.038196,     0.03562,    0.034483,    0.034483,    0.034483,    0.034483,    0.034483,    0.034483,    0.034483,    0.034483,    0.034483,    0.034483,    0.034483,    0.034483,    0.034483,    0.034483,    0.034483,    0.034483,    0.034483,\n",
       "           0.034483,    0.034483,    0.034483,    0.034483,    0.034483,    0.034403,    0.033782,    0.033162,    0.032542,    0.031921,    0.031301,    0.030681,     0.03006,     0.02944,     0.02882,    0.028199,    0.027579,    0.026959,    0.026338,    0.025718,    0.025098,    0.024477,    0.023857,\n",
       "           0.023237,    0.022616,    0.021996,    0.021376,    0.020755,    0.020135,    0.019515,    0.018894,    0.018274,    0.017654,           0,           0,           0,           0,           0,           0,           0,           0,           0,           0,           0,           0,           0,\n",
       "                  0,           0,           0,           0,           0,           0,           0,           0,           0,           0,           0,           0,           0,           0,           0,           0,           0,           0,           0,           0,           0,           0,           0,\n",
       "                  0,           0,           0,           0,           0,           0,           0,           0,           0,           0,           0,           0,           0,           0,           0,           0,           0,           0,           0,           0,           0,           0,           0,\n",
       "                  0,           0,           0,           0,           0,           0,           0,           0,           0,           0,           0]]), 'Confidence', 'Recall']]\n",
       "fitness: 0.06841898336928057\n",
       "keys: ['metrics/precision(B)', 'metrics/recall(B)', 'metrics/mAP50(B)', 'metrics/mAP50-95(B)']\n",
       "maps: array([   0.060116])\n",
       "names: {0: 'Fire'}\n",
       "plot: True\n",
       "results_dict: {'metrics/precision(B)': 0.2363923804830523, 'metrics/recall(B)': 0.20689655172413793, 'metrics/mAP50(B)': 0.14314463736364308, 'metrics/mAP50-95(B)': 0.060116132925462515, 'fitness': 0.06841898336928057}\n",
       "save_dir: WindowsPath('runs/detect/train')\n",
       "speed: {'preprocess': 3.3446550369262695, 'inference': 209.89456176757812, 'loss': 0.0, 'postprocess': 14.71860408782959}\n",
       "task: 'detect'"
      ]
     },
     "execution_count": 4,
     "metadata": {},
     "output_type": "execute_result"
    }
   ],
   "source": [
    "model.train(data='custom_dataset.yaml',\n",
    "            epochs=30,\n",
    "            patience=8,\n",
    "            batch=-1, \n",
    "            imgsz=640,\n",
    "            workers=8,\n",
    "            pretrained=True,\n",
    "            resume=False,  # resume training from last checkpoint\n",
    "            single_cls=False,  # Whether all classes will be the same (just one class)\n",
    "            # project='runs/detect',  # Default = /home/{user}/Documents/ultralytics/runs\n",
    "            box=7.5,  # More recall, better IoU, less precission, \n",
    "            cls=0.5,  # Bbox class better\n",
    "            dfl=1.5,  # Distribution Focal Loss. Better bbox boundaries\n",
    "            val=True,\n",
    "            # Augmentations\n",
    "            degrees=0.3,\n",
    "            hsv_s=0.3,\n",
    "            hsv_v=0.3,\n",
    "            scale=0.5,\n",
    "            fliplr=0.5\n",
    "            )\n"
   ]
  },
  {
   "cell_type": "code",
   "execution_count": 17,
   "metadata": {},
   "outputs": [
    {
     "name": "stdout",
     "output_type": "stream",
     "text": [
      "\n",
      "0: 384x640 1 Fire, 259.1ms\n",
      "Speed: 4.0ms preprocess, 259.1ms inference, 1.0ms postprocess per image at shape (1, 3, 384, 640)\n",
      "\n",
      "0: 384x640 1 Fire, 217.5ms\n",
      "Speed: 4.0ms preprocess, 217.5ms inference, 2.0ms postprocess per image at shape (1, 3, 384, 640)\n",
      "\n",
      "0: 384x640 1 Fire, 191.8ms\n",
      "Speed: 4.0ms preprocess, 191.8ms inference, 2.0ms postprocess per image at shape (1, 3, 384, 640)\n",
      "\n",
      "0: 384x640 1 Fire, 169.1ms\n",
      "Speed: 4.1ms preprocess, 169.1ms inference, 1.0ms postprocess per image at shape (1, 3, 384, 640)\n",
      "\n",
      "0: 384x640 1 Fire, 179.3ms\n",
      "Speed: 3.0ms preprocess, 179.3ms inference, 1.0ms postprocess per image at shape (1, 3, 384, 640)\n",
      "\n",
      "0: 384x640 (no detections), 170.5ms\n",
      "Speed: 2.0ms preprocess, 170.5ms inference, 1.0ms postprocess per image at shape (1, 3, 384, 640)\n",
      "\n",
      "0: 384x640 2 Fires, 165.6ms\n",
      "Speed: 2.0ms preprocess, 165.6ms inference, 2.0ms postprocess per image at shape (1, 3, 384, 640)\n",
      "\n",
      "0: 384x640 1 Fire, 167.7ms\n",
      "Speed: 3.0ms preprocess, 167.7ms inference, 1.0ms postprocess per image at shape (1, 3, 384, 640)\n",
      "\n",
      "0: 384x640 (no detections), 191.4ms\n",
      "Speed: 3.0ms preprocess, 191.4ms inference, 1.6ms postprocess per image at shape (1, 3, 384, 640)\n",
      "\n",
      "0: 384x640 1 Fire, 299.9ms\n",
      "Speed: 2.0ms preprocess, 299.9ms inference, 1.1ms postprocess per image at shape (1, 3, 384, 640)\n",
      "\n",
      "0: 384x640 (no detections), 207.8ms\n",
      "Speed: 3.0ms preprocess, 207.8ms inference, 1.0ms postprocess per image at shape (1, 3, 384, 640)\n",
      "\n",
      "0: 384x640 (no detections), 215.5ms\n",
      "Speed: 4.8ms preprocess, 215.5ms inference, 2.0ms postprocess per image at shape (1, 3, 384, 640)\n",
      "\n",
      "0: 384x640 (no detections), 215.8ms\n",
      "Speed: 3.0ms preprocess, 215.8ms inference, 1.0ms postprocess per image at shape (1, 3, 384, 640)\n",
      "\n",
      "0: 384x640 1 Fire, 194.4ms\n",
      "Speed: 2.0ms preprocess, 194.4ms inference, 2.0ms postprocess per image at shape (1, 3, 384, 640)\n",
      "\n",
      "0: 384x640 1 Fire, 364.2ms\n",
      "Speed: 6.0ms preprocess, 364.2ms inference, 3.0ms postprocess per image at shape (1, 3, 384, 640)\n",
      "\n",
      "0: 384x640 (no detections), 235.2ms\n",
      "Speed: 2.0ms preprocess, 235.2ms inference, 1.0ms postprocess per image at shape (1, 3, 384, 640)\n",
      "\n",
      "0: 384x640 (no detections), 195.0ms\n",
      "Speed: 2.0ms preprocess, 195.0ms inference, 1.0ms postprocess per image at shape (1, 3, 384, 640)\n",
      "\n",
      "0: 384x640 (no detections), 197.8ms\n",
      "Speed: 3.1ms preprocess, 197.8ms inference, 1.1ms postprocess per image at shape (1, 3, 384, 640)\n",
      "\n",
      "0: 384x640 (no detections), 206.6ms\n",
      "Speed: 2.0ms preprocess, 206.6ms inference, 2.0ms postprocess per image at shape (1, 3, 384, 640)\n",
      "\n",
      "0: 384x640 (no detections), 197.6ms\n",
      "Speed: 3.0ms preprocess, 197.6ms inference, 2.0ms postprocess per image at shape (1, 3, 384, 640)\n",
      "\n",
      "0: 384x640 (no detections), 198.1ms\n",
      "Speed: 2.0ms preprocess, 198.1ms inference, 1.0ms postprocess per image at shape (1, 3, 384, 640)\n",
      "\n",
      "0: 384x640 (no detections), 196.2ms\n",
      "Speed: 3.0ms preprocess, 196.2ms inference, 2.0ms postprocess per image at shape (1, 3, 384, 640)\n",
      "\n",
      "0: 384x640 (no detections), 189.0ms\n",
      "Speed: 4.6ms preprocess, 189.0ms inference, 1.0ms postprocess per image at shape (1, 3, 384, 640)\n",
      "\n",
      "0: 384x640 (no detections), 212.1ms\n",
      "Speed: 3.0ms preprocess, 212.1ms inference, 2.0ms postprocess per image at shape (1, 3, 384, 640)\n",
      "\n",
      "0: 384x640 (no detections), 194.5ms\n",
      "Speed: 2.1ms preprocess, 194.5ms inference, 1.0ms postprocess per image at shape (1, 3, 384, 640)\n",
      "\n",
      "0: 384x640 (no detections), 199.7ms\n",
      "Speed: 3.0ms preprocess, 199.7ms inference, 1.0ms postprocess per image at shape (1, 3, 384, 640)\n",
      "\n",
      "0: 384x640 (no detections), 203.6ms\n",
      "Speed: 3.0ms preprocess, 203.6ms inference, 1.0ms postprocess per image at shape (1, 3, 384, 640)\n",
      "\n",
      "0: 384x640 1 Fire, 203.9ms\n",
      "Speed: 3.0ms preprocess, 203.9ms inference, 2.0ms postprocess per image at shape (1, 3, 384, 640)\n",
      "\n",
      "0: 384x640 1 Fire, 199.0ms\n",
      "Speed: 3.0ms preprocess, 199.0ms inference, 2.0ms postprocess per image at shape (1, 3, 384, 640)\n",
      "\n",
      "0: 384x640 1 Fire, 201.6ms\n",
      "Speed: 2.0ms preprocess, 201.6ms inference, 2.0ms postprocess per image at shape (1, 3, 384, 640)\n",
      "\n",
      "0: 384x640 (no detections), 171.5ms\n",
      "Speed: 2.0ms preprocess, 171.5ms inference, 1.0ms postprocess per image at shape (1, 3, 384, 640)\n",
      "\n",
      "0: 384x640 1 Fire, 164.3ms\n",
      "Speed: 2.0ms preprocess, 164.3ms inference, 1.0ms postprocess per image at shape (1, 3, 384, 640)\n",
      "\n",
      "0: 384x640 1 Fire, 163.7ms\n",
      "Speed: 2.0ms preprocess, 163.7ms inference, 2.0ms postprocess per image at shape (1, 3, 384, 640)\n",
      "\n",
      "0: 384x640 1 Fire, 166.4ms\n",
      "Speed: 2.0ms preprocess, 166.4ms inference, 1.0ms postprocess per image at shape (1, 3, 384, 640)\n",
      "\n",
      "0: 384x640 1 Fire, 160.7ms\n",
      "Speed: 3.0ms preprocess, 160.7ms inference, 2.5ms postprocess per image at shape (1, 3, 384, 640)\n",
      "\n",
      "0: 384x640 1 Fire, 173.6ms\n",
      "Speed: 2.0ms preprocess, 173.6ms inference, 2.0ms postprocess per image at shape (1, 3, 384, 640)\n",
      "\n",
      "0: 384x640 1 Fire, 161.9ms\n",
      "Speed: 2.8ms preprocess, 161.9ms inference, 2.1ms postprocess per image at shape (1, 3, 384, 640)\n",
      "\n",
      "0: 384x640 1 Fire, 156.0ms\n",
      "Speed: 2.0ms preprocess, 156.0ms inference, 1.1ms postprocess per image at shape (1, 3, 384, 640)\n",
      "\n",
      "0: 384x640 1 Fire, 171.2ms\n",
      "Speed: 3.0ms preprocess, 171.2ms inference, 2.0ms postprocess per image at shape (1, 3, 384, 640)\n",
      "\n",
      "0: 384x640 1 Fire, 166.6ms\n",
      "Speed: 2.0ms preprocess, 166.6ms inference, 1.0ms postprocess per image at shape (1, 3, 384, 640)\n",
      "\n",
      "0: 384x640 1 Fire, 156.8ms\n",
      "Speed: 2.0ms preprocess, 156.8ms inference, 1.0ms postprocess per image at shape (1, 3, 384, 640)\n",
      "\n",
      "0: 384x640 1 Fire, 164.4ms\n",
      "Speed: 3.0ms preprocess, 164.4ms inference, 2.0ms postprocess per image at shape (1, 3, 384, 640)\n",
      "\n",
      "0: 384x640 1 Fire, 162.5ms\n",
      "Speed: 2.0ms preprocess, 162.5ms inference, 2.0ms postprocess per image at shape (1, 3, 384, 640)\n",
      "\n",
      "0: 384x640 1 Fire, 157.6ms\n",
      "Speed: 3.0ms preprocess, 157.6ms inference, 1.0ms postprocess per image at shape (1, 3, 384, 640)\n",
      "\n",
      "0: 384x640 1 Fire, 171.5ms\n",
      "Speed: 3.0ms preprocess, 171.5ms inference, 2.1ms postprocess per image at shape (1, 3, 384, 640)\n",
      "\n",
      "0: 384x640 2 Fires, 172.2ms\n",
      "Speed: 2.0ms preprocess, 172.2ms inference, 1.0ms postprocess per image at shape (1, 3, 384, 640)\n",
      "\n",
      "0: 384x640 2 Fires, 178.1ms\n",
      "Speed: 0.0ms preprocess, 178.1ms inference, 2.0ms postprocess per image at shape (1, 3, 384, 640)\n",
      "\n",
      "0: 384x640 2 Fires, 162.4ms\n",
      "Speed: 2.0ms preprocess, 162.4ms inference, 1.0ms postprocess per image at shape (1, 3, 384, 640)\n",
      "\n",
      "0: 384x640 2 Fires, 195.5ms\n",
      "Speed: 2.0ms preprocess, 195.5ms inference, 2.0ms postprocess per image at shape (1, 3, 384, 640)\n",
      "\n",
      "0: 384x640 2 Fires, 171.0ms\n",
      "Speed: 2.0ms preprocess, 171.0ms inference, 2.0ms postprocess per image at shape (1, 3, 384, 640)\n",
      "\n",
      "0: 384x640 2 Fires, 156.0ms\n",
      "Speed: 2.0ms preprocess, 156.0ms inference, 2.0ms postprocess per image at shape (1, 3, 384, 640)\n",
      "\n",
      "0: 384x640 1 Fire, 175.0ms\n",
      "Speed: 3.0ms preprocess, 175.0ms inference, 2.0ms postprocess per image at shape (1, 3, 384, 640)\n",
      "\n",
      "0: 384x640 1 Fire, 332.2ms\n",
      "Speed: 3.0ms preprocess, 332.2ms inference, 2.0ms postprocess per image at shape (1, 3, 384, 640)\n",
      "\n",
      "0: 384x640 1 Fire, 274.3ms\n",
      "Speed: 3.0ms preprocess, 274.3ms inference, 3.0ms postprocess per image at shape (1, 3, 384, 640)\n",
      "\n",
      "0: 384x640 1 Fire, 303.5ms\n",
      "Speed: 6.0ms preprocess, 303.5ms inference, 2.0ms postprocess per image at shape (1, 3, 384, 640)\n",
      "\n",
      "0: 384x640 1 Fire, 182.0ms\n",
      "Speed: 2.0ms preprocess, 182.0ms inference, 1.0ms postprocess per image at shape (1, 3, 384, 640)\n",
      "\n",
      "0: 384x640 1 Fire, 168.0ms\n",
      "Speed: 3.0ms preprocess, 168.0ms inference, 1.0ms postprocess per image at shape (1, 3, 384, 640)\n",
      "\n",
      "0: 384x640 1 Fire, 171.0ms\n",
      "Speed: 2.0ms preprocess, 171.0ms inference, 2.0ms postprocess per image at shape (1, 3, 384, 640)\n",
      "\n",
      "0: 384x640 1 Fire, 178.0ms\n",
      "Speed: 2.0ms preprocess, 178.0ms inference, 1.0ms postprocess per image at shape (1, 3, 384, 640)\n",
      "\n",
      "0: 384x640 1 Fire, 173.0ms\n",
      "Speed: 3.0ms preprocess, 173.0ms inference, 2.0ms postprocess per image at shape (1, 3, 384, 640)\n",
      "\n",
      "0: 384x640 1 Fire, 169.0ms\n",
      "Speed: 4.0ms preprocess, 169.0ms inference, 2.0ms postprocess per image at shape (1, 3, 384, 640)\n",
      "\n",
      "0: 384x640 1 Fire, 162.0ms\n",
      "Speed: 2.0ms preprocess, 162.0ms inference, 3.0ms postprocess per image at shape (1, 3, 384, 640)\n",
      "\n",
      "0: 384x640 1 Fire, 170.0ms\n",
      "Speed: 2.0ms preprocess, 170.0ms inference, 2.0ms postprocess per image at shape (1, 3, 384, 640)\n",
      "\n",
      "0: 384x640 1 Fire, 166.0ms\n",
      "Speed: 4.0ms preprocess, 166.0ms inference, 2.0ms postprocess per image at shape (1, 3, 384, 640)\n",
      "\n",
      "0: 384x640 1 Fire, 163.0ms\n",
      "Speed: 2.0ms preprocess, 163.0ms inference, 2.0ms postprocess per image at shape (1, 3, 384, 640)\n",
      "\n",
      "0: 384x640 1 Fire, 191.0ms\n",
      "Speed: 2.0ms preprocess, 191.0ms inference, 6.0ms postprocess per image at shape (1, 3, 384, 640)\n",
      "\n",
      "0: 384x640 1 Fire, 261.0ms\n",
      "Speed: 5.0ms preprocess, 261.0ms inference, 2.0ms postprocess per image at shape (1, 3, 384, 640)\n",
      "\n",
      "0: 384x640 1 Fire, 184.0ms\n",
      "Speed: 3.0ms preprocess, 184.0ms inference, 2.0ms postprocess per image at shape (1, 3, 384, 640)\n",
      "\n",
      "0: 384x640 1 Fire, 206.0ms\n",
      "Speed: 3.0ms preprocess, 206.0ms inference, 2.0ms postprocess per image at shape (1, 3, 384, 640)\n",
      "\n",
      "0: 384x640 1 Fire, 174.0ms\n",
      "Speed: 7.0ms preprocess, 174.0ms inference, 2.0ms postprocess per image at shape (1, 3, 384, 640)\n",
      "\n",
      "0: 384x640 1 Fire, 370.7ms\n",
      "Speed: 4.0ms preprocess, 370.7ms inference, 16.0ms postprocess per image at shape (1, 3, 384, 640)\n",
      "\n",
      "0: 384x640 1 Fire, 279.0ms\n",
      "Speed: 6.0ms preprocess, 279.0ms inference, 2.0ms postprocess per image at shape (1, 3, 384, 640)\n",
      "\n",
      "0: 384x640 1 Fire, 248.0ms\n",
      "Speed: 4.0ms preprocess, 248.0ms inference, 1.0ms postprocess per image at shape (1, 3, 384, 640)\n",
      "\n",
      "0: 384x640 1 Fire, 187.0ms\n",
      "Speed: 3.0ms preprocess, 187.0ms inference, 1.0ms postprocess per image at shape (1, 3, 384, 640)\n",
      "\n",
      "0: 384x640 (no detections), 167.1ms\n",
      "Speed: 3.0ms preprocess, 167.1ms inference, 1.0ms postprocess per image at shape (1, 3, 384, 640)\n",
      "\n",
      "0: 384x640 (no detections), 172.0ms\n",
      "Speed: 2.0ms preprocess, 172.0ms inference, 1.0ms postprocess per image at shape (1, 3, 384, 640)\n",
      "\n",
      "0: 384x640 2 Fires, 173.0ms\n",
      "Speed: 2.0ms preprocess, 173.0ms inference, 2.0ms postprocess per image at shape (1, 3, 384, 640)\n",
      "\n",
      "0: 384x640 2 Fires, 166.3ms\n",
      "Speed: 2.0ms preprocess, 166.3ms inference, 2.0ms postprocess per image at shape (1, 3, 384, 640)\n",
      "\n",
      "0: 384x640 2 Fires, 175.0ms\n",
      "Speed: 4.0ms preprocess, 175.0ms inference, 2.0ms postprocess per image at shape (1, 3, 384, 640)\n",
      "\n",
      "0: 384x640 2 Fires, 165.0ms\n",
      "Speed: 2.0ms preprocess, 165.0ms inference, 2.0ms postprocess per image at shape (1, 3, 384, 640)\n",
      "\n",
      "0: 384x640 1 Fire, 161.0ms\n",
      "Speed: 3.0ms preprocess, 161.0ms inference, 3.0ms postprocess per image at shape (1, 3, 384, 640)\n",
      "\n",
      "0: 384x640 1 Fire, 169.0ms\n",
      "Speed: 2.0ms preprocess, 169.0ms inference, 2.0ms postprocess per image at shape (1, 3, 384, 640)\n",
      "\n",
      "0: 384x640 2 Fires, 169.0ms\n",
      "Speed: 2.0ms preprocess, 169.0ms inference, 2.0ms postprocess per image at shape (1, 3, 384, 640)\n",
      "\n",
      "0: 384x640 3 Fires, 172.0ms\n",
      "Speed: 3.0ms preprocess, 172.0ms inference, 2.0ms postprocess per image at shape (1, 3, 384, 640)\n",
      "\n",
      "0: 384x640 2 Fires, 161.0ms\n",
      "Speed: 3.0ms preprocess, 161.0ms inference, 2.0ms postprocess per image at shape (1, 3, 384, 640)\n",
      "\n",
      "0: 384x640 2 Fires, 165.0ms\n",
      "Speed: 3.0ms preprocess, 165.0ms inference, 2.0ms postprocess per image at shape (1, 3, 384, 640)\n",
      "\n",
      "0: 384x640 2 Fires, 210.6ms\n",
      "Speed: 3.0ms preprocess, 210.6ms inference, 3.0ms postprocess per image at shape (1, 3, 384, 640)\n",
      "\n",
      "0: 384x640 1 Fire, 177.0ms\n",
      "Speed: 3.0ms preprocess, 177.0ms inference, 3.0ms postprocess per image at shape (1, 3, 384, 640)\n",
      "\n",
      "0: 384x640 2 Fires, 186.0ms\n",
      "Speed: 3.0ms preprocess, 186.0ms inference, 2.0ms postprocess per image at shape (1, 3, 384, 640)\n",
      "\n",
      "0: 384x640 2 Fires, 161.0ms\n",
      "Speed: 3.0ms preprocess, 161.0ms inference, 2.0ms postprocess per image at shape (1, 3, 384, 640)\n",
      "\n",
      "0: 384x640 2 Fires, 179.0ms\n",
      "Speed: 2.0ms preprocess, 179.0ms inference, 1.0ms postprocess per image at shape (1, 3, 384, 640)\n",
      "\n",
      "0: 384x640 1 Fire, 176.0ms\n",
      "Speed: 3.0ms preprocess, 176.0ms inference, 2.0ms postprocess per image at shape (1, 3, 384, 640)\n",
      "\n",
      "0: 384x640 1 Fire, 180.0ms\n",
      "Speed: 3.0ms preprocess, 180.0ms inference, 2.0ms postprocess per image at shape (1, 3, 384, 640)\n",
      "\n",
      "0: 384x640 2 Fires, 291.0ms\n",
      "Speed: 3.0ms preprocess, 291.0ms inference, 3.0ms postprocess per image at shape (1, 3, 384, 640)\n",
      "\n",
      "0: 384x640 1 Fire, 320.0ms\n",
      "Speed: 3.0ms preprocess, 320.0ms inference, 3.0ms postprocess per image at shape (1, 3, 384, 640)\n",
      "\n",
      "0: 384x640 1 Fire, 253.0ms\n",
      "Speed: 3.0ms preprocess, 253.0ms inference, 3.0ms postprocess per image at shape (1, 3, 384, 640)\n",
      "\n",
      "0: 384x640 1 Fire, 230.0ms\n",
      "Speed: 2.0ms preprocess, 230.0ms inference, 3.0ms postprocess per image at shape (1, 3, 384, 640)\n",
      "\n",
      "0: 384x640 1 Fire, 227.0ms\n",
      "Speed: 4.0ms preprocess, 227.0ms inference, 2.0ms postprocess per image at shape (1, 3, 384, 640)\n",
      "\n",
      "0: 384x640 1 Fire, 195.5ms\n",
      "Speed: 3.0ms preprocess, 195.5ms inference, 2.0ms postprocess per image at shape (1, 3, 384, 640)\n",
      "\n",
      "0: 384x640 1 Fire, 207.2ms\n",
      "Speed: 2.0ms preprocess, 207.2ms inference, 4.0ms postprocess per image at shape (1, 3, 384, 640)\n",
      "\n",
      "0: 384x640 1 Fire, 177.0ms\n",
      "Speed: 4.0ms preprocess, 177.0ms inference, 2.0ms postprocess per image at shape (1, 3, 384, 640)\n",
      "\n",
      "0: 384x640 1 Fire, 170.0ms\n",
      "Speed: 3.0ms preprocess, 170.0ms inference, 2.0ms postprocess per image at shape (1, 3, 384, 640)\n",
      "\n",
      "0: 384x640 1 Fire, 171.0ms\n",
      "Speed: 4.0ms preprocess, 171.0ms inference, 1.0ms postprocess per image at shape (1, 3, 384, 640)\n",
      "\n",
      "0: 384x640 1 Fire, 174.2ms\n",
      "Speed: 3.0ms preprocess, 174.2ms inference, 1.0ms postprocess per image at shape (1, 3, 384, 640)\n",
      "\n",
      "0: 384x640 1 Fire, 169.0ms\n",
      "Speed: 2.0ms preprocess, 169.0ms inference, 1.0ms postprocess per image at shape (1, 3, 384, 640)\n",
      "\n",
      "0: 384x640 1 Fire, 183.0ms\n",
      "Speed: 2.0ms preprocess, 183.0ms inference, 2.0ms postprocess per image at shape (1, 3, 384, 640)\n",
      "\n",
      "0: 384x640 (no detections), 168.6ms\n",
      "Speed: 2.0ms preprocess, 168.6ms inference, 1.0ms postprocess per image at shape (1, 3, 384, 640)\n",
      "\n",
      "0: 384x640 1 Fire, 184.0ms\n",
      "Speed: 3.0ms preprocess, 184.0ms inference, 2.0ms postprocess per image at shape (1, 3, 384, 640)\n",
      "\n",
      "0: 384x640 (no detections), 172.0ms\n",
      "Speed: 2.0ms preprocess, 172.0ms inference, 1.0ms postprocess per image at shape (1, 3, 384, 640)\n",
      "\n",
      "0: 384x640 (no detections), 174.0ms\n",
      "Speed: 2.0ms preprocess, 174.0ms inference, 1.0ms postprocess per image at shape (1, 3, 384, 640)\n",
      "\n",
      "0: 384x640 (no detections), 175.0ms\n",
      "Speed: 4.0ms preprocess, 175.0ms inference, 1.0ms postprocess per image at shape (1, 3, 384, 640)\n",
      "\n",
      "0: 384x640 2 Fires, 183.4ms\n",
      "Speed: 3.0ms preprocess, 183.4ms inference, 2.0ms postprocess per image at shape (1, 3, 384, 640)\n",
      "\n",
      "0: 384x640 2 Fires, 177.0ms\n",
      "Speed: 2.0ms preprocess, 177.0ms inference, 2.0ms postprocess per image at shape (1, 3, 384, 640)\n",
      "\n",
      "0: 384x640 3 Fires, 163.0ms\n",
      "Speed: 3.0ms preprocess, 163.0ms inference, 2.0ms postprocess per image at shape (1, 3, 384, 640)\n",
      "\n",
      "0: 384x640 3 Fires, 175.0ms\n",
      "Speed: 3.0ms preprocess, 175.0ms inference, 2.0ms postprocess per image at shape (1, 3, 384, 640)\n",
      "\n",
      "0: 384x640 3 Fires, 175.0ms\n",
      "Speed: 2.0ms preprocess, 175.0ms inference, 3.0ms postprocess per image at shape (1, 3, 384, 640)\n",
      "\n",
      "0: 384x640 3 Fires, 170.0ms\n",
      "Speed: 3.0ms preprocess, 170.0ms inference, 2.0ms postprocess per image at shape (1, 3, 384, 640)\n",
      "\n",
      "0: 384x640 3 Fires, 160.0ms\n",
      "Speed: 2.0ms preprocess, 160.0ms inference, 2.0ms postprocess per image at shape (1, 3, 384, 640)\n",
      "\n",
      "0: 384x640 2 Fires, 173.0ms\n",
      "Speed: 3.0ms preprocess, 173.0ms inference, 2.0ms postprocess per image at shape (1, 3, 384, 640)\n",
      "\n",
      "0: 384x640 2 Fires, 165.0ms\n",
      "Speed: 2.0ms preprocess, 165.0ms inference, 3.0ms postprocess per image at shape (1, 3, 384, 640)\n",
      "\n",
      "0: 384x640 2 Fires, 153.0ms\n",
      "Speed: 2.0ms preprocess, 153.0ms inference, 1.0ms postprocess per image at shape (1, 3, 384, 640)\n",
      "\n",
      "0: 384x640 3 Fires, 171.0ms\n",
      "Speed: 2.0ms preprocess, 171.0ms inference, 1.0ms postprocess per image at shape (1, 3, 384, 640)\n",
      "\n",
      "0: 384x640 3 Fires, 159.0ms\n",
      "Speed: 3.0ms preprocess, 159.0ms inference, 1.0ms postprocess per image at shape (1, 3, 384, 640)\n",
      "\n",
      "0: 384x640 3 Fires, 179.0ms\n",
      "Speed: 2.0ms preprocess, 179.0ms inference, 6.0ms postprocess per image at shape (1, 3, 384, 640)\n",
      "\n",
      "0: 384x640 2 Fires, 286.0ms\n",
      "Speed: 6.0ms preprocess, 286.0ms inference, 2.0ms postprocess per image at shape (1, 3, 384, 640)\n",
      "\n",
      "0: 384x640 3 Fires, 215.3ms\n",
      "Speed: 3.0ms preprocess, 215.3ms inference, 1.0ms postprocess per image at shape (1, 3, 384, 640)\n",
      "\n",
      "0: 384x640 1 Fire, 179.3ms\n",
      "Speed: 2.0ms preprocess, 179.3ms inference, 2.0ms postprocess per image at shape (1, 3, 384, 640)\n",
      "\n",
      "0: 384x640 1 Fire, 170.0ms\n",
      "Speed: 3.0ms preprocess, 170.0ms inference, 1.0ms postprocess per image at shape (1, 3, 384, 640)\n",
      "\n",
      "0: 384x640 1 Fire, 175.0ms\n",
      "Speed: 3.0ms preprocess, 175.0ms inference, 2.0ms postprocess per image at shape (1, 3, 384, 640)\n",
      "\n",
      "0: 384x640 (no detections), 283.3ms\n",
      "Speed: 1.0ms preprocess, 283.3ms inference, 2.0ms postprocess per image at shape (1, 3, 384, 640)\n",
      "\n",
      "0: 384x640 (no detections), 192.0ms\n",
      "Speed: 2.0ms preprocess, 192.0ms inference, 1.0ms postprocess per image at shape (1, 3, 384, 640)\n",
      "\n",
      "0: 384x640 (no detections), 228.0ms\n",
      "Speed: 3.0ms preprocess, 228.0ms inference, 1.0ms postprocess per image at shape (1, 3, 384, 640)\n",
      "\n",
      "0: 384x640 (no detections), 256.0ms\n",
      "Speed: 3.0ms preprocess, 256.0ms inference, 1.0ms postprocess per image at shape (1, 3, 384, 640)\n",
      "\n",
      "0: 384x640 (no detections), 214.0ms\n",
      "Speed: 3.0ms preprocess, 214.0ms inference, 2.0ms postprocess per image at shape (1, 3, 384, 640)\n",
      "\n",
      "0: 384x640 (no detections), 203.0ms\n",
      "Speed: 3.0ms preprocess, 203.0ms inference, 1.0ms postprocess per image at shape (1, 3, 384, 640)\n",
      "\n",
      "0: 384x640 (no detections), 206.0ms\n",
      "Speed: 2.0ms preprocess, 206.0ms inference, 1.0ms postprocess per image at shape (1, 3, 384, 640)\n",
      "\n",
      "0: 384x640 (no detections), 375.0ms\n",
      "Speed: 4.0ms preprocess, 375.0ms inference, 4.0ms postprocess per image at shape (1, 3, 384, 640)\n",
      "\n",
      "0: 384x640 (no detections), 282.8ms\n",
      "Speed: 5.0ms preprocess, 282.8ms inference, 1.0ms postprocess per image at shape (1, 3, 384, 640)\n",
      "\n",
      "0: 384x640 (no detections), 244.0ms\n",
      "Speed: 4.0ms preprocess, 244.0ms inference, 1.0ms postprocess per image at shape (1, 3, 384, 640)\n",
      "\n",
      "0: 384x640 (no detections), 245.2ms\n",
      "Speed: 3.0ms preprocess, 245.2ms inference, 2.0ms postprocess per image at shape (1, 3, 384, 640)\n",
      "\n",
      "0: 384x640 (no detections), 208.0ms\n",
      "Speed: 3.0ms preprocess, 208.0ms inference, 2.0ms postprocess per image at shape (1, 3, 384, 640)\n",
      "\n",
      "0: 384x640 (no detections), 235.0ms\n",
      "Speed: 2.0ms preprocess, 235.0ms inference, 1.0ms postprocess per image at shape (1, 3, 384, 640)\n",
      "\n",
      "0: 384x640 (no detections), 184.2ms\n",
      "Speed: 2.0ms preprocess, 184.2ms inference, 1.0ms postprocess per image at shape (1, 3, 384, 640)\n",
      "\n",
      "0: 384x640 1 Fire, 170.0ms\n",
      "Speed: 3.0ms preprocess, 170.0ms inference, 3.0ms postprocess per image at shape (1, 3, 384, 640)\n",
      "\n",
      "0: 384x640 1 Fire, 231.3ms\n",
      "Speed: 2.0ms preprocess, 231.3ms inference, 3.0ms postprocess per image at shape (1, 3, 384, 640)\n",
      "\n",
      "0: 384x640 1 Fire, 227.0ms\n",
      "Speed: 3.0ms preprocess, 227.0ms inference, 2.0ms postprocess per image at shape (1, 3, 384, 640)\n",
      "\n",
      "0: 384x640 (no detections), 217.0ms\n",
      "Speed: 2.0ms preprocess, 217.0ms inference, 1.0ms postprocess per image at shape (1, 3, 384, 640)\n",
      "\n",
      "0: 384x640 (no detections), 203.0ms\n",
      "Speed: 3.0ms preprocess, 203.0ms inference, 1.0ms postprocess per image at shape (1, 3, 384, 640)\n",
      "\n",
      "0: 384x640 (no detections), 258.1ms\n",
      "Speed: 2.0ms preprocess, 258.1ms inference, 1.0ms postprocess per image at shape (1, 3, 384, 640)\n",
      "\n",
      "0: 384x640 1 Fire, 194.2ms\n",
      "Speed: 3.0ms preprocess, 194.2ms inference, 2.0ms postprocess per image at shape (1, 3, 384, 640)\n",
      "\n",
      "0: 384x640 1 Fire, 168.5ms\n",
      "Speed: 1.1ms preprocess, 168.5ms inference, 2.0ms postprocess per image at shape (1, 3, 384, 640)\n",
      "\n",
      "0: 384x640 1 Fire, 230.3ms\n",
      "Speed: 3.0ms preprocess, 230.3ms inference, 2.0ms postprocess per image at shape (1, 3, 384, 640)\n",
      "\n",
      "0: 384x640 1 Fire, 201.7ms\n",
      "Speed: 2.0ms preprocess, 201.7ms inference, 2.0ms postprocess per image at shape (1, 3, 384, 640)\n",
      "\n",
      "0: 384x640 1 Fire, 210.5ms\n",
      "Speed: 0.0ms preprocess, 210.5ms inference, 2.0ms postprocess per image at shape (1, 3, 384, 640)\n",
      "\n",
      "0: 384x640 1 Fire, 196.9ms\n",
      "Speed: 2.1ms preprocess, 196.9ms inference, 2.0ms postprocess per image at shape (1, 3, 384, 640)\n",
      "\n",
      "0: 384x640 2 Fires, 226.3ms\n",
      "Speed: 3.0ms preprocess, 226.3ms inference, 2.0ms postprocess per image at shape (1, 3, 384, 640)\n",
      "\n",
      "0: 384x640 1 Fire, 250.2ms\n",
      "Speed: 3.0ms preprocess, 250.2ms inference, 2.0ms postprocess per image at shape (1, 3, 384, 640)\n",
      "\n",
      "0: 384x640 1 Fire, 198.9ms\n",
      "Speed: 3.0ms preprocess, 198.9ms inference, 2.0ms postprocess per image at shape (1, 3, 384, 640)\n",
      "\n",
      "0: 384x640 1 Fire, 201.0ms\n",
      "Speed: 3.0ms preprocess, 201.0ms inference, 2.0ms postprocess per image at shape (1, 3, 384, 640)\n",
      "\n",
      "0: 384x640 2 Fires, 197.6ms\n",
      "Speed: 2.0ms preprocess, 197.6ms inference, 2.0ms postprocess per image at shape (1, 3, 384, 640)\n",
      "\n",
      "0: 384x640 1 Fire, 194.7ms\n",
      "Speed: 3.0ms preprocess, 194.7ms inference, 3.6ms postprocess per image at shape (1, 3, 384, 640)\n",
      "\n",
      "0: 384x640 1 Fire, 168.4ms\n",
      "Speed: 3.0ms preprocess, 168.4ms inference, 1.0ms postprocess per image at shape (1, 3, 384, 640)\n",
      "\n",
      "0: 384x640 1 Fire, 162.0ms\n",
      "Speed: 3.8ms preprocess, 162.0ms inference, 3.6ms postprocess per image at shape (1, 3, 384, 640)\n",
      "\n",
      "0: 384x640 1 Fire, 161.4ms\n",
      "Speed: 2.0ms preprocess, 161.4ms inference, 1.0ms postprocess per image at shape (1, 3, 384, 640)\n",
      "\n",
      "0: 384x640 2 Fires, 177.6ms\n",
      "Speed: 3.0ms preprocess, 177.6ms inference, 2.0ms postprocess per image at shape (1, 3, 384, 640)\n",
      "\n",
      "0: 384x640 2 Fires, 173.1ms\n",
      "Speed: 3.9ms preprocess, 173.1ms inference, 1.0ms postprocess per image at shape (1, 3, 384, 640)\n",
      "\n",
      "0: 384x640 3 Fires, 160.0ms\n",
      "Speed: 2.0ms preprocess, 160.0ms inference, 2.7ms postprocess per image at shape (1, 3, 384, 640)\n",
      "\n",
      "0: 384x640 1 Fire, 166.5ms\n",
      "Speed: 2.0ms preprocess, 166.5ms inference, 2.0ms postprocess per image at shape (1, 3, 384, 640)\n",
      "\n",
      "0: 384x640 1 Fire, 176.6ms\n",
      "Speed: 2.0ms preprocess, 176.6ms inference, 2.0ms postprocess per image at shape (1, 3, 384, 640)\n",
      "\n",
      "0: 384x640 3 Fires, 231.0ms\n",
      "Speed: 3.0ms preprocess, 231.0ms inference, 3.0ms postprocess per image at shape (1, 3, 384, 640)\n",
      "\n",
      "0: 384x640 2 Fires, 194.2ms\n",
      "Speed: 3.0ms preprocess, 194.2ms inference, 2.5ms postprocess per image at shape (1, 3, 384, 640)\n",
      "\n",
      "0: 384x640 4 Fires, 291.0ms\n",
      "Speed: 2.0ms preprocess, 291.0ms inference, 1.0ms postprocess per image at shape (1, 3, 384, 640)\n",
      "\n",
      "0: 384x640 3 Fires, 202.3ms\n",
      "Speed: 3.1ms preprocess, 202.3ms inference, 2.0ms postprocess per image at shape (1, 3, 384, 640)\n",
      "\n",
      "0: 384x640 2 Fires, 191.5ms\n",
      "Speed: 3.0ms preprocess, 191.5ms inference, 3.7ms postprocess per image at shape (1, 3, 384, 640)\n",
      "\n",
      "0: 384x640 2 Fires, 310.7ms\n",
      "Speed: 3.8ms preprocess, 310.7ms inference, 3.0ms postprocess per image at shape (1, 3, 384, 640)\n",
      "\n",
      "0: 384x640 2 Fires, 273.2ms\n",
      "Speed: 3.0ms preprocess, 273.2ms inference, 3.0ms postprocess per image at shape (1, 3, 384, 640)\n",
      "\n",
      "0: 384x640 1 Fire, 366.4ms\n",
      "Speed: 3.0ms preprocess, 366.4ms inference, 2.0ms postprocess per image at shape (1, 3, 384, 640)\n",
      "\n",
      "0: 384x640 1 Fire, 198.1ms\n",
      "Speed: 3.0ms preprocess, 198.1ms inference, 2.0ms postprocess per image at shape (1, 3, 384, 640)\n",
      "\n",
      "0: 384x640 2 Fires, 199.6ms\n",
      "Speed: 3.9ms preprocess, 199.6ms inference, 3.0ms postprocess per image at shape (1, 3, 384, 640)\n",
      "\n",
      "0: 384x640 1 Fire, 189.8ms\n",
      "Speed: 3.8ms preprocess, 189.8ms inference, 1.0ms postprocess per image at shape (1, 3, 384, 640)\n",
      "\n",
      "0: 384x640 2 Fires, 166.2ms\n",
      "Speed: 2.0ms preprocess, 166.2ms inference, 2.0ms postprocess per image at shape (1, 3, 384, 640)\n",
      "\n",
      "0: 384x640 1 Fire, 160.7ms\n",
      "Speed: 2.0ms preprocess, 160.7ms inference, 2.7ms postprocess per image at shape (1, 3, 384, 640)\n",
      "\n",
      "0: 384x640 1 Fire, 172.5ms\n",
      "Speed: 2.0ms preprocess, 172.5ms inference, 1.0ms postprocess per image at shape (1, 3, 384, 640)\n",
      "\n",
      "0: 384x640 (no detections), 176.4ms\n",
      "Speed: 3.5ms preprocess, 176.4ms inference, 2.0ms postprocess per image at shape (1, 3, 384, 640)\n",
      "\n",
      "0: 384x640 (no detections), 183.9ms\n",
      "Speed: 2.0ms preprocess, 183.9ms inference, 1.0ms postprocess per image at shape (1, 3, 384, 640)\n",
      "\n",
      "0: 384x640 (no detections), 170.3ms\n",
      "Speed: 2.0ms preprocess, 170.3ms inference, 1.0ms postprocess per image at shape (1, 3, 384, 640)\n",
      "\n",
      "0: 384x640 (no detections), 158.4ms\n",
      "Speed: 2.0ms preprocess, 158.4ms inference, 0.0ms postprocess per image at shape (1, 3, 384, 640)\n",
      "\n",
      "0: 384x640 (no detections), 166.6ms\n",
      "Speed: 2.0ms preprocess, 166.6ms inference, 1.0ms postprocess per image at shape (1, 3, 384, 640)\n",
      "\n",
      "0: 384x640 (no detections), 170.9ms\n",
      "Speed: 2.0ms preprocess, 170.9ms inference, 1.0ms postprocess per image at shape (1, 3, 384, 640)\n",
      "\n",
      "0: 384x640 1 Fire, 158.0ms\n",
      "Speed: 2.0ms preprocess, 158.0ms inference, 1.0ms postprocess per image at shape (1, 3, 384, 640)\n",
      "\n",
      "0: 384x640 1 Fire, 162.5ms\n",
      "Speed: 2.0ms preprocess, 162.5ms inference, 1.0ms postprocess per image at shape (1, 3, 384, 640)\n",
      "\n",
      "0: 384x640 1 Fire, 279.2ms\n",
      "Speed: 3.1ms preprocess, 279.2ms inference, 2.0ms postprocess per image at shape (1, 3, 384, 640)\n",
      "\n",
      "0: 384x640 3 Fires, 191.8ms\n",
      "Speed: 3.0ms preprocess, 191.8ms inference, 2.0ms postprocess per image at shape (1, 3, 384, 640)\n",
      "\n",
      "0: 384x640 3 Fires, 181.4ms\n",
      "Speed: 5.0ms preprocess, 181.4ms inference, 2.0ms postprocess per image at shape (1, 3, 384, 640)\n",
      "\n",
      "0: 384x640 3 Fires, 170.6ms\n",
      "Speed: 3.0ms preprocess, 170.6ms inference, 2.0ms postprocess per image at shape (1, 3, 384, 640)\n",
      "\n",
      "0: 384x640 2 Fires, 167.1ms\n",
      "Speed: 3.0ms preprocess, 167.1ms inference, 2.0ms postprocess per image at shape (1, 3, 384, 640)\n",
      "\n",
      "0: 384x640 2 Fires, 162.9ms\n",
      "Speed: 3.0ms preprocess, 162.9ms inference, 3.5ms postprocess per image at shape (1, 3, 384, 640)\n",
      "\n",
      "0: 384x640 2 Fires, 162.5ms\n",
      "Speed: 2.0ms preprocess, 162.5ms inference, 1.0ms postprocess per image at shape (1, 3, 384, 640)\n",
      "\n",
      "0: 384x640 1 Fire, 163.3ms\n",
      "Speed: 3.0ms preprocess, 163.3ms inference, 1.0ms postprocess per image at shape (1, 3, 384, 640)\n",
      "\n",
      "0: 384x640 2 Fires, 163.8ms\n",
      "Speed: 2.0ms preprocess, 163.8ms inference, 2.0ms postprocess per image at shape (1, 3, 384, 640)\n",
      "\n",
      "0: 384x640 1 Fire, 156.5ms\n",
      "Speed: 3.0ms preprocess, 156.5ms inference, 2.0ms postprocess per image at shape (1, 3, 384, 640)\n",
      "\n",
      "0: 384x640 1 Fire, 168.5ms\n",
      "Speed: 2.0ms preprocess, 168.5ms inference, 1.0ms postprocess per image at shape (1, 3, 384, 640)\n",
      "\n",
      "0: 384x640 1 Fire, 155.0ms\n",
      "Speed: 3.0ms preprocess, 155.0ms inference, 1.1ms postprocess per image at shape (1, 3, 384, 640)\n",
      "\n",
      "0: 384x640 (no detections), 167.7ms\n",
      "Speed: 2.0ms preprocess, 167.7ms inference, 2.0ms postprocess per image at shape (1, 3, 384, 640)\n",
      "\n",
      "0: 384x640 1 Fire, 176.0ms\n",
      "Speed: 2.0ms preprocess, 176.0ms inference, 1.0ms postprocess per image at shape (1, 3, 384, 640)\n",
      "\n",
      "0: 384x640 1 Fire, 192.4ms\n",
      "Speed: 3.8ms preprocess, 192.4ms inference, 1.0ms postprocess per image at shape (1, 3, 384, 640)\n",
      "\n",
      "0: 384x640 (no detections), 195.1ms\n",
      "Speed: 2.0ms preprocess, 195.1ms inference, 2.0ms postprocess per image at shape (1, 3, 384, 640)\n",
      "\n",
      "0: 384x640 (no detections), 234.6ms\n",
      "Speed: 3.0ms preprocess, 234.6ms inference, 1.0ms postprocess per image at shape (1, 3, 384, 640)\n",
      "\n",
      "0: 384x640 (no detections), 167.2ms\n",
      "Speed: 4.4ms preprocess, 167.2ms inference, 1.0ms postprocess per image at shape (1, 3, 384, 640)\n",
      "\n",
      "0: 384x640 (no detections), 196.1ms\n",
      "Speed: 2.0ms preprocess, 196.1ms inference, 1.0ms postprocess per image at shape (1, 3, 384, 640)\n",
      "\n",
      "0: 384x640 (no detections), 164.4ms\n",
      "Speed: 2.0ms preprocess, 164.4ms inference, 1.0ms postprocess per image at shape (1, 3, 384, 640)\n",
      "\n",
      "0: 384x640 (no detections), 159.8ms\n",
      "Speed: 3.0ms preprocess, 159.8ms inference, 1.0ms postprocess per image at shape (1, 3, 384, 640)\n",
      "\n",
      "0: 384x640 (no detections), 186.0ms\n",
      "Speed: 4.0ms preprocess, 186.0ms inference, 2.0ms postprocess per image at shape (1, 3, 384, 640)\n",
      "\n",
      "0: 384x640 (no detections), 164.7ms\n",
      "Speed: 2.0ms preprocess, 164.7ms inference, 1.0ms postprocess per image at shape (1, 3, 384, 640)\n",
      "\n",
      "0: 384x640 (no detections), 170.6ms\n",
      "Speed: 3.0ms preprocess, 170.6ms inference, 4.0ms postprocess per image at shape (1, 3, 384, 640)\n",
      "\n",
      "0: 384x640 (no detections), 212.6ms\n",
      "Speed: 8.7ms preprocess, 212.6ms inference, 1.0ms postprocess per image at shape (1, 3, 384, 640)\n",
      "\n",
      "0: 384x640 (no detections), 159.3ms\n",
      "Speed: 2.0ms preprocess, 159.3ms inference, 2.0ms postprocess per image at shape (1, 3, 384, 640)\n",
      "\n",
      "0: 384x640 (no detections), 167.4ms\n",
      "Speed: 3.0ms preprocess, 167.4ms inference, 1.0ms postprocess per image at shape (1, 3, 384, 640)\n",
      "\n",
      "0: 384x640 (no detections), 160.8ms\n",
      "Speed: 3.0ms preprocess, 160.8ms inference, 1.1ms postprocess per image at shape (1, 3, 384, 640)\n",
      "\n",
      "0: 384x640 (no detections), 168.2ms\n",
      "Speed: 3.0ms preprocess, 168.2ms inference, 1.1ms postprocess per image at shape (1, 3, 384, 640)\n",
      "\n",
      "0: 384x640 (no detections), 163.6ms\n",
      "Speed: 2.0ms preprocess, 163.6ms inference, 1.0ms postprocess per image at shape (1, 3, 384, 640)\n",
      "\n",
      "0: 384x640 (no detections), 188.1ms\n",
      "Speed: 2.0ms preprocess, 188.1ms inference, 2.0ms postprocess per image at shape (1, 3, 384, 640)\n",
      "\n",
      "0: 384x640 (no detections), 330.9ms\n",
      "Speed: 2.0ms preprocess, 330.9ms inference, 2.0ms postprocess per image at shape (1, 3, 384, 640)\n",
      "\n",
      "0: 384x640 (no detections), 198.6ms\n",
      "Speed: 3.0ms preprocess, 198.6ms inference, 1.0ms postprocess per image at shape (1, 3, 384, 640)\n",
      "\n",
      "0: 384x640 (no detections), 192.5ms\n",
      "Speed: 3.3ms preprocess, 192.5ms inference, 2.0ms postprocess per image at shape (1, 3, 384, 640)\n",
      "\n",
      "0: 384x640 1 Fire, 180.6ms\n",
      "Speed: 2.0ms preprocess, 180.6ms inference, 1.0ms postprocess per image at shape (1, 3, 384, 640)\n",
      "\n",
      "0: 384x640 (no detections), 171.4ms\n",
      "Speed: 3.8ms preprocess, 171.4ms inference, 2.0ms postprocess per image at shape (1, 3, 384, 640)\n",
      "\n",
      "0: 384x640 (no detections), 178.5ms\n",
      "Speed: 2.0ms preprocess, 178.5ms inference, 1.0ms postprocess per image at shape (1, 3, 384, 640)\n",
      "\n",
      "0: 384x640 (no detections), 184.1ms\n",
      "Speed: 2.0ms preprocess, 184.1ms inference, 1.1ms postprocess per image at shape (1, 3, 384, 640)\n",
      "\n",
      "0: 384x640 (no detections), 167.5ms\n",
      "Speed: 2.0ms preprocess, 167.5ms inference, 1.0ms postprocess per image at shape (1, 3, 384, 640)\n",
      "\n",
      "0: 384x640 (no detections), 165.5ms\n",
      "Speed: 2.0ms preprocess, 165.5ms inference, 1.0ms postprocess per image at shape (1, 3, 384, 640)\n",
      "\n",
      "0: 384x640 (no detections), 156.6ms\n",
      "Speed: 2.0ms preprocess, 156.6ms inference, 1.0ms postprocess per image at shape (1, 3, 384, 640)\n",
      "\n",
      "0: 384x640 (no detections), 170.4ms\n",
      "Speed: 2.0ms preprocess, 170.4ms inference, 1.0ms postprocess per image at shape (1, 3, 384, 640)\n",
      "\n",
      "0: 384x640 (no detections), 271.1ms\n",
      "Speed: 2.0ms preprocess, 271.1ms inference, 2.0ms postprocess per image at shape (1, 3, 384, 640)\n",
      "\n",
      "0: 384x640 (no detections), 185.3ms\n",
      "Speed: 4.0ms preprocess, 185.3ms inference, 2.0ms postprocess per image at shape (1, 3, 384, 640)\n",
      "\n",
      "0: 384x640 1 Fire, 191.0ms\n",
      "Speed: 2.0ms preprocess, 191.0ms inference, 2.0ms postprocess per image at shape (1, 3, 384, 640)\n",
      "\n",
      "0: 384x640 1 Fire, 172.0ms\n",
      "Speed: 3.0ms preprocess, 172.0ms inference, 2.0ms postprocess per image at shape (1, 3, 384, 640)\n",
      "\n",
      "0: 384x640 2 Fires, 178.2ms\n",
      "Speed: 2.0ms preprocess, 178.2ms inference, 2.0ms postprocess per image at shape (1, 3, 384, 640)\n",
      "\n",
      "0: 384x640 (no detections), 233.0ms\n",
      "Speed: 3.0ms preprocess, 233.0ms inference, 1.0ms postprocess per image at shape (1, 3, 384, 640)\n",
      "\n",
      "0: 384x640 1 Fire, 264.0ms\n",
      "Speed: 2.0ms preprocess, 264.0ms inference, 2.0ms postprocess per image at shape (1, 3, 384, 640)\n",
      "\n",
      "0: 384x640 1 Fire, 213.0ms\n",
      "Speed: 3.0ms preprocess, 213.0ms inference, 2.0ms postprocess per image at shape (1, 3, 384, 640)\n",
      "\n",
      "0: 384x640 2 Fires, 173.0ms\n",
      "Speed: 2.0ms preprocess, 173.0ms inference, 2.0ms postprocess per image at shape (1, 3, 384, 640)\n",
      "\n",
      "0: 384x640 1 Fire, 168.1ms\n",
      "Speed: 3.0ms preprocess, 168.1ms inference, 1.0ms postprocess per image at shape (1, 3, 384, 640)\n",
      "\n",
      "0: 384x640 1 Fire, 182.0ms\n",
      "Speed: 2.0ms preprocess, 182.0ms inference, 2.0ms postprocess per image at shape (1, 3, 384, 640)\n",
      "\n",
      "0: 384x640 1 Fire, 176.0ms\n",
      "Speed: 3.0ms preprocess, 176.0ms inference, 1.0ms postprocess per image at shape (1, 3, 384, 640)\n",
      "\n",
      "0: 384x640 (no detections), 163.0ms\n",
      "Speed: 3.0ms preprocess, 163.0ms inference, 1.0ms postprocess per image at shape (1, 3, 384, 640)\n",
      "\n",
      "0: 384x640 1 Fire, 164.0ms\n",
      "Speed: 2.0ms preprocess, 164.0ms inference, 2.0ms postprocess per image at shape (1, 3, 384, 640)\n",
      "\n",
      "0: 384x640 1 Fire, 173.1ms\n",
      "Speed: 50.0ms preprocess, 173.1ms inference, 1.0ms postprocess per image at shape (1, 3, 384, 640)\n",
      "\n",
      "0: 384x640 (no detections), 178.0ms\n",
      "Speed: 3.0ms preprocess, 178.0ms inference, 2.0ms postprocess per image at shape (1, 3, 384, 640)\n",
      "\n",
      "0: 384x640 (no detections), 164.0ms\n",
      "Speed: 1.0ms preprocess, 164.0ms inference, 2.0ms postprocess per image at shape (1, 3, 384, 640)\n",
      "\n",
      "0: 384x640 2 Fires, 166.0ms\n",
      "Speed: 2.0ms preprocess, 166.0ms inference, 1.0ms postprocess per image at shape (1, 3, 384, 640)\n",
      "\n",
      "0: 384x640 1 Fire, 180.3ms\n",
      "Speed: 3.0ms preprocess, 180.3ms inference, 1.0ms postprocess per image at shape (1, 3, 384, 640)\n",
      "\n",
      "0: 384x640 1 Fire, 163.0ms\n",
      "Speed: 2.0ms preprocess, 163.0ms inference, 2.0ms postprocess per image at shape (1, 3, 384, 640)\n",
      "\n",
      "0: 384x640 1 Fire, 174.0ms\n",
      "Speed: 2.0ms preprocess, 174.0ms inference, 1.0ms postprocess per image at shape (1, 3, 384, 640)\n",
      "\n",
      "0: 384x640 1 Fire, 181.0ms\n",
      "Speed: 15.0ms preprocess, 181.0ms inference, 2.0ms postprocess per image at shape (1, 3, 384, 640)\n",
      "\n",
      "0: 384x640 (no detections), 164.0ms\n",
      "Speed: 3.0ms preprocess, 164.0ms inference, 1.0ms postprocess per image at shape (1, 3, 384, 640)\n",
      "\n",
      "0: 384x640 1 Fire, 199.0ms\n",
      "Speed: 2.0ms preprocess, 199.0ms inference, 2.0ms postprocess per image at shape (1, 3, 384, 640)\n",
      "\n",
      "0: 384x640 1 Fire, 162.0ms\n",
      "Speed: 2.0ms preprocess, 162.0ms inference, 2.0ms postprocess per image at shape (1, 3, 384, 640)\n",
      "\n",
      "0: 384x640 (no detections), 164.0ms\n",
      "Speed: 2.0ms preprocess, 164.0ms inference, 1.0ms postprocess per image at shape (1, 3, 384, 640)\n",
      "\n",
      "0: 384x640 (no detections), 185.0ms\n",
      "Speed: 2.0ms preprocess, 185.0ms inference, 1.0ms postprocess per image at shape (1, 3, 384, 640)\n",
      "\n",
      "0: 384x640 1 Fire, 163.0ms\n",
      "Speed: 3.0ms preprocess, 163.0ms inference, 2.0ms postprocess per image at shape (1, 3, 384, 640)\n",
      "\n",
      "0: 384x640 (no detections), 157.0ms\n",
      "Speed: 2.0ms preprocess, 157.0ms inference, 1.0ms postprocess per image at shape (1, 3, 384, 640)\n",
      "\n",
      "0: 384x640 (no detections), 172.0ms\n",
      "Speed: 3.0ms preprocess, 172.0ms inference, 1.0ms postprocess per image at shape (1, 3, 384, 640)\n",
      "\n",
      "0: 384x640 1 Fire, 166.0ms\n",
      "Speed: 1.0ms preprocess, 166.0ms inference, 2.0ms postprocess per image at shape (1, 3, 384, 640)\n",
      "\n",
      "0: 384x640 1 Fire, 171.0ms\n",
      "Speed: 3.0ms preprocess, 171.0ms inference, 1.0ms postprocess per image at shape (1, 3, 384, 640)\n",
      "\n",
      "0: 384x640 1 Fire, 307.0ms\n",
      "Speed: 3.0ms preprocess, 307.0ms inference, 5.0ms postprocess per image at shape (1, 3, 384, 640)\n",
      "\n",
      "0: 384x640 1 Fire, 303.0ms\n",
      "Speed: 5.0ms preprocess, 303.0ms inference, 2.0ms postprocess per image at shape (1, 3, 384, 640)\n",
      "\n",
      "0: 384x640 2 Fires, 204.0ms\n",
      "Speed: 3.0ms preprocess, 204.0ms inference, 2.0ms postprocess per image at shape (1, 3, 384, 640)\n",
      "\n",
      "0: 384x640 2 Fires, 229.3ms\n",
      "Speed: 3.0ms preprocess, 229.3ms inference, 3.0ms postprocess per image at shape (1, 3, 384, 640)\n",
      "\n",
      "0: 384x640 2 Fires, 186.0ms\n",
      "Speed: 3.0ms preprocess, 186.0ms inference, 2.0ms postprocess per image at shape (1, 3, 384, 640)\n",
      "\n",
      "0: 384x640 1 Fire, 168.0ms\n",
      "Speed: 2.0ms preprocess, 168.0ms inference, 2.0ms postprocess per image at shape (1, 3, 384, 640)\n",
      "\n",
      "0: 384x640 1 Fire, 160.0ms\n",
      "Speed: 3.0ms preprocess, 160.0ms inference, 2.0ms postprocess per image at shape (1, 3, 384, 640)\n",
      "\n",
      "0: 384x640 1 Fire, 153.0ms\n",
      "Speed: 3.0ms preprocess, 153.0ms inference, 1.0ms postprocess per image at shape (1, 3, 384, 640)\n",
      "\n",
      "0: 384x640 1 Fire, 169.0ms\n",
      "Speed: 2.0ms preprocess, 169.0ms inference, 2.0ms postprocess per image at shape (1, 3, 384, 640)\n",
      "\n",
      "0: 384x640 2 Fires, 167.0ms\n",
      "Speed: 2.0ms preprocess, 167.0ms inference, 1.0ms postprocess per image at shape (1, 3, 384, 640)\n",
      "\n",
      "0: 384x640 1 Fire, 178.0ms\n",
      "Speed: 3.0ms preprocess, 178.0ms inference, 2.0ms postprocess per image at shape (1, 3, 384, 640)\n",
      "\n",
      "0: 384x640 2 Fires, 171.0ms\n",
      "Speed: 3.0ms preprocess, 171.0ms inference, 3.0ms postprocess per image at shape (1, 3, 384, 640)\n",
      "\n",
      "0: 384x640 2 Fires, 166.0ms\n",
      "Speed: 3.0ms preprocess, 166.0ms inference, 2.0ms postprocess per image at shape (1, 3, 384, 640)\n",
      "\n",
      "0: 384x640 2 Fires, 170.0ms\n",
      "Speed: 2.0ms preprocess, 170.0ms inference, 2.0ms postprocess per image at shape (1, 3, 384, 640)\n",
      "\n",
      "0: 384x640 2 Fires, 167.0ms\n",
      "Speed: 2.0ms preprocess, 167.0ms inference, 2.0ms postprocess per image at shape (1, 3, 384, 640)\n",
      "\n",
      "0: 384x640 2 Fires, 178.0ms\n",
      "Speed: 3.0ms preprocess, 178.0ms inference, 1.0ms postprocess per image at shape (1, 3, 384, 640)\n",
      "\n",
      "0: 384x640 1 Fire, 195.8ms\n",
      "Speed: 26.0ms preprocess, 195.8ms inference, 3.0ms postprocess per image at shape (1, 3, 384, 640)\n",
      "\n",
      "0: 384x640 1 Fire, 174.0ms\n",
      "Speed: 2.0ms preprocess, 174.0ms inference, 2.0ms postprocess per image at shape (1, 3, 384, 640)\n",
      "\n",
      "0: 384x640 1 Fire, 167.0ms\n",
      "Speed: 3.0ms preprocess, 167.0ms inference, 1.0ms postprocess per image at shape (1, 3, 384, 640)\n",
      "\n",
      "0: 384x640 1 Fire, 175.0ms\n",
      "Speed: 3.0ms preprocess, 175.0ms inference, 1.0ms postprocess per image at shape (1, 3, 384, 640)\n",
      "\n",
      "0: 384x640 2 Fires, 174.0ms\n",
      "Speed: 5.0ms preprocess, 174.0ms inference, 2.0ms postprocess per image at shape (1, 3, 384, 640)\n",
      "\n",
      "0: 384x640 3 Fires, 179.0ms\n",
      "Speed: 2.0ms preprocess, 179.0ms inference, 1.0ms postprocess per image at shape (1, 3, 384, 640)\n"
     ]
    }
   ],
   "source": [
    "model = YOLO('last.pt')\n",
    "\n",
    "source = \"pexels_videos_2646935.mp4\"\n",
    "cap = cv2.VideoCapture(source)\n",
    "\n",
    "while cap.isOpened():\n",
    "    success, frame = cap.read()\n",
    "\n",
    "    if success:\n",
    "        results = model(frame)\n",
    "        annotated_frame = results[0].plot()\n",
    "        cv2.imshow(\"YOLOv8 Inference\", annotated_frame)\n",
    "        if cv2.waitKey(1) & 0xFF == ord(\"q\"):\n",
    "            break\n",
    "    else:\n",
    "        break\n",
    "cap.release()\n",
    "cv2.destroyAllWindows()"
   ]
  }
 ],
 "metadata": {
  "kernelspec": {
   "display_name": "Python 3",
   "language": "python",
   "name": "python3"
  },
  "language_info": {
   "codemirror_mode": {
    "name": "ipython",
    "version": 3
   },
   "file_extension": ".py",
   "mimetype": "text/x-python",
   "name": "python",
   "nbconvert_exporter": "python",
   "pygments_lexer": "ipython3",
   "version": "3.8.10"
  },
  "orig_nbformat": 4
 },
 "nbformat": 4,
 "nbformat_minor": 2
}
